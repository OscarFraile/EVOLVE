{
 "cells": [
  {
   "cell_type": "markdown",
   "id": "decent-profit",
   "metadata": {},
   "source": [
    "# Manejo de errores"
   ]
  },
  {
   "cell_type": "markdown",
   "id": "positive-length",
   "metadata": {
    "toc": true
   },
   "source": [
    "<h1>Índice<span class=\"tocSkip\"></span></h1>\n",
    "<div class=\"toc\"><ul class=\"toc-item\"><li><span><a href=\"#Introducción\" data-toc-modified-id=\"Introducción-1\"><span class=\"toc-item-num\">1&nbsp;&nbsp;</span>Introducción</a></span></li><li><span><a href=\"#Errores de sintaxis\" data-toc-modified-id=\"Errores de sintaxis-2\"><span class=\"toc-item-num\">2&nbsp;&nbsp;</span>Errores de sintaxis</a></span></li><li><span><a href=\"#Excepciones-/-Errores\" data-toc-modified-id=\"Excepciones-/-Errores-3\"><span class=\"toc-item-num\">3&nbsp;&nbsp;</span>Excepciones/Errores</a></span><ul class=\"toc-item\"><li><span><a href=\"#LookupError\" data-toc-modified-id=\"LookupError-3.1\"><span class=\"toc-item-num\">3.1&nbsp;&nbsp;</span>LookupError</a></span><ul class=\"toc-item\"><li><span><a href=\"#KeyError\" data-toc-modified-id=\"KeyError-3.1.1\"><span class=\"toc-item-num\">3.1.1&nbsp;&nbsp;</span>KeyError</a></span></li><li><span><a href=\"#IndexError\" data-toc-modified-id=\"ErrorDeÍndice-3.1.2\"><span class=\"número-de-elemento-de-toc\">3.1.2&nbsp;&nbsp;</span>ErrorDeÍndice</a></span></li></ul></li><li><span><a href=\"#ErrorDeImportación\" data-toc-modified-id=\"ErrorDeImportación-3.2\"><span class=\"número-de-elemento-de-toc\">3.2&nbsp;&nbsp;</span>ErrorDeImportación</a></span></li><li><span><a href=\"#ErrorDeAtributo\" data-toc-modified-id=\"ErrorDeAtributo-3.3\"><span class=\"número-de-elemento-de-toc\">3.3&nbsp;&nbsp;</span>ErrorDeAtributo</a></span></li><li><span><a href=\"#ErrorValor\" data-toc-modified-id=\"ErrorValor-3.4\"><span class=\"toc-item-num\">3.4&nbsp;&nbsp;</span>ErrorValor</a></span></li><li><span><a href=\"#ErrorTipo\" data-toc-modified-id=\"ErrorTipo-3.5\"><span class=\"toc-item-num\">3.5&nbsp;&nbsp;</span>ErrorTipo</a></span></li><li><span><a href=\"#ErrorSistema de Error\" data-toc-modified-id=\"ErrorTipo-3.6\"><span class=\"toc-item-num\">3.6&nbsp;&nbsp;</span>ErrorSistema de Error</a></span><ul class=\"toc-item\"><li><span><a href=\"#FileNotFoundError\" data-toc-modified-id=\"FileNotFoundError-3.6.1\"><span class=\"toc-item-num\">3.6.1&nbsp;&nbsp;</span>FileNotFoundError</a></span></li></ul></li><li><span><a href=\"#TimeOutError\" data-toc-modified-id=\"TimeOutError-3.7\"><span class=\"toc-item-num\">3.7&nbsp;&nbsp;</span>TimeOutError</a></span></li></ul></li><li><span><a href=\"#Manejo de excepciones\" data-toc-modified-id=\"Manejo de excepciones-4\"><span class=\"toc-item-num\">4&nbsp;&nbsp;</span>Excepción manejo</a></span><ul class=\"toc-item\"><li><span><a href=\"#Qué-no-hacer-al-manejar-excepciones\" data-toc-modified-id=\"Qué-no-hacer-al-manejar-excepciones-4.1\"><span class=\"toc-item-num\">4.1&nbsp;&nbsp;</span>Qué no hacer al manejar excepciones</a></span></li></ul></li><li><span><a href=\"#Validacion-de-datos-con-assert\" data-toc-modified-id=\"Validacion-de-datos-con-assert-5\"><span class=\"toc-item-num\">5&nbsp;&nbsp;</span>Validacion de datos con <code>assert</code></a></span></li><li><span><a href=\"#Raise-errors\" data-toc-modified-id=\"Generar-errores-6\"><span class=\"toc-item-num\">6&nbsp;&nbsp;</span>Generar errores</a></span></li><li><span><a href=\"#Resumen\" data-toc-modified-id=\"Resumen-7\"><span class=\"toc-item-num\">7&nbsp;&nbsp;</span>Resumen</a></span></li></ul></div>"
   ]
  },
  {
   "cell_type": "markdown",
   "id": "2a0e59df",
   "metadata": {
    "lang": "en"
   },
   "source": [
    "## Introducción"
   ]
  },
  {
   "cell_type": "code",
   "execution_count": 1,
   "id": "f9b79396",
   "metadata": {},
   "outputs": [],
   "source": [
    "# syntax\n",
    "# logical"
   ]
  },
  {
   "cell_type": "code",
   "execution_count": null,
   "id": "dc63bbf8-ef2e-4ca2-a311-3e7664ae24ab",
   "metadata": {},
   "outputs": [],
   "source": []
  },
  {
   "cell_type": "markdown",
   "id": "ab975d62",
   "metadata": {
    "lang": "en"
   },
   "source": [
    "Los ejemplos anteriores son ejemplos de declaraciones no válidas que conducen a diferentes tipos de errores en Python.\n",
    "El primero es un error de sintaxis, faltan los dos puntos después de True; mientras que el segundo es un error de tiempo de ejecución debido a la división por cero. Los errores de sintaxis y los errores de tiempo de ejecución se tratan de manera diferente en este lenguaje de programación y es esencial prevenirlos y abordarlos al escribir cualquier programa.\n",
    "Desde el comienzo de los lenguajes de programación, el manejo de errores ha sido uno de los problemas más difíciles. Es tan complicado diseñar un buen esquema de manejo de errores que muchos lenguajes simplemente lo ignoran."
   ]
  },
  {
   "cell_type": "markdown",
   "id": "787b2a46",
   "metadata": {
    "lang": "en"
   },
   "source": [
    "## Errores de Sintaxis\n",
    "Este tipo de errores, también conocidos como errores de sintaxis o del intérprete de Python, son habituales cuando empezamos con un lenguaje de programación, y más aún si previamente hemos programado en otros lenguajes. Se deben al desconocimiento u olvido de las reglas léxicas que establece Python, y que el intérprete detectará antes de lanzar la ejecución del programa. Se trata, por tanto, de expresiones mal formadas. Los lenguajes compilados como C realizan un análisis del código para producir un archivo ejecutable, lo que permite atrapar dichos errores antes de ejecutar el programa. En el caso de los lenguajes interpretados, como Python, al no existir dicha fase previa, no tenemos la oportunidad de detectar estos errores. El intérprete acepta nuestro código con la incertidumbre de su corrección, aunque será consciente de ello nada más leer el programa, es decir, al lanzarlo y antes de ejecutar cada una de las instrucciones.\n",
    "El intérprete de Python procesa cada sentencia línea a línea, y si detecta un error de sintaxis dejará de procesarlo, mostrando una pequeña flecha donde se ha detectado el error. Por ejemplo, en el ejemplo anterior:"
   ]
  },
  {
   "cell_type": "code",
   "execution_count": null,
   "id": "43d5d2a3-7642-4adc-97cc-3187b3557909",
   "metadata": {},
   "outputs": [],
   "source": []
  },
  {
   "cell_type": "code",
   "execution_count": null,
   "id": "2ff69e77",
   "metadata": {},
   "outputs": [],
   "source": [
    "# lectura: try except no funciona\n",
    "    # tipado dinámico\n",
    "    # sintaxis\n",
    "     \n",
    "# ejecucion: try except aquí sí\n",
    "    # lógica?\n",
    "    # "
   ]
  },
  {
   "cell_type": "code",
   "execution_count": 21,
   "id": "moving-village",
   "metadata": {},
   "outputs": [
    {
     "data": {
      "text/plain": [
       "'Colorless green ideas sleep furiosuly'"
      ]
     },
     "execution_count": 21,
     "metadata": {},
     "output_type": "execute_result"
    }
   ],
   "source": [
    "\"Colorless green ideas sleep furiosuly\""
   ]
  },
  {
   "cell_type": "code",
   "execution_count": null,
   "id": "02aec5a5-1d5e-4a5f-864c-6b67afa46e2d",
   "metadata": {},
   "outputs": [],
   "source": []
  },
  {
   "cell_type": "markdown",
   "id": "9a8f419f",
   "metadata": {},
   "source": [
    "`Corrección de errores de sintaxis`:"
   ]
  },
  {
   "cell_type": "code",
   "execution_count": null,
   "id": "0db99f50-e9f0-4a43-af3a-388abeb42913",
   "metadata": {},
   "outputs": [],
   "source": []
  },
  {
   "cell_type": "markdown",
   "id": "1a34bf0a",
   "metadata": {
    "lang": "en"
   },
   "source": [
    "Es de gran ayuda ya que nos indica el lugar donde ha detectado el error y, además, nos proporciona información sobre el mismo. En este caso nos está indicando que la sintaxis del print no es correcta, para que nos demos cuenta de que estamos cometiendo un error al no poner los dos puntos después del True.\n",
    "En un mensaje de error de sintaxis distinguimos dos partes:\n",
    "- La ruta del error: En el ejemplo anterior, todas las líneas excepto la última.\n",
    "- La descripción del error: en el ejemplo anterior, la última línea.\n",
    "\n",
    "Los errores de sintaxis suelen ser fáciles de solucionar, pero a veces un error que se dispara en un punto puede venir de otro punto y esa ruta de error (o traceback) va en orden descendente desde el punto en el que se disparó el error, pasando por varios puntos intermedios (si los hay) hasta el punto en el que se produjo el error. En la práctica, esto significa que si no encontramos nada en la línea donde se indica el error, tendremos que revisar las instrucciones anteriores hasta encontrarlo."
   ]
  },
  {
   "cell_type": "markdown",
   "id": "d5e4b906",
   "metadata": {
    "lang": "en"
   },
   "source": [
    "## Excepciones / Errores \n",
    "Una excepción es un error lógico que ocurre en tiempo de ejecución. En este caso, la sintaxis de las instrucciones es correcta y, por este motivo, el intérprete de Python no se detendrá ni mostrará ningún error al lanzar el programa, sino que en el momento de la ejecución se detendrá y mostrará un error, esto es lo que se llama un \"error en tiempo de ejecución\".\n",
    "Las excepciones están asociadas a diferentes tipos, y ese mismo tipo es el que se muestra en el mensaje de error. Además de esta información, también se muestran detalles que indican la causa del error. Todo esto permitirá tener la información suficiente para encontrar el fallo y solucionarlo o gestionarlo.\n",
    "Algunos ejemplos de excepciones son los siguientes:\n",
    "- ZeroDivisionError: división por cero\n",
    "- NameError: el nombre 'dflhjka' no está definido\n",
    "- TypeError: solo puede concatenar str (no \"int\") a str\n",
    "\n",
    "Python tiene una serie de excepciones predefinidas, divididas en excepciones base y excepciones concretas. Las excepciones base son más genéricas y agrupan los distintos tipos de forma más específica, lo que te permitirá hacer un tratamiento más general en tus programas. Por el contrario, las excepciones concretas ofrecen más detalle del error producido.\n",
    "\n",
    "🚨⚠️Documentación [AQUÍ](https://docs.python.org/3/library/exceptions.html)⚠️🚨\n",
    "\n",
    "Veamos algunas:"
   ]
  },
  {
   "cell_type": "markdown",
   "id": "49616421",
   "metadata": {
    "lang": "en"
   },
   "source": [
    "### LookupError\n",
    "Esta es la clase base para las excepciones que se generan cuando una clave o un índice utilizado en una asignación o secuencia no es válido: IndexError, KeyError.\n",
    "#### KeyError\n",
    "Se activa cuando no se encuentra una clave de asignación (diccionario) en el conjunto de claves existentes."
   ]
  },
  {
   "cell_type": "code",
   "execution_count": null,
   "id": "231da7f0-7308-40b2-ade0-37a5b7d2c661",
   "metadata": {},
   "outputs": [],
   "source": []
  },
  {
   "cell_type": "markdown",
   "id": "51499c48",
   "metadata": {
    "lang": "en"
   },
   "source": [
    "#### IndexError\n",
    "Se lanza cuando un subíndice en la secuencia está fuera de rango."
   ]
  },
  {
   "cell_type": "code",
   "execution_count": null,
   "id": "0d70d9d8-1f28-43b7-a635-b3c829281f84",
   "metadata": {},
   "outputs": [],
   "source": []
  },
  {
   "cell_type": "markdown",
   "id": "be0e47c1",
   "metadata": {
    "lang": "en"
   },
   "source": [
    "### ImportError\n",
    "Se produce cuando hay problemas al cargar un módulo o cuando no se encuentra. es la clase base de la excepción `ModuleNotFoundError`"
   ]
  },
  {
   "cell_type": "code",
   "execution_count": null,
   "id": "c4ef4293-611b-412b-8a8b-d12458b19961",
   "metadata": {},
   "outputs": [],
   "source": []
  },
  {
   "cell_type": "markdown",
   "id": "7ee3177f",
   "metadata": {
    "lang": "en"
   },
   "source": [
    "### AttributeError\n",
    "Se lanza cuando falla una referencia a un atributo o una asignación."
   ]
  },
  {
   "cell_type": "code",
   "execution_count": null,
   "id": "4ba9df6f-20df-4243-9a70-4b3bb998d24b",
   "metadata": {},
   "outputs": [],
   "source": []
  },
  {
   "cell_type": "code",
   "execution_count": 52,
   "id": "8a757e7f",
   "metadata": {},
   "outputs": [],
   "source": [
    "#  AttributeError: 'NoneType' object has no attribute 'something'"
   ]
  },
  {
   "cell_type": "markdown",
   "id": "9fd663c8",
   "metadata": {
    "lang": "en"
   },
   "source": [
    "### ValueError\n",
    "Se genera cuando una función recibe un argumento de un tipo correcto, pero con un valor incorrecto.\n",
    "Pasar argumentos del tipo incorrecto (por ejemplo, pasar una lista cuando se espera un int) debería generar un TypeError, pero pasar argumentos con el valor incorrecto (por ejemplo, un número fuera de los límites esperados) debería generar un ValueError."
   ]
  },
  {
   "cell_type": "code",
   "execution_count": null,
   "id": "85292937-bbb6-4081-8187-607f9b5ea857",
   "metadata": {},
   "outputs": [],
   "source": []
  },
  {
   "cell_type": "markdown",
   "id": "f5fbf98e",
   "metadata": {
    "lang": "en"
   },
   "source": [
    "### TypeError\n",
    "Se produce cuando se aplica una operación o función a un objeto del tipo incorrecto. El valor asociado es una cadena que proporciona detalles sobre la falta de coincidencia de tipos."
   ]
  },
  {
   "cell_type": "code",
   "execution_count": null,
   "id": "d7161204-e3d7-4fb2-8163-929bab618a75",
   "metadata": {},
   "outputs": [],
   "source": []
  },
  {
   "cell_type": "markdown",
   "id": "94f5f2bf",
   "metadata": {
    "lang": "en"
   },
   "source": [
    "### OSError\n",
    "Se produce cuando se produce un error relacionado con el sistema, como un fallo en una operación de entrada/salida, archivos no encontrados, etc. Es la clase base y las excepciones que más veremos son:"
   ]
  },
  {
   "cell_type": "code",
   "execution_count": null,
   "id": "c12ede31-2b5b-4a5f-99f8-14fb154df4cd",
   "metadata": {},
   "outputs": [],
   "source": []
  },
  {
   "cell_type": "markdown",
   "id": "678f4a80",
   "metadata": {},
   "source": [
    "#### FileNotFoundError\n",
    "El archivo o directorio no existe"
   ]
  },
  {
   "cell_type": "code",
   "execution_count": null,
   "id": "b4e6aa12-23b8-48ea-bc73-fd646b4f846b",
   "metadata": {},
   "outputs": [],
   "source": []
  },
  {
   "cell_type": "markdown",
   "id": "611249ca",
   "metadata": {
    "lang": "en"
   },
   "source": [
    "### TimeOutError\n",
    "Se produce cuando se excede el tiempo de espera (lo veremos en Katas y llamadas API, no lo manejaremos como tal)"
   ]
  },
  {
   "cell_type": "code",
   "execution_count": null,
   "id": "1028d827-6576-42d9-a0e6-bd4bb75affa0",
   "metadata": {},
   "outputs": [],
   "source": []
  },
  {
   "cell_type": "markdown",
   "id": "cb685743",
   "metadata": {
    "lang": "en"
   },
   "source": [
    "## Manejo de excepciones\n",
    "El manejo de excepciones es una técnica de programación para controlar los errores que ocurren durante la ejecución de una aplicación. Se manejan de forma similar a una sentencia condicional. Si no ocurre una excepción (General o específica), que sería el caso normal, la aplicación continúa con las siguientes instrucciones y, si ocurre una, se ejecutarán las instrucciones indicadas por el desarrollador para su tratamiento, pudiendo continuar la aplicación o detenerla, según el caso. El manejo de excepciones en Python comienza con una estructura de palabras clave, como esta:\n",
    "```python\n",
    "try:\n",
    "instrucciones\n",
    "except:\n",
    "instrucciones si ocurre esa excepción\n",
    "```"
   ]
  },
  {
   "cell_type": "code",
   "execution_count": null,
   "id": "1d3b9519-9594-4a39-99fe-8680dddc84ca",
   "metadata": {},
   "outputs": [],
   "source": []
  },
  {
   "cell_type": "markdown",
   "id": "289d32a8",
   "metadata": {
    "lang": "en"
   },
   "source": [
    "En esta gestión de excepciones, el tipo de excepción puede ser genérico o específico. La mejor forma de controlar y manejar lo ocurrido es hacerlo lo más específico posible, escribiendo múltiples cláusulas except para el mismo try, cada una manejando un tipo de excepción diferente. Esto es recomendable porque de esta forma haremos una gestión más precisa de los casos de error detectados.\n",
    "```python\n",
    "try:\n",
    "instrucciones\n",
    "except exception type 1:\n",
    "instrucciones si ocurre esa excepción 1\n",
    "except exception type 2:\n",
    "instrucciones si ocurre esa excepción\n",
    "```"
   ]
  },
  {
   "cell_type": "code",
   "execution_count": null,
   "id": "8ed3fcae-0119-4f6d-b1d4-1dc32a09b6cf",
   "metadata": {},
   "outputs": [],
   "source": []
  },
  {
   "cell_type": "code",
   "execution_count": null,
   "id": "a77ff828",
   "metadata": {},
   "outputs": [],
   "source": []
  },
  {
   "cell_type": "markdown",
   "id": "f98b0eef",
   "metadata": {
    "lang": "en"
   },
   "source": [
    "### Qué no hacer al gestionar excepciones"
   ]
  },
  {
   "cell_type": "code",
   "execution_count": null,
   "id": "929e8510-584e-4695-9e8b-4762c7c12828",
   "metadata": {},
   "outputs": [],
   "source": []
  },
  {
   "cell_type": "markdown",
   "id": "0b3f1a0f",
   "metadata": {},
   "source": [
    "⚠️: A EVITAR"
   ]
  },
  {
   "cell_type": "code",
   "execution_count": null,
   "id": "02fc35fb",
   "metadata": {},
   "outputs": [],
   "source": []
  },
  {
   "cell_type": "markdown",
   "id": "1b5badee",
   "metadata": {
    "lang": "en"
   },
   "source": [
    "## Validación de datos con `assert`"
   ]
  },
  {
   "cell_type": "markdown",
   "id": "d629a7b9",
   "metadata": {
    "lang": "en"
   },
   "source": [
    "Python proporciona una forma de establecer condiciones exigibles, es decir, condiciones que un objeto debe cumplir o de lo contrario se lanzará una excepción. Es como una especie de \"red de seguridad\" ante posibles fallos del programador. La sentencia `assert` añade controles para la depuración de un programa. Nos permite expresar una condición que siempre debe ser verdadera, y que, en caso de no serlo, interrumpirá el programa, generando una excepción a gestionar llamada AssertionError. La forma de llamar a esta expresión es la siguiente:\n",
    "```python\n",
    "assert boolean condition\n",
    "```\n",
    "En caso de que la expresión booleana sea verdadera, assert no hace nada. Si es falsa, lanza una excepción. Veamos un ejemplo para entenderlo."
   ]
  },
  {
   "cell_type": "code",
   "execution_count": null,
   "id": "2866c588-cbd9-497a-a995-3ea46126da0f",
   "metadata": {},
   "outputs": [],
   "source": []
  },
  {
   "cell_type": "markdown",
   "id": "85fa8694",
   "metadata": {
    "lang": "en"
   },
   "source": [
    "## Generar errores\n",
    "Escribimos una función que multiplica un número por 2 siempre que el argumento de entrada sea un entero."
   ]
  },
  {
   "cell_type": "code",
   "execution_count": null,
   "id": "a0bf0c8f-9cf0-4f33-8212-abf1910cb9cc",
   "metadata": {},
   "outputs": [],
   "source": []
  },
  {
   "cell_type": "markdown",
   "id": "41d8c8f4",
   "metadata": {
    "lang": "en"
   },
   "source": [
    "Pedimos al usuario que introduzca el carácter c para continuar o el carácter f para finalizar. Sin embargo, no podemos garantizar que siempre introduzca alguno de estos caracteres. Por ello, creamos nuestra propia excepción, a la que llamamos MyException. De esta forma, si el usuario introduce un carácter distinto a c y f, se lanzará la excepción creada y se mostrará un mensaje de error indicando que el carácter introducido no es válido."
   ]
  },
  {
   "cell_type": "code",
   "execution_count": null,
   "id": "0b07451d-23b8-41f2-9810-b201a0d8fcba",
   "metadata": {},
   "outputs": [],
   "source": []
  },
  {
   "cell_type": "markdown",
   "id": "7b938acd",
   "metadata": {},
   "source": [
    "El uso de except Exception nos permitirá verificar más adelante el tipo que era:\n",
    "\n",
    "```python\n",
    "except Exception as variable_saved:\n",
    "# TypeError\n",
    "print(type(variable_saved))\n",
    "\n",
    "except: \n",
    "```"
   ]
  },
  {
   "cell_type": "markdown",
   "id": "16cf46ff",
   "metadata": {
    "lang": "en"
   },
   "source": [
    "## Resumen\n",
    "Ahora te toca a ti, ¿qué hemos aprendido hoy?"
   ]
  },
  {
   "cell_type": "code",
   "execution_count": null,
   "id": "41ddde34-c373-4afd-acd4-80f95bde553f",
   "metadata": {},
   "outputs": [],
   "source": []
  }
 ],
 "metadata": {
  "author": "https://github.com/breogann",
  "created": "2021",
  "kernelspec": {
   "display_name": "Python 3 (ipykernel)",
   "language": "python",
   "name": "python3"
  },
  "language_info": {
   "codemirror_mode": {
    "name": "ipython",
    "version": 3
   },
   "file_extension": ".py",
   "mimetype": "text/x-python",
   "name": "python",
   "nbconvert_exporter": "python",
   "pygments_lexer": "ipython3",
   "version": "3.9.24"
  },
  "nbTranslate": {
   "displayLangs": [
    "en",
    "es"
   ],
   "hotkey": "alt-a",
   "langInMainMenu": true,
   "sourceLang": "es",
   "targetLang": "en",
   "useGoogleTranslate": true
  },
  "toc": {
   "base_numbering": 1,
   "nav_menu": {},
   "number_sections": true,
   "sideBar": true,
   "skip_h1_title": true,
   "title_cell": "Table of Contents",
   "title_sidebar": "Contents",
   "toc_cell": true,
   "toc_position": {
    "height": "calc(100% - 180px)",
    "left": "10px",
    "top": "150px",
    "width": "165px"
   },
   "toc_section_display": true,
   "toc_window_display": true
  }
 },
 "nbformat": 4,
 "nbformat_minor": 5
}
