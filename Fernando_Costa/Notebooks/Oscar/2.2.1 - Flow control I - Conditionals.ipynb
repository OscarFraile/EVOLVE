{
  "cells": [
    {
      "cell_type": "markdown",
      "id": "italic-editor",
      "metadata": {},
      "source": [
        "# FLOW CONTROL"
      ]
    },
    {
      "cell_type": "markdown",
      "id": "c88b9f2d-98a9-4455-87f5-7a0f2c4628ee",
      "metadata": {},
      "source": [
        "- **Operadores**\n",
        "    - Artiméticos\n",
        "    - Asignación\n",
        "    - Relacionales\n",
        "    - Lógicos"
      ]
    },
    {
      "cell_type": "markdown",
      "id": "143f947d",
      "metadata": {
        "lang": "en"
      },
      "source": [
        "## Operadores aritméticos"
      ]
    },
    {
      "cell_type": "markdown",
      "id": "9aecbca0",
      "metadata": {
        "lang": "en"
      },
      "source": [
        "Los operadores aritméticos se utilizan para realizar operaciones aritméticas, es decir, manipular datos numéricos mediante operaciones matemáticas como la suma, la resta o la multiplicación..."
      ]
    },
    {
      "cell_type": "markdown",
      "id": "284f7b5b-2cc6-4419-a442-1ac14787d84b",
      "metadata": {},
      "source": [
        "`suma`"
      ]
    },
    {
      "cell_type": "code",
      "execution_count": 5,
      "id": "337ffd26",
      "metadata": {},
      "outputs": [],
      "source": [
        "a = 5\n",
        "b = 10"
      ]
    },
    {
      "cell_type": "code",
      "execution_count": 6,
      "id": "b567ae14",
      "metadata": {},
      "outputs": [
        {
          "data": {
            "text/plain": [
              "15"
            ]
          },
          "execution_count": 6,
          "metadata": {},
          "output_type": "execute_result"
        }
      ],
      "source": [
        "a + b"
      ]
    },
    {
      "cell_type": "markdown",
      "id": "41e5d2ff-dc06-45d8-b1be-433a577e82fc",
      "metadata": {},
      "source": [
        "`resta`"
      ]
    },
    {
      "cell_type": "code",
      "execution_count": 7,
      "id": "c887a8e5-ecc6-4cc6-85de-bcc2a33396d9",
      "metadata": {},
      "outputs": [
        {
          "data": {
            "text/plain": [
              "5"
            ]
          },
          "execution_count": 7,
          "metadata": {},
          "output_type": "execute_result"
        }
      ],
      "source": [
        "b - a"
      ]
    },
    {
      "cell_type": "markdown",
      "id": "a18a56da-0060-4221-a532-1afdcc52c2a2",
      "metadata": {},
      "source": [
        "`multiplicación`"
      ]
    },
    {
      "cell_type": "code",
      "execution_count": 8,
      "id": "9fd91b0a-94cb-44d8-82cd-668debfc45d9",
      "metadata": {},
      "outputs": [
        {
          "data": {
            "text/plain": [
              "50"
            ]
          },
          "execution_count": 8,
          "metadata": {},
          "output_type": "execute_result"
        }
      ],
      "source": [
        "a * b"
      ]
    },
    {
      "cell_type": "markdown",
      "id": "f0384dcf-e13e-498d-b152-7aa7556fdd13",
      "metadata": {},
      "source": [
        "`división`"
      ]
    },
    {
      "cell_type": "code",
      "execution_count": 9,
      "id": "422e96cd-0195-4419-9fce-df5c146d6ff5",
      "metadata": {},
      "outputs": [
        {
          "data": {
            "text/plain": [
              "0.5"
            ]
          },
          "execution_count": 9,
          "metadata": {},
          "output_type": "execute_result"
        }
      ],
      "source": [
        "a/b"
      ]
    },
    {
      "cell_type": "markdown",
      "id": "e4ed17c8-f822-4140-ba4c-14ffa551e352",
      "metadata": {},
      "source": [
        "`floor division`"
      ]
    },
    {
      "cell_type": "code",
      "execution_count": 10,
      "id": "427d0c23",
      "metadata": {},
      "outputs": [
        {
          "data": {
            "text/plain": [
              "0"
            ]
          },
          "execution_count": 10,
          "metadata": {},
          "output_type": "execute_result"
        }
      ],
      "source": [
        "a//b"
      ]
    },
    {
      "cell_type": "markdown",
      "id": "ac8964d6-302f-4b10-b263-a28de9ac3c5b",
      "metadata": {},
      "source": [
        "`potencia`"
      ]
    },
    {
      "cell_type": "code",
      "execution_count": 11,
      "id": "35801d9a",
      "metadata": {},
      "outputs": [
        {
          "data": {
            "text/plain": [
              "9765625"
            ]
          },
          "execution_count": 11,
          "metadata": {},
          "output_type": "execute_result"
        }
      ],
      "source": [
        "a**b"
      ]
    },
    {
      "cell_type": "markdown",
      "id": "4e284377-0245-4b7f-a2a6-26612ea30ac6",
      "metadata": {},
      "source": [
        "`modulo`"
      ]
    },
    {
      "cell_type": "code",
      "execution_count": 12,
      "id": "ca7a528c",
      "metadata": {},
      "outputs": [
        {
          "data": {
            "text/plain": [
              "5"
            ]
          },
          "execution_count": 12,
          "metadata": {},
          "output_type": "execute_result"
        }
      ],
      "source": [
        "#Modulo\n",
        "a % b"
      ]
    },
    {
      "cell_type": "markdown",
      "id": "e6aaec42",
      "metadata": {
        "lang": "en"
      },
      "source": [
        "## Operadores de asignación"
      ]
    },
    {
      "cell_type": "markdown",
      "id": "3e1e56bd",
      "metadata": {
        "lang": "en"
      },
      "source": [
        "Los operadores de asignación son aquellos que permiten dar un valor a una variable o modificarla. Python tiene ocho operadores de asignación diferentes: un operador de asignación simple y siete operadores de asignación compuestos."
      ]
    },
    {
      "cell_type": "markdown",
      "id": "fc5d346e",
      "metadata": {
        "lang": "en"
      },
      "source": [
        "* `=` Asignación simple `a=b`\n",
        "* `+=` Asignación de suma `a+=b` Equivalente simple `a=a+b`\n",
        "* `-=` Asignación de resta `a-=b` Equivalente simple `a=a-b`\n",
        "* `*=` Asignación de multiplicación `a*=b` Equivalente simple `a=a*b`\n",
        "* `/=` Asignación de división `a/=b` Equivalente simple `a=a/b`\n",
        "* `%=` Asignación de módulo `a/=b` Equivalente simple `a=a%b`\n",
        "* `//=` Asignación de división de enteros `a//=b` Equivalente simple `a=a//b`"
      ]
    },
    {
      "cell_type": "code",
      "execution_count": 14,
      "id": "6ffc7137",
      "metadata": {},
      "outputs": [
        {
          "name": "stdout",
          "output_type": "stream",
          "text": [
            "54\n"
          ]
        }
      ],
      "source": [
        "estudiantes = [40, 2, 5]\n",
        "counter = 7\n",
        "for num in estudiantes:\n",
        "    counter += num\n",
        "print(counter)"
      ]
    },
    {
      "cell_type": "code",
      "execution_count": 19,
      "id": "59cac45f",
      "metadata": {},
      "outputs": [
        {
          "name": "stdout",
          "output_type": "stream",
          "text": [
            "Ana (empieza por 'a'!)\n",
            "alberto (empieza por 'a'!)\n",
            "Total de estudiantes procesados: 4\n"
          ]
        }
      ],
      "source": [
        "estudiantes = ['Ana', 'Luis', 'Carlos', 'alberto']\n",
        "counter = 0\n",
        "for nombre in estudiantes:\n",
        "    counter += 1\n",
        "    if nombre.lower().startswith('a'):\n",
        "        print(f\"{nombre} (empieza por 'a'!)\")\n",
        "print(f\"Total de estudiantes procesados: {counter}\")"
      ]
    },
    {
      "cell_type": "code",
      "execution_count": 21,
      "id": "6111d71a",
      "metadata": {},
      "outputs": [
        {
          "name": "stdout",
          "output_type": "stream",
          "text": [
            "Ana (empieza por 'a'!)\n",
            "alberto (empieza por 'a'!)\n",
            "Total de estudiantes procesados: 2\n",
            "Total de iteraciones: 4\n"
          ]
        }
      ],
      "source": [
        "estudiantes = ['Ana', 'Luis', 'Carlos', 'alberto']\n",
        "counter = 0\n",
        "iteraciones = 0\n",
        "\n",
        "for nombre in estudiantes:\n",
        "    iteraciones += 1\n",
        "    if nombre.lower().startswith('a'):\n",
        "        counter += 1\n",
        "        print(f\"{nombre} (empieza por 'a'!)\")\n",
        "print(f\"Total de estudiantes procesados: {counter}\")\n",
        "print(f\"Total de iteraciones: {iteraciones}\")"
      ]
    },
    {
      "cell_type": "markdown",
      "id": "89b42f24",
      "metadata": {
        "lang": "en"
      },
      "source": [
        "El operador de asignación simple es el símbolo igual (=) y las operaciones que se realizan sobre él siempre tienen la sintaxis: `variable = expresión`. En este tipo de operación, primero se resuelve la expresión de la derecha y el valor resultante se asigna a la variable de la izquierda."
      ]
    },
    {
      "cell_type": "markdown",
      "id": "71a92117",
      "metadata": {
        "lang": "en"
      },
      "source": [
        "## Operadores relacionales"
      ]
    },
    {
      "cell_type": "markdown",
      "id": "38d5146c",
      "metadata": {
        "lang": "en"
      },
      "source": [
        "Los operadores relacionales son símbolos que se utilizan para comparar dos valores o expresiones. El resultado de la evaluación con estos dos operadores puede ser Verdadero, si la comparación es verdadera, o Falso, si la comparación es falsa."
      ]
    },
    {
      "cell_type": "markdown",
      "id": "b7d7c2b5",
      "metadata": {
        "lang": "en"
      },
      "source": [
        "* `==` Igual a `a==b`\n",
        "* `!=` No igual a `a!=b`\n",
        "* `>` Mayor que `a>b`\n",
        "* `<` Menor que `a<b` \n",
        "* `>=` Mayor o igual que `a>=b`\n",
        "* `<=` Menor o igual que `a<=b`"
      ]
    },
    {
      "cell_type": "markdown",
      "id": "6bb2bc2a",
      "metadata": {
        "lang": "en"
      },
      "source": [
        "Tenga en cuenta la diferencia entre un signo igual simple (=), que es una asignación, y un signo igual doble (==), que es un operador relacional."
      ]
    },
    {
      "cell_type": "code",
      "execution_count": 22,
      "id": "725577d1",
      "metadata": {},
      "outputs": [],
      "source": [
        "a = [1, 2, 3, 4, 5]\n",
        "b = [1, 2, 3, 4, 5]"
      ]
    },
    {
      "cell_type": "markdown",
      "id": "30ba18d2",
      "metadata": {},
      "source": [
        "El operador **igual**"
      ]
    },
    {
      "cell_type": "code",
      "execution_count": 23,
      "id": "8a9d90b6",
      "metadata": {},
      "outputs": [
        {
          "data": {
            "text/plain": [
              "True"
            ]
          },
          "execution_count": 23,
          "metadata": {},
          "output_type": "execute_result"
        }
      ],
      "source": [
        "a == b"
      ]
    },
    {
      "cell_type": "markdown",
      "id": "244fb7c7",
      "metadata": {},
      "source": [
        "### Extra: `==` vs. `is`"
      ]
    },
    {
      "cell_type": "markdown",
      "id": "c2fc6ff2",
      "metadata": {},
      "source": [
        "[Algunos documentos](https://towardsdatascience.com/whats-the-difference-between-is-and-in-python-dc26406c85ad)"
      ]
    },
    {
      "cell_type": "markdown",
      "id": "e8287044",
      "metadata": {},
      "source": [
        "`==` -> apunta al valor <br>\n",
        "`is` -> busca identidad"
      ]
    },
    {
      "cell_type": "markdown",
      "id": "23190ae6-b508-4931-90bb-8f1b477cfd27",
      "metadata": {},
      "source": [
        "¿A dónde se apunta en memoria?: `id(variable)`"
      ]
    },
    {
      "cell_type": "code",
      "execution_count": 24,
      "id": "eedb896c",
      "metadata": {},
      "outputs": [
        {
          "data": {
            "text/plain": [
              "1430017607616"
            ]
          },
          "execution_count": 24,
          "metadata": {},
          "output_type": "execute_result"
        }
      ],
      "source": [
        "id(a)"
      ]
    },
    {
      "cell_type": "code",
      "execution_count": 25,
      "id": "f3d58207",
      "metadata": {},
      "outputs": [
        {
          "data": {
            "text/plain": [
              "1430017480896"
            ]
          },
          "execution_count": 25,
          "metadata": {},
          "output_type": "execute_result"
        }
      ],
      "source": [
        "id(b)"
      ]
    },
    {
      "cell_type": "markdown",
      "id": "e38e44e4-e91a-4722-ac4b-5610e75d768c",
      "metadata": {},
      "source": [
        "## Operadores lógicos"
      ]
    },
    {
      "cell_type": "markdown",
      "id": "63a1d52a-15fe-4f52-aa53-ac2b513b9f63",
      "metadata": {},
      "source": [
        "- `and`\n",
        "- `or`\n",
        "- `not`"
      ]
    },
    {
      "cell_type": "code",
      "execution_count": 30,
      "id": "a50c8b24",
      "metadata": {},
      "outputs": [
        {
          "data": {
            "text/html": [
              "<div>\n",
              "<style scoped>\n",
              "    .dataframe tbody tr th:only-of-type {\n",
              "        vertical-align: middle;\n",
              "    }\n",
              "\n",
              "    .dataframe tbody tr th {\n",
              "        vertical-align: top;\n",
              "    }\n",
              "\n",
              "    .dataframe thead th {\n",
              "        text-align: right;\n",
              "    }\n",
              "</style>\n",
              "<table border=\"1\" class=\"dataframe\">\n",
              "  <thead>\n",
              "    <tr style=\"text-align: right;\">\n",
              "      <th></th>\n",
              "      <th>tipo</th>\n",
              "      <th>nombre</th>\n",
              "      <th>precio</th>\n",
              "    </tr>\n",
              "  </thead>\n",
              "  <tbody>\n",
              "    <tr>\n",
              "      <th>0</th>\n",
              "      <td>Fruta</td>\n",
              "      <td>Manzana</td>\n",
              "      <td>1.5</td>\n",
              "    </tr>\n",
              "    <tr>\n",
              "      <th>1</th>\n",
              "      <td>Verdura</td>\n",
              "      <td>Lechuga</td>\n",
              "      <td>0.8</td>\n",
              "    </tr>\n",
              "  </tbody>\n",
              "</table>\n",
              "</div>"
            ],
            "text/plain": [
              "      tipo   nombre  precio\n",
              "0    Fruta  Manzana     1.5\n",
              "1  Verdura  Lechuga     0.8"
            ]
          },
          "execution_count": 30,
          "metadata": {},
          "output_type": "execute_result"
        }
      ],
      "source": [
        "import pandas as pd\n",
        "df = pd.DataFrame([{'tipo': 'Fruta', \n",
        "                    'nombre': 'Manzana',\n",
        "                    'precio': 1.5}, \n",
        "                    {'tipo': 'Verdura', \n",
        "                     'nombre': 'Lechuga', \n",
        "                     'precio': 0.8}])\n",
        "df"
      ]
    },
    {
      "cell_type": "markdown",
      "id": "0f3188be-88b4-447c-b336-83fcee751bf4",
      "metadata": {},
      "source": [
        "El operador **and** evalúa si ambas expresiones son verdaderas. Si ambas expresiones son verdaderas, devuelve True. Si alguna de las expresiones es falsa, devuelve False. Este tipo de tablas se conocen formalmente como \"tablas de verdad\"."
      ]
    },
    {
      "cell_type": "code",
      "execution_count": 33,
      "id": "bc6f1ba5",
      "metadata": {},
      "outputs": [
        {
          "data": {
            "text/html": [
              "<div>\n",
              "<style scoped>\n",
              "    .dataframe tbody tr th:only-of-type {\n",
              "        vertical-align: middle;\n",
              "    }\n",
              "\n",
              "    .dataframe tbody tr th {\n",
              "        vertical-align: top;\n",
              "    }\n",
              "\n",
              "    .dataframe thead th {\n",
              "        text-align: right;\n",
              "    }\n",
              "</style>\n",
              "<table border=\"1\" class=\"dataframe\">\n",
              "  <thead>\n",
              "    <tr style=\"text-align: right;\">\n",
              "      <th></th>\n",
              "      <th>tipo</th>\n",
              "      <th>nombre</th>\n",
              "      <th>precio</th>\n",
              "    </tr>\n",
              "  </thead>\n",
              "  <tbody>\n",
              "    <tr>\n",
              "      <th>0</th>\n",
              "      <td>Fruta</td>\n",
              "      <td>Manzana</td>\n",
              "      <td>1.5</td>\n",
              "    </tr>\n",
              "  </tbody>\n",
              "</table>\n",
              "</div>"
            ],
            "text/plain": [
              "    tipo   nombre  precio\n",
              "0  Fruta  Manzana     1.5"
            ]
          },
          "execution_count": 33,
          "metadata": {},
          "output_type": "execute_result"
        }
      ],
      "source": [
        "df[(df['tipo'] == 'Fruta') & (df['precio'] > 1)]\n"
      ]
    },
    {
      "cell_type": "markdown",
      "id": "8633fff2-6855-49eb-9c60-5e3af8bbba19",
      "metadata": {},
      "source": [
        "El operador **or** evalúa si alguna de las expresiones es verdadera, es decir, devuelve Verdadero si alguna de las expresiones es verdadera y Falso cuando ambas expresiones son falsas."
      ]
    },
    {
      "cell_type": "code",
      "execution_count": 37,
      "id": "cea87ca0-f06b-4151-8bc4-45596b12c922",
      "metadata": {},
      "outputs": [
        {
          "data": {
            "text/html": [
              "<div>\n",
              "<style scoped>\n",
              "    .dataframe tbody tr th:only-of-type {\n",
              "        vertical-align: middle;\n",
              "    }\n",
              "\n",
              "    .dataframe tbody tr th {\n",
              "        vertical-align: top;\n",
              "    }\n",
              "\n",
              "    .dataframe thead th {\n",
              "        text-align: right;\n",
              "    }\n",
              "</style>\n",
              "<table border=\"1\" class=\"dataframe\">\n",
              "  <thead>\n",
              "    <tr style=\"text-align: right;\">\n",
              "      <th></th>\n",
              "      <th>tipo</th>\n",
              "      <th>nombre</th>\n",
              "      <th>precio</th>\n",
              "    </tr>\n",
              "  </thead>\n",
              "  <tbody>\n",
              "    <tr>\n",
              "      <th>0</th>\n",
              "      <td>Fruta</td>\n",
              "      <td>Manzana</td>\n",
              "      <td>1.5</td>\n",
              "    </tr>\n",
              "    <tr>\n",
              "      <th>1</th>\n",
              "      <td>Verdura</td>\n",
              "      <td>Lechuga</td>\n",
              "      <td>0.8</td>\n",
              "    </tr>\n",
              "  </tbody>\n",
              "</table>\n",
              "</div>"
            ],
            "text/plain": [
              "      tipo   nombre  precio\n",
              "0    Fruta  Manzana     1.5\n",
              "1  Verdura  Lechuga     0.8"
            ]
          },
          "execution_count": 37,
          "metadata": {},
          "output_type": "execute_result"
        }
      ],
      "source": [
        "df[(df['tipo'] == 'Fruta') | (df['precio'] < 1)]\n"
      ]
    },
    {
      "cell_type": "markdown",
      "id": "84e8d066-42d1-4d4f-824f-51a7c0b23ec0",
      "metadata": {},
      "source": [
        "El operador **not** es un operador que devuelve el valor opuesto de la expresión evaluada. Si la expresión tiene el valor True, devuelve False. Por el contrario, si la expresión tiene el valor False, devuelve True."
      ]
    },
    {
      "cell_type": "code",
      "execution_count": 40,
      "id": "016bb0c2-a9f9-42bb-8ce4-cbb8e17243ac",
      "metadata": {},
      "outputs": [
        {
          "data": {
            "text/html": [
              "<div>\n",
              "<style scoped>\n",
              "    .dataframe tbody tr th:only-of-type {\n",
              "        vertical-align: middle;\n",
              "    }\n",
              "\n",
              "    .dataframe tbody tr th {\n",
              "        vertical-align: top;\n",
              "    }\n",
              "\n",
              "    .dataframe thead th {\n",
              "        text-align: right;\n",
              "    }\n",
              "</style>\n",
              "<table border=\"1\" class=\"dataframe\">\n",
              "  <thead>\n",
              "    <tr style=\"text-align: right;\">\n",
              "      <th></th>\n",
              "      <th>tipo</th>\n",
              "      <th>nombre</th>\n",
              "      <th>precio</th>\n",
              "    </tr>\n",
              "  </thead>\n",
              "  <tbody>\n",
              "    <tr>\n",
              "      <th>1</th>\n",
              "      <td>Verdura</td>\n",
              "      <td>Lechuga</td>\n",
              "      <td>0.8</td>\n",
              "    </tr>\n",
              "  </tbody>\n",
              "</table>\n",
              "</div>"
            ],
            "text/plain": [
              "      tipo   nombre  precio\n",
              "1  Verdura  Lechuga     0.8"
            ]
          },
          "execution_count": 40,
          "metadata": {},
          "output_type": "execute_result"
        }
      ],
      "source": [
        "# Quiero usar el operador not\n",
        "df[~((df['tipo'] == 'Fruta') | (df['precio'] > 1))]\n"
      ]
    },
    {
      "cell_type": "markdown",
      "id": "bd0dfb27-3c4e-403d-b5a3-3ff0f083008f",
      "metadata": {},
      "source": [
        "[Extra: operadores bitwise](https://ellibrodepython.com/operadores-bitwise)"
      ]
    },
    {
      "cell_type": "markdown",
      "id": "9496bbd3-52ea-4d75-8346-e5faac3bda49",
      "metadata": {},
      "source": [
        "Con tan solo estos dos valores `True`|`False` podemos crear toda una rama de las matemáticas llamada [Álgebra de Boole](https://en.wikipedia.org/wiki/Boolean_algebra#Laws). Mientras que en el Álgebra regular las operaciones básicas son la suma y la multiplicación, las operaciones principales en el Álgebra de Boole son la conjunción (y), la disyunción (o) y la negación (no). **Es el formalismo utilizado para describir las operaciones lógicas**.\n",
        "\n",
        "En [Python escribimos estas operaciones](https://www.geeksforgeeks.org/python-3-logical-operators/?ref=rp) como:\n",
        "\n",
        "- `==`\n",
        "* `A` y `B`\n",
        "* `A` o `B`\n",
        "* no `A`\n",
        "\n",
        "Aunque el significado de estas operaciones es claro, podemos definirlas completamente con la llamada \"tabla de verdad\":"
      ]
    },
    {
      "attachments": {
        "12d101cf-2b3f-46be-8a2a-fa0020fcab94.png": {
          "image/png": "[encoded data removed]"
        }
      },
      "cell_type": "markdown",
      "id": "1f750137-9d23-4085-964b-cdce9b7b8320",
      "metadata": {},
      "source": [
        "![image.png](attachment:12d101cf-2b3f-46be-8a2a-fa0020fcab94.png)"
      ]
    },
    {
      "cell_type": "code",
      "execution_count": null,
      "id": "d9929e90-dfd7-4e2c-ac7d-d498a7e907a1",
      "metadata": {},
      "outputs": [],
      "source": []
    },
    {
      "cell_type": "markdown",
      "id": "10c44207-2045-49a1-b145-f6c33d18f479",
      "metadata": {},
      "source": [
        "## Truthies y Falsies"
      ]
    },
    {
      "cell_type": "code",
      "execution_count": null,
      "id": "07985b87",
      "metadata": {},
      "outputs": [],
      "source": []
    },
    {
      "cell_type": "markdown",
      "id": "2d617b18",
      "metadata": {},
      "source": [
        "- 0\n",
        "- None\n",
        "- Objetos vacíos\n",
        "- range(0)\n",
        "- False"
      ]
    },
    {
      "cell_type": "markdown",
      "id": "attended-assurance",
      "metadata": {},
      "source": [
        "# Flujo de control"
      ]
    },
    {
      "cell_type": "markdown",
      "id": "3e0ac95f",
      "metadata": {
        "lang": "en"
      },
      "source": [
        "En lenguajes imperativos, como Python, el ordenador sigue la secuencia de instrucciones del código y las ejecuta línea por línea. Llamamos \"flujo\" de un programa al orden en el que se ejecuta el código. Este orden secuencial se puede alterar. Una llamada a una función, por ejemplo, lleva la ejecución al código que se encuentra dentro de ella (el \"cuerpo\" de la función) para que vuelva inmediatamente después de la llamada y continúe."
      ]
    },
    {
      "cell_type": "code",
      "execution_count": null,
      "id": "ed7c5cf6",
      "metadata": {},
      "outputs": [],
      "source": []
    },
    {
      "cell_type": "markdown",
      "id": "c2a2b91b",
      "metadata": {
        "lang": "en"
      },
      "source": [
        "## Pseudocódigo"
      ]
    },
    {
      "cell_type": "markdown",
      "id": "6a4ca3d9",
      "metadata": {
        "lang": "en"
      },
      "source": [
        "El pseudocódigo es un método de planificación que permite al programador planificar sin preocuparse por la sintaxis."
      ]
    },
    {
      "cell_type": "code",
      "execution_count": null,
      "id": "21457224",
      "metadata": {},
      "outputs": [],
      "source": []
    },
    {
      "cell_type": "markdown",
      "id": "be4eba9a-9038-4532-884a-8d36cdbd3c7c",
      "metadata": {},
      "source": [
        "-------------------------"
      ]
    },
    {
      "cell_type": "markdown",
      "id": "0eaad548",
      "metadata": {
        "lang": "en"
      },
      "source": [
        "## Condicionales"
      ]
    },
    {
      "cell_type": "markdown",
      "id": "580479b3",
      "metadata": {},
      "source": [
        "Aspectos de sintaxis a tener en cuenta:\n",
        "- indentación\n",
        "- dos puntos"
      ]
    },
    {
      "cell_type": "markdown",
      "id": "231b0839-323d-4388-acb9-ff36c26d38bd",
      "metadata": {},
      "source": [
        "### If"
      ]
    },
    {
      "cell_type": "markdown",
      "id": "33524364-95fc-4175-a27e-f794ace7a44d",
      "metadata": {},
      "source": [
        "Esta es la opción más popular para controlar el flujo de un programa. Las condiciones permiten elegir entre diferentes caminos según el valor de una expresión. Cuando se desea ejecutar una acción solo cuando alguna condición es \"Verdadera\", se utiliza una sentencia \"if\":"
      ]
    },
    {
      "cell_type": "code",
      "execution_count": null,
      "id": "204dc137",
      "metadata": {},
      "outputs": [],
      "source": []
    },
    {
      "cell_type": "markdown",
      "id": "305e83a6",
      "metadata": {
        "lang": "en"
      },
      "source": [
        "Como podemos observar, el bloque de código asociado a la condición comienza después de los dos puntos, con una indentación que determina el bloque de código. Todas las sentencias pertenecientes al mismo bloque deben tener la misma sangría. El bloque termina cuando la sangría vuelve a la posición inicial de la sentencia if. Recordemos que Python utiliza la sangría para identificar bloques de código."
      ]
    },
    {
      "cell_type": "markdown",
      "id": "baa11a80",
      "metadata": {
        "lang": "en"
      },
      "source": [
        "### elif\n",
        "A veces hay más de dos posibilidades. Piensa en algo como:\n",
        "\"Si Bob puede entrar a la discoteca, déjalo entrar. Si no, si tiene más de 16 años, recomiéndale la discoteca más cercana. Si no, mándalo a casa\".\n",
        "\n",
        "Podemos lograr esto con la cláusula `elif` y los condicionales encadenados:"
      ]
    },
    {
      "cell_type": "code",
      "execution_count": null,
      "id": "79a5d161",
      "metadata": {},
      "outputs": [],
      "source": []
    },
    {
      "cell_type": "markdown",
      "id": "770fbd1a",
      "metadata": {
        "lang": "en"
      },
      "source": [
        "### else\n",
        "A veces, si no se cumple la condición (y solo entonces), se desea que se ejecute otra acción. Son acciones mutuamente excluyentes. Esto se logra con la sentencia `else`."
      ]
    },
    {
      "cell_type": "code",
      "execution_count": null,
      "id": "167c52a2",
      "metadata": {},
      "outputs": [],
      "source": []
    },
    {
      "cell_type": "markdown",
      "id": "f3b954ef-7920-4c34-a57c-c35c4b338554",
      "metadata": {},
      "source": [
        "### 💪 Hands-on\n",
        "\n",
        "```python\n",
        "import time\n",
        "\n",
        "def countdown(minutes, task=None):\n",
        "    counter = f\"Counting down: {minutes} minute{'s' if minutes > 1 else ''}... 🕰️.\"\n",
        "    if task != None: \n",
        "        counter += f\" Task: {task}\"\n",
        "    while minutes > 0:\n",
        "        print(counter)\n",
        "        time.sleep(60)\n",
        "        minutes -= 1\n",
        "    print(\"Time's up! 🎉\")\n",
        "````"
      ]
    },
    {
      "cell_type": "code",
      "execution_count": null,
      "id": "d41696c3",
      "metadata": {},
      "outputs": [],
      "source": []
    },
    {
      "cell_type": "markdown",
      "id": "d4befbc3-4d9c-469f-b6c5-90e8a71bbdd9",
      "metadata": {},
      "source": [
        "Escribe un programa simple que imprima si bob puede entrar al club\n",
        "para dos valores cualesquiera de las siguientes variables:\n",
        "`print(age_bob,age_minimum)`"
      ]
    },
    {
      "cell_type": "code",
      "execution_count": null,
      "id": "0341e364-a43c-4922-82c3-f50897b41d80",
      "metadata": {},
      "outputs": [],
      "source": [
        "# este no"
      ]
    },
    {
      "cell_type": "markdown",
      "id": "40f8f1a9-44b9-49b2-a6ee-c6cc4a88993d",
      "metadata": {},
      "source": [
        "Escribe un programa que determine si un número es par o impar."
      ]
    },
    {
      "cell_type": "code",
      "execution_count": null,
      "id": "da83d261",
      "metadata": {},
      "outputs": [],
      "source": []
    },
    {
      "cell_type": "markdown",
      "id": "dcb0e927-1136-4be2-b250-340e491dcc0b",
      "metadata": {},
      "source": [
        "Crea un programa que asigne una calificación de letra según el puntaje obtenido en un examen:\n",
        "\t\n",
        "\t•\t90 o más: “A”\n",
        "\t•\t80 a 89: “B”\n",
        "\t•\t70 a 79: “C”\n",
        "\t•\t60 a 69: “D”\n",
        "\t•\tMenos de 60: “F”"
      ]
    },
    {
      "cell_type": "code",
      "execution_count": 61,
      "id": "f0b6a830",
      "metadata": {},
      "outputs": [
        {
          "name": "stdout",
          "output_type": "stream",
          "text": [
            "Tu nota: 88 tiene una calificación de B\n"
          ]
        }
      ],
      "source": [
        "notas = int(input(\"Introduce la nota del estudiante: \"))\n",
        "def calificacion(nota):\n",
        "    if nota < 60:\n",
        "        return 'F'\n",
        "    elif nota > 60 and nota < 70:\n",
        "        return 'D'\n",
        "    elif nota >= 70 and nota < 80:\n",
        "        return 'C'\n",
        "    elif nota >= 80 and nota < 90:\n",
        "        return 'B'\n",
        "    else:\n",
        "        return 'A'\n",
        "print(f\"Tu nota: {notas} tiene una calificación de {calificacion(notas)}\")\n",
        "\n",
        "\n"
      ]
    },
    {
      "cell_type": "markdown",
      "id": "5add11d7-7d8e-44ec-a6bf-44936598b116",
      "metadata": {},
      "source": [
        "Escribe un programa que determine si un número es positivo, negativo o cero."
      ]
    },
    {
      "cell_type": "code",
      "execution_count": null,
      "id": "b4e65c4a",
      "metadata": {},
      "outputs": [],
      "source": []
    },
    {
      "cell_type": "markdown",
      "id": "ef618f20-2872-4648-ba33-8a5482a4df1c",
      "metadata": {},
      "source": [
        "Imaginemos que estamos construyendo el programa de un robot que clasifica huevos por tamaño. Nuestro brazo robótico recibe información de una báscula, que indica, en gramos, el peso del huevo a clasificar. El brazo debe, a partir del peso, colocar el huevo en una u otra caja de la siguiente manera:\n",
        "\n",
        "- **Caja S** (pequeña): peso inferior a 53 gramos.\n",
        "- **Caja M** (mediana): peso mayor o igual a 53 gramos e inferior a 63 gramos.\n",
        "- **Caja L** (grande): peso mayor o igual a 63 gramos e inferior a 73 gramos.\n",
        "- **Caja XL** (supergrande): peso mayor o igual a 73 gramos."
      ]
    },
    {
      "cell_type": "code",
      "execution_count": null,
      "id": "9b6ada25-06f6-4ca3-99ae-cdf5e960692d",
      "metadata": {},
      "outputs": [],
      "source": []
    },
    {
      "cell_type": "markdown",
      "id": "61cfbb7c",
      "metadata": {},
      "source": [
        "## Resumen"
      ]
    },
    {
      "cell_type": "code",
      "execution_count": null,
      "id": "4524a456",
      "metadata": {},
      "outputs": [],
      "source": []
    },
    {
      "cell_type": "markdown",
      "id": "7deb669c",
      "metadata": {},
      "source": [
        "[Rubberduck debugging](https://www.freecodecamp.org/news/rubber-duck-debugging/#:~:text=La%20idea%20detrás%20del%20rubber,en%20voz%20alta%20antes%20de%20publicarlo)"
      ]
    },
    {
      "cell_type": "markdown",
      "id": "toxic-romance",
      "metadata": {},
      "source": [
        "## Materiales adicionales\n",
        "\n",
        "* [Documentación de Python](https://docs.python.org/3/tutorial/controlflow.html)\n",
        "* Un breve tutorial sobre [valores booleanos de Python](https://realpython.com/python-boolean/)\n",
        "* Una agradable [charla de Feynman](https://www.youtube.com/watch?v=EKWGGDXe5MA) sobre los principios de la computación"
      ]
    }
  ],
  "metadata": {
    "author": "https://github.com/breogann",
    "created": "2021",
    "kernelspec": {
      "display_name": ".venv2",
      "language": "python",
      "name": "python3"
    },
    "language_info": {
      "codemirror_mode": {
        "name": "ipython",
        "version": 3
      },
      "file_extension": ".py",
      "mimetype": "text/x-python",
      "name": "python",
      "nbconvert_exporter": "python",
      "pygments_lexer": "ipython3",
      "version": "3.14.0"
    },
    "nbTranslate": {
      "displayLangs": [
        "en",
        "es"
      ],
      "hotkey": "alt-a",
      "langInMainMenu": true,
      "sourceLang": "es",
      "targetLang": "en",
      "useGoogleTranslate": true
    },
    "toc": {
      "base_numbering": 1,
      "nav_menu": {},
      "number_sections": true,
      "sideBar": true,
      "skip_h1_title": true,
      "title_cell": "Table of Contents",
      "title_sidebar": "Contents",
      "toc_cell": true,
      "toc_position": {
        "height": "calc(100% - 180px)",
        "left": "10px",
        "top": "150px",
        "width": "165px"
      },
      "toc_section_display": true,
      "toc_window_display": true
    }
  },
  "nbformat": 4,
  "nbformat_minor": 5
}
