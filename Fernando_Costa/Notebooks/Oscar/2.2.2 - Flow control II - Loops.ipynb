{
  "cells": [
    {
      "cell_type": "markdown",
      "id": "classical-passenger",
      "metadata": {},
      "source": [
        "## For"
      ]
    },
    {
      "cell_type": "markdown",
      "id": "fdb36275",
      "metadata": {
        "lang": "en"
      },
      "source": [
        "Es muy habitual escribir un código con bucles dentro de estas dos posibles situaciones:\n",
        "- 1: Cuando utilizamos un contador dentro de una repetición. El contador es una variable que aumenta o disminuye de forma constante en cada iteración del bucle hasta llegar a un valor límite que marca el final de las repeticiones.\n",
        "- 2: Cuando iteramos sobre los elementos de un contenedor, por ejemplo, una lista, para operar sobre cada uno de ellos. Además en este caso sabemos de antemano el número de repeticiones que se van a producir."
      ]
    },
    {
      "cell_type": "markdown",
      "id": "753d6746",
      "metadata": {
        "lang": "en"
      },
      "source": [
        "La sentencia For, en Python, permite iterar sobre secuencias de valores (listas o cadenas) según un orden establecido. A diferencia de otros lenguajes, con el for de Python no se definen contadores o expresiones que cambien en cada iteración, sino una secuencia sobre la que la variable contador tomará sus valores. En cualquier caso, es la opción más adecuada para resolver los dos casos anteriores...pongamos un ejemplo:"
      ]
    },
    {
      "cell_type": "code",
      "execution_count": null,
      "id": "b0abf815",
      "metadata": {},
      "outputs": [],
      "source": []
    },
    {
      "cell_type": "markdown",
      "id": "a968f25d",
      "metadata": {
        "lang": "en"
      },
      "source": [
        "La sentencia for, en Python, itera sobre colecciones. Por lo tanto, si necesitamos un contador que se incremente en cada iteración, Python proporciona la función range(), que genera listas de números enteros. Esta función permite generar secuencias y es bastante versátil, ya que podemos invocarla de diferentes maneras:"
      ]
    },
    {
      "cell_type": "code",
      "execution_count": null,
      "id": "65764289-d6b6-4ba7-938e-c370b5586ff6",
      "metadata": {},
      "outputs": [],
      "source": []
    },
    {
      "cell_type": "markdown",
      "id": "5109ef4d",
      "metadata": {
        "lang": "en"
      },
      "source": [
        "- Con un único argumento: genera números enteros que van desde 0 hasta el anterior indicado como parámetro:\n",
        "\n",
        "`range(int)`"
      ]
    },
    {
      "cell_type": "code",
      "execution_count": 25,
      "id": "5f916bd1",
      "metadata": {},
      "outputs": [
        {
          "data": {
            "text/plain": [
              "[0, 1, 2, 3, 4, 5, 6, 7, 8]"
            ]
          },
          "execution_count": 25,
          "metadata": {},
          "output_type": "execute_result"
        }
      ],
      "source": [
        "list(range(9))"
      ]
    },
    {
      "cell_type": "code",
      "execution_count": null,
      "id": "5e109ff0",
      "metadata": {},
      "outputs": [],
      "source": []
    },
    {
      "cell_type": "markdown",
      "id": "88f9f5a9",
      "metadata": {
        "lang": "en"
      },
      "source": [
        "- Con dos argumentos. El primer parámetro es el valor inicial y el segundo el valor por debajo del cual deben estar los elementos de la lista:\n",
        "\n",
        "`range(int, int)`"
      ]
    },
    {
      "cell_type": "code",
      "execution_count": 26,
      "id": "57ccc729",
      "metadata": {},
      "outputs": [
        {
          "data": {
            "text/plain": [
              "[4, 5, 6, 7, 8]"
            ]
          },
          "execution_count": 26,
          "metadata": {},
          "output_type": "execute_result"
        }
      ],
      "source": [
        "list(range(4, 9))"
      ]
    },
    {
      "cell_type": "markdown",
      "id": "81739599",
      "metadata": {
        "lang": "en"
      },
      "source": [
        "- Con tres argumentos. Igual que el anterior, pero el tercer parámetro indica el incremento que se produce de un elemento al siguiente: `range(int, int, increment)`"
      ]
    },
    {
      "cell_type": "code",
      "execution_count": null,
      "id": "f96e2fb5",
      "metadata": {},
      "outputs": [
        {
          "data": {
            "text/plain": [
              "[4, 6, 8]"
            ]
          },
          "execution_count": 27,
          "metadata": {},
          "output_type": "execute_result"
        }
      ],
      "source": [
        "list(range(4, 9, 2))"
      ]
    },
    {
      "cell_type": "markdown",
      "id": "closing-pound",
      "metadata": {
        "lang": "es"
      },
      "source": [
        "### Iterar a través de strings"
      ]
    },
    {
      "cell_type": "code",
      "execution_count": null,
      "id": "04f52fd3",
      "metadata": {},
      "outputs": [],
      "source": []
    },
    {
      "cell_type": "markdown",
      "id": "fef0c8a5",
      "metadata": {
        "lang": "en"
      },
      "source": [
        "### Iterar a través de una lista"
      ]
    },
    {
      "cell_type": "code",
      "execution_count": 1,
      "id": "ef71cee6",
      "metadata": {},
      "outputs": [
        {
          "data": {
            "text/plain": [
              "['DATA', 'SCIENCE', 'MACHINE', 'LEARNING', 'PYTHON']"
            ]
          },
          "execution_count": 1,
          "metadata": {},
          "output_type": "execute_result"
        }
      ],
      "source": [
        "words = ['data', 'science', 'machine', 'learning', 'python']\n",
        "\n",
        "new_words = []\n",
        "\n",
        "for word in words:\n",
        "    word_upper = word.upper()\n",
        "    new_words.append(word_upper)\n",
        "new_words"
      ]
    },
    {
      "cell_type": "markdown",
      "id": "cd740c33",
      "metadata": {
        "lang": "en"
      },
      "source": [
        "### Iterar sobre los elementos de un diccionario"
      ]
    },
    {
      "cell_type": "code",
      "execution_count": null,
      "id": "7386c5c4-6270-4a62-a430-c52cede9c36e",
      "metadata": {},
      "outputs": [],
      "source": []
    },
    {
      "cell_type": "markdown",
      "id": "6c57c1c6-b4bf-4dd0-b605-b1d6114cfaa9",
      "metadata": {},
      "source": [
        "### 💪 Hands-on\n",
        "\n",
        "```python\n",
        "import time\n",
        "\n",
        "def countdown(minutes, task=None):\n",
        "    counter = f\"Counting down: {minutes} minute{'s' if minutes > 1 else ''}... 🕰️.\"\n",
        "    if task != None: \n",
        "        counter += f\" Task: {task}\"\n",
        "    while minutes > 0:\n",
        "        print(counter)\n",
        "        time.sleep(60)\n",
        "        minutes -= 1\n",
        "    print(\"Time's up! 🎉\")\n",
        "````"
      ]
    },
    {
      "cell_type": "markdown",
      "id": "4d3529e8-0553-4915-8ed3-9d86ad3bea48",
      "metadata": {},
      "source": [
        "#### Palabras"
      ]
    },
    {
      "cell_type": "code",
      "execution_count": 8,
      "id": "479c2425",
      "metadata": {},
      "outputs": [],
      "source": [
        "ciudades = [\"Córdoba\", \"Vitoria\", \"León\", \"Alicante\", \"Burgos\", \"Vigo\"]"
      ]
    },
    {
      "cell_type": "markdown",
      "id": "b62ebb5d-5cc9-4c0e-8fdf-f2d9fd8bb19f",
      "metadata": {},
      "source": [
        "**Imprime cada palabra en mayúsculas**"
      ]
    },
    {
      "cell_type": "code",
      "execution_count": 9,
      "id": "92c0c7a9-8c6e-4469-8903-a31712cb97b1",
      "metadata": {},
      "outputs": [
        {
          "data": {
            "text/plain": [
              "['CÓRDOBA', 'VITORIA', 'LEÓN', 'ALICANTE', 'BURGOS', 'VIGO']"
            ]
          },
          "execution_count": 9,
          "metadata": {},
          "output_type": "execute_result"
        }
      ],
      "source": [
        "ciudad_mayuscula = []\n",
        "for ciudad in ciudades:\n",
        "    ciudad_mayuscula.append(ciudad.upper())\n",
        "ciudad_mayuscula"
      ]
    },
    {
      "cell_type": "markdown",
      "id": "2a05e2f8-7ae1-4aa1-9ff0-9ea0f97c8eef",
      "metadata": {},
      "source": [
        "**Crea una nueva lista que contenga sólo palabras con 5 o más letras**"
      ]
    },
    {
      "cell_type": "code",
      "execution_count": 10,
      "id": "7010913c-f5b6-4ef6-87e0-8720bb9438be",
      "metadata": {},
      "outputs": [
        {
          "data": {
            "text/plain": [
              "['Córdoba', 'Vitoria', 'Alicante', 'Burgos']"
            ]
          },
          "execution_count": 10,
          "metadata": {},
          "output_type": "execute_result"
        }
      ],
      "source": [
        "ciudades_5_letras = []\n",
        "for ciudad in ciudades:\n",
        "    if len(ciudad) >= 5:\n",
        "        ciudades_5_letras.append(ciudad)\n",
        "ciudades_5_letras"
      ]
    },
    {
      "cell_type": "code",
      "execution_count": 15,
      "id": "1305b8fd",
      "metadata": {},
      "outputs": [
        {
          "name": "stdout",
          "output_type": "stream",
          "text": [
            "Small cities: ['León', 'Vigo']\n",
            "Large cities: ['Córdoba', 'Vitoria', 'Alicante', 'Burgos']\n"
          ]
        }
      ],
      "source": [
        "city_size = {'small':[],\n",
        "             'large':[]}\n",
        "\n",
        "for ciudad in ciudades:\n",
        "    if len(ciudad) < 6:\n",
        "        city_size['small'].append(ciudad)\n",
        "    else:\n",
        "        city_size['large'].append(ciudad)\n",
        "print('Small cities:', city_size['small'])\n",
        "print('Large cities:', city_size['large'])"
      ]
    },
    {
      "cell_type": "markdown",
      "id": "783ddb0c-607c-4c0b-b36f-3269271197b0",
      "metadata": {},
      "source": [
        "**Imprime la primera palabra que empieza con \"t\"**"
      ]
    },
    {
      "cell_type": "code",
      "execution_count": 16,
      "id": "0ab4408a-d0b4-4155-80e0-2a1238433864",
      "metadata": {},
      "outputs": [
        {
          "name": "stdout",
          "output_type": "stream",
          "text": [
            "Vigo\n"
          ]
        },
        {
          "data": {
            "text/plain": [
              "'Vigo'"
            ]
          },
          "execution_count": 16,
          "metadata": {},
          "output_type": "execute_result"
        }
      ],
      "source": [
        "# Imprimir la segunda ciudad que empiece por 'V'\n",
        "count = 0\n",
        "for ciudad in ciudades:\n",
        "    if ciudad.startswith('V'):\n",
        "        count += 1\n",
        "        if count == 2:\n",
        "            print(ciudad)\n",
        "            break\n",
        "ciudad"
      ]
    },
    {
      "cell_type": "code",
      "execution_count": 19,
      "id": "3d31d050",
      "metadata": {},
      "outputs": [
        {
          "data": {
            "text/plain": [
              "[1, 1.5, 2, 2.5, 3, 3.5, 4, 4.5, 1, 1.5, 2, 2.5, 3, 3.5, 4, 4.5]"
            ]
          },
          "execution_count": 19,
          "metadata": {},
          "output_type": "execute_result"
        }
      ],
      "source": [
        "lst_ = [[[1, 1.5], [2, 2.5]], [[3, 3.5], [4, 4.5]]], [[[1, 1.5], [2, 2.5]], [[3, 3.5], [4, 4.5]]]\n",
        "flattened_list = []  # [1, 1.5, 2, 2.5...]\n",
        "\n",
        "for j in lst_:\n",
        "    for k in j:\n",
        "        for l in k:\n",
        "            for s in l:\n",
        "                flattened_list.append(s)\n",
        "flattened_list\n"
      ]
    },
    {
      "cell_type": "code",
      "execution_count": null,
      "id": "c8563c98",
      "metadata": {},
      "outputs": [
        {
          "data": {
            "text/plain": [
              "[1, 1.5, 2, 2.5, 3, 3.5, 4, 4.5, 1, 1.5, 2, 2.5, 3, 3.5, 4, 4.5]"
            ]
          },
          "execution_count": 20,
          "metadata": {},
          "output_type": "execute_result"
        }
      ],
      "source": [
        "# El bucle de list_ hecho list comprehension para hacer lo mismo\n",
        "flattened_list_comp = [s for j in lst_ for k in j for l in k for s in l]\n",
        "flattened_list_comp"
      ]
    },
    {
      "cell_type": "code",
      "execution_count": 41,
      "id": "06e02bfe",
      "metadata": {},
      "outputs": [
        {
          "data": {
            "text/plain": [
              "datetime.datetime(2025, 10, 30, 20, 55, 8, 621821)"
            ]
          },
          "execution_count": 41,
          "metadata": {},
          "output_type": "execute_result"
        }
      ],
      "source": [
        "import datetime\n",
        "ahora = datetime.datetime.now()\n",
        "ahora"
      ]
    },
    {
      "cell_type": "markdown",
      "id": "17832115",
      "metadata": {
        "lang": "en"
      },
      "source": [
        "## La sentencia \"while\"\n",
        "\n",
        "A veces queremos ejecutar un programa hasta que se cumpla una condición. Podemos lograrlo con la cláusula \"while\".\n",
        "\n",
        "**Nota:** ¡Cuidado con las recursiones infinitas!"
      ]
    },
    {
      "cell_type": "code",
      "execution_count": 34,
      "id": "2ea0675e",
      "metadata": {},
      "outputs": [
        {
          "name": "stdout",
          "output_type": "stream",
          "text": [
            "Tienes 1000€ en la cuenta.\n",
            "Sacando esa cantidad te quedas por debajo del mínimo. ¡Hasta luego!\n"
          ]
        }
      ],
      "source": [
        "dinero_cuenta = 1000\n",
        "while dinero_cuenta > 100:\n",
        "    print(f'Tienes {dinero_cuenta}€ en la cuenta.')\n",
        "    gasto = float(input('¿Cuánto quieres gastar? '))\n",
        "    if gasto > dinero_cuenta:\n",
        "        print('No tienes suficiente dinero en la cuenta.')\n",
        "    else:\n",
        "        dinero_cuenta -= gasto\n",
        "print('Sacando esa cantidad te quedas por debajo del mínimo. ¡Hasta luego!')    "
      ]
    },
    {
      "cell_type": "code",
      "execution_count": null,
      "id": "8b260d2b",
      "metadata": {},
      "outputs": [],
      "source": []
    },
    {
      "cell_type": "markdown",
      "id": "ba1c5adf",
      "metadata": {
        "lang": "en"
      },
      "source": [
        "En el caso de while True, la expresión siempre se evaluará como verdadera por definición.\n",
        "Sería equivalente a:\n",
        "\n",
        "```python\n",
        "mientras true sea verdadero:\n",
        "hacer algo\n",
        "````"
      ]
    },
    {
      "cell_type": "code",
      "execution_count": null,
      "id": "ddf766df-8d54-45f3-8a15-521f9ecc4fe7",
      "metadata": {},
      "outputs": [],
      "source": []
    },
    {
      "cell_type": "markdown",
      "id": "587399ed",
      "metadata": {
        "lang": "en"
      },
      "source": [
        "🐒 - Escribimos un programa que le pide al usuario una letra entre a y d eternamente hasta que ingrese una correctamente."
      ]
    },
    {
      "cell_type": "code",
      "execution_count": null,
      "id": "ec9159e9",
      "metadata": {},
      "outputs": [],
      "source": []
    },
    {
      "cell_type": "markdown",
      "id": "6e351acd-2c06-4298-b6fb-001e3b60a01b",
      "metadata": {},
      "source": [
        "### 💪 Hands-on\n",
        "\n",
        "```python\n",
        "import time\n",
        "\n",
        "def countdown(minutes, task=None):\n",
        "    counter = f\"Counting down: {minutes} minute{'s' if minutes > 1 else ''}... 🕰️.\"\n",
        "    if task != None: \n",
        "        counter += f\" Task: {task}\"\n",
        "    while minutes > 0:\n",
        "        print(counter)\n",
        "        time.sleep(60)\n",
        "        minutes -= 1\n",
        "    print(\"Time's up! 🎉\")\n",
        "````"
      ]
    },
    {
      "cell_type": "markdown",
      "id": "41c89894-6eb8-4753-8cb9-632407e2b13b",
      "metadata": {},
      "source": [
        "#### Números"
      ]
    },
    {
      "cell_type": "markdown",
      "id": "363ed496-c625-4c4d-8e8e-2ecb095d92b8",
      "metadata": {},
      "source": [
        "**Crea una lista que contenga el cuadrado de cada número del 1 al 10**"
      ]
    },
    {
      "cell_type": "code",
      "execution_count": 18,
      "id": "fed464ef",
      "metadata": {},
      "outputs": [
        {
          "data": {
            "text/plain": [
              "[1, 4, 9, 16, 25, 36, 49, 64, 81, 100]"
            ]
          },
          "execution_count": 18,
          "metadata": {},
          "output_type": "execute_result"
        }
      ],
      "source": [
        "squares = []\n",
        "for i in range(1, 11):\n",
        "    squares.append(i**2)\n",
        "squares"
      ]
    },
    {
      "cell_type": "markdown",
      "id": "4dcea183-427c-4b4a-9ed4-21ac50b6ee9b",
      "metadata": {},
      "source": [
        "**Imprima una lista que contenga el cuadrado de cada número impar del 1 al 10**"
      ]
    },
    {
      "cell_type": "code",
      "execution_count": 7,
      "id": "712df95d-8fa8-463d-8438-65408140682e",
      "metadata": {},
      "outputs": [
        {
          "data": {
            "text/plain": [
              "[1, 9, 25, 49, 81]"
            ]
          },
          "execution_count": 7,
          "metadata": {},
          "output_type": "execute_result"
        }
      ],
      "source": [
        "impares_squared = []\n",
        "for num in range(1,11):\n",
        "    if num % 2 != 0:\n",
        "        impares_squared.append(num**2)\n",
        "impares_squared"
      ]
    },
    {
      "cell_type": "markdown",
      "id": "f5c112c8-5c0a-493c-9e31-e45558778135",
      "metadata": {},
      "source": [
        "**Crea una lista con los cuadrados de todos los múltiplos de 8 menores que 1000**"
      ]
    },
    {
      "cell_type": "code",
      "execution_count": 6,
      "id": "2740af03-e926-4af0-be4b-89a51459df1a",
      "metadata": {},
      "outputs": [
        {
          "data": {
            "text/plain": [
              "125"
            ]
          },
          "execution_count": 6,
          "metadata": {},
          "output_type": "execute_result"
        }
      ],
      "source": [
        "multiples_of_8 = []\n",
        "for cada in range(1, 1001):\n",
        "    if cada % 8 == 0:\n",
        "        multiples_of_8.append(cada)\n",
        "len(multiples_of_8)"
      ]
    },
    {
      "cell_type": "markdown",
      "id": "9af78e68",
      "metadata": {
        "lang": "en"
      },
      "source": [
        "## Pass, continue & break\n",
        "La sentencia pass no hace nada. Se puede utilizar cuando se requiere una sentencia de sintaxis pero el programa no requiere ninguna acción (de la [documentación](https://docs.python.org/3/tutorial/controlflow.html))\n",
        "\n",
        "Aunque nos sorprenda, es útil en varias situaciones. En Python no podemos tener un bloque de código indefinido (por ejemplo, el cuerpo de una función, el cuerpo de una condición o el cuerpo de un bucle). Por eso es común utilizar pass cuando estamos escribiendo la estructura de nuestro programa pero aún no hemos abordado la implementación de ciertos bloques de código."
      ]
    },
    {
      "cell_type": "code",
      "execution_count": null,
      "id": "77616664-a2e3-40da-8dcb-caebf7fb4d28",
      "metadata": {},
      "outputs": [],
      "source": []
    },
    {
      "cell_type": "markdown",
      "id": "9a7bc1ee",
      "metadata": {},
      "source": [
        "`pass`: ignora, hace cosas y pasa a la siguiente iteración"
      ]
    },
    {
      "cell_type": "code",
      "execution_count": null,
      "id": "56d4b16a",
      "metadata": {},
      "outputs": [],
      "source": []
    },
    {
      "cell_type": "markdown",
      "id": "6630b66a",
      "metadata": {},
      "source": [
        "`continue`: se detiene y pasa a la siguiente iteración"
      ]
    },
    {
      "cell_type": "code",
      "execution_count": null,
      "id": "efcc1182",
      "metadata": {},
      "outputs": [],
      "source": []
    },
    {
      "cell_type": "markdown",
      "id": "e873ede0",
      "metadata": {
        "lang": "en"
      },
      "source": [
        "## Recorremos las listas en iteración sobre su índice: `enumerate`\n",
        "- Funciones integradas --> https://docs.python.org/3/library/functions.html\n",
        "- Documentación de enumeración --> https://book.pythontips.com/en/latest/enumerate.html"
      ]
    },
    {
      "cell_type": "code",
      "execution_count": null,
      "id": "5210470b",
      "metadata": {},
      "outputs": [],
      "source": []
    },
    {
      "cell_type": "markdown",
      "id": "73b7e30f",
      "metadata": {
        "lang": "en"
      },
      "source": [
        "## Recorrer dos listas al mismo tiempo: `zip`"
      ]
    },
    {
      "cell_type": "markdown",
      "id": "af465221",
      "metadata": {
        "lang": "en"
      },
      "source": [
        "Os dejo la documentación en zip, recordad que no dará error si las listas son de distintos tamaños pero la última iteración será la de la lista más corta\n",
        "[DOC](https://docs.python.org/3/library/functions.html)"
      ]
    },
    {
      "cell_type": "code",
      "execution_count": null,
      "id": "5712925e",
      "metadata": {},
      "outputs": [],
      "source": []
    },
    {
      "cell_type": "markdown",
      "id": "a7f5de97",
      "metadata": {},
      "source": [
        "`zip_longest`: ¿qué pasa si quiero conservar la lista más larga?"
      ]
    },
    {
      "cell_type": "code",
      "execution_count": null,
      "id": "08219f2f",
      "metadata": {},
      "outputs": [],
      "source": []
    },
    {
      "cell_type": "code",
      "execution_count": null,
      "id": "80479419",
      "metadata": {},
      "outputs": [],
      "source": []
    },
    {
      "cell_type": "markdown",
      "id": "e9e10e43-0a9b-4b07-afa0-f5d750faaffa",
      "metadata": {},
      "source": [
        "### 💪 Hands-on\n",
        "\n",
        "```python\n",
        "import time\n",
        "\n",
        "def countdown(minutes, task=None):\n",
        "    counter = f\"Counting down: {minutes} minute{'s' if minutes > 1 else ''}... 🕰️.\"\n",
        "    if task != None: \n",
        "        counter += f\" Task: {task}\"\n",
        "    while minutes > 0:\n",
        "        print(counter)\n",
        "        time.sleep(60)\n",
        "        minutes -= 1\n",
        "    print(\"Time's up! 🎉\")\n",
        "````"
      ]
    },
    {
      "cell_type": "markdown",
      "id": "f9bc5473-acbe-49a1-9fbe-5f26f047517e",
      "metadata": {},
      "source": [
        "#### Gente"
      ]
    },
    {
      "cell_type": "code",
      "execution_count": 2,
      "id": "9b4eadb1-459f-43f7-a3af-04a3c939fb6c",
      "metadata": {},
      "outputs": [],
      "source": [
        "people = [\n",
        "    {\n",
        "        \"name\": \"Juan\",\n",
        "        \"age\": 34,\n",
        "        \"n_kids\": 2\n",
        "    },\n",
        "    {\n",
        "        \"name\": \"Pepe\",\n",
        "        \"age\": 27,\n",
        "        \"n_kids\": 0\n",
        "    },\n",
        "    {\n",
        "        \"name\": \"Sonia\",\n",
        "        \"age\": 41,\n",
        "        \"n_kids\": 1\n",
        "    },\n",
        "    {\n",
        "        \"name\": \"Lucía\",\n",
        "        \"age\": 22,\n",
        "        \"n_kids\": 2\n",
        "    },\n",
        "    {\n",
        "        \"name\": \"Leo\",\n",
        "        \"age\": 55,\n",
        "        \"n_kids\": 5\n",
        "    }\n",
        "]"
      ]
    },
    {
      "cell_type": "markdown",
      "id": "cc656d93-c2a1-4bf9-aeff-c43072878f0b",
      "metadata": {},
      "source": [
        "**¿Cuántas personas hay?**"
      ]
    },
    {
      "cell_type": "code",
      "execution_count": null,
      "id": "1a64f34c-d479-4864-9802-5b061dd87a68",
      "metadata": {},
      "outputs": [],
      "source": []
    },
    {
      "cell_type": "markdown",
      "id": "4b548673-46b8-4bff-8f3f-9778175aa063",
      "metadata": {},
      "source": [
        "**¿Cuántas personas tienen hijos?**"
      ]
    },
    {
      "cell_type": "code",
      "execution_count": null,
      "id": "d453bbf4-d9aa-470c-9958-2331c37d1161",
      "metadata": {},
      "outputs": [],
      "source": []
    },
    {
      "cell_type": "markdown",
      "id": "70c8374e-5f69-4ab4-884d-ae66e25a2334",
      "metadata": {},
      "source": [
        "**¿Cuántos hijos tienen en total?**"
      ]
    },
    {
      "cell_type": "code",
      "execution_count": null,
      "id": "4fc95f31-1160-4da3-b2e4-986774790f62",
      "metadata": {},
      "outputs": [],
      "source": []
    },
    {
      "cell_type": "markdown",
      "id": "cfd0618f-8717-4afc-bba8-bd333a42fba2",
      "metadata": {},
      "source": [
        "**Dentro de un año, los nombres que terminan con \"a\" tendrán un hijo más. Crea una lista de diccionarios con información de las personas dentro de un año**"
      ]
    },
    {
      "cell_type": "code",
      "execution_count": null,
      "id": "008078e7-cdfe-44f1-a87b-e5b94a689873",
      "metadata": {},
      "outputs": [],
      "source": []
    },
    {
      "cell_type": "markdown",
      "id": "5f8559a8",
      "metadata": {
        "lang": "en"
      },
      "source": [
        "## Resumen\n",
        "Ahora te toca a ti, ¿qué hemos aprendido hoy?"
      ]
    },
    {
      "cell_type": "code",
      "execution_count": null,
      "id": "b0492655",
      "metadata": {},
      "outputs": [],
      "source": []
    }
  ],
  "metadata": {
    "author": "https://github.com/breogann",
    "created": "2021",
    "kernelspec": {
      "display_name": ".venv2",
      "language": "python",
      "name": "python3"
    },
    "language_info": {
      "codemirror_mode": {
        "name": "ipython",
        "version": 3
      },
      "file_extension": ".py",
      "mimetype": "text/x-python",
      "name": "python",
      "nbconvert_exporter": "python",
      "pygments_lexer": "ipython3",
      "version": "3.14.0"
    },
    "nbTranslate": {
      "displayLangs": [
        "en",
        "es"
      ],
      "hotkey": "alt-a",
      "langInMainMenu": true,
      "sourceLang": "es",
      "targetLang": "en",
      "useGoogleTranslate": true
    },
    "toc": {
      "base_numbering": 1,
      "nav_menu": {},
      "number_sections": true,
      "sideBar": true,
      "skip_h1_title": true,
      "title_cell": "Table of Contents",
      "title_sidebar": "Contents",
      "toc_cell": true,
      "toc_position": {
        "height": "calc(100% - 180px)",
        "left": "10px",
        "top": "150px",
        "width": "253.097px"
      },
      "toc_section_display": true,
      "toc_window_display": false
    }
  },
  "nbformat": 4,
  "nbformat_minor": 5
}
