{
  "cells": [
    {
      "cell_type": "markdown",
      "metadata": {
        "lang": "en"
      },
      "source": [
        "# Estructuras de datos"
      ]
    },
    {
      "cell_type": "markdown",
      "metadata": {},
      "source": [
        "Hay 4 elementos en Python que nos permiten almacenar colecciones de datos.\n",
        "- Listas\n",
        "- Tuplas\n",
        "- Sets\n",
        "- Diccionarios"
      ]
    },
    {
      "cell_type": "code",
      "execution_count": null,
      "metadata": {},
      "outputs": [],
      "source": []
    },
    {
      "cell_type": "markdown",
      "metadata": {},
      "source": [
        "### Listas"
      ]
    },
    {
      "cell_type": "markdown",
      "metadata": {
        "lang": "en"
      },
      "source": [
        "Las listas pueden contener diferentes tipos de datos."
      ]
    },
    {
      "cell_type": "code",
      "execution_count": 11,
      "metadata": {},
      "outputs": [
        {
          "data": {
            "text/plain": [
              "['manzana', 'banana', 'cereza']"
            ]
          },
          "execution_count": 11,
          "metadata": {},
          "output_type": "execute_result"
        }
      ],
      "source": [
        "lista = ['manzana', 'banana', 'cereza']\n",
        "lista"
      ]
    },
    {
      "cell_type": "markdown",
      "metadata": {
        "lang": "en"
      },
      "source": [
        "#### Métodos de lista\n",
        "`append` Agrega un elemento al final de la lista."
      ]
    },
    {
      "cell_type": "code",
      "execution_count": 12,
      "metadata": {},
      "outputs": [
        {
          "data": {
            "text/plain": [
              "['manzana', 'banana', 'cereza', 'naranja']"
            ]
          },
          "execution_count": 12,
          "metadata": {},
          "output_type": "execute_result"
        }
      ],
      "source": [
        "lista.append('naranja')\n",
        "lista"
      ]
    },
    {
      "cell_type": "markdown",
      "metadata": {
        "lang": "en"
      },
      "source": [
        "`extend` Extiende la lista añadiéndole todos los elementos del iterable"
      ]
    },
    {
      "cell_type": "code",
      "execution_count": 13,
      "metadata": {},
      "outputs": [
        {
          "data": {
            "text/plain": [
              "['manzana', 'banana', 'cereza', 'naranja', 'kiwi', 'mango']"
            ]
          },
          "execution_count": 13,
          "metadata": {},
          "output_type": "execute_result"
        }
      ],
      "source": [
        "lista.extend(['kiwi', 'mango'])\n",
        "lista"
      ]
    },
    {
      "cell_type": "markdown",
      "metadata": {
        "lang": "en"
      },
      "source": [
        "`insert` Inserta un elemento en una posición dada. El primer argumento es el índice del elemento que se insertará antes, por lo que a.insert(0, x) inserta al principio de la lista y a.insert(len(a), x) es equivalente a a.append(x)."
      ]
    },
    {
      "cell_type": "code",
      "execution_count": 14,
      "metadata": {},
      "outputs": [
        {
          "data": {
            "text/plain": [
              "['manzana', 'fresa', 'banana', 'cereza', 'naranja', 'kiwi', 'mango']"
            ]
          },
          "execution_count": 14,
          "metadata": {},
          "output_type": "execute_result"
        }
      ],
      "source": [
        "lista.insert(1, 'fresa')\n",
        "lista"
      ]
    },
    {
      "cell_type": "code",
      "execution_count": 15,
      "metadata": {},
      "outputs": [
        {
          "data": {
            "text/plain": [
              "['manzana',\n",
              " 'fresa',\n",
              " ['pera', 'uva'],\n",
              " 'banana',\n",
              " 'cereza',\n",
              " 'naranja',\n",
              " 'kiwi',\n",
              " 'mango']"
            ]
          },
          "execution_count": 15,
          "metadata": {},
          "output_type": "execute_result"
        }
      ],
      "source": [
        "lista2 = ['pera', 'uva']\n",
        "lista.insert(2, lista2)\n",
        "lista"
      ]
    },
    {
      "cell_type": "markdown",
      "metadata": {
        "lang": "en"
      },
      "source": [
        "`remove` Elimina el primer elemento de la lista cuyo valor sea x. Lanza un ValueError si no existe dicho elemento."
      ]
    },
    {
      "cell_type": "code",
      "execution_count": 16,
      "metadata": {},
      "outputs": [
        {
          "data": {
            "text/plain": [
              "['manzana', 'fresa', 'banana', 'cereza', 'naranja', 'kiwi', 'mango']"
            ]
          },
          "execution_count": 16,
          "metadata": {},
          "output_type": "execute_result"
        }
      ],
      "source": [
        "lista.remove(lista2)\n",
        "lista"
      ]
    },
    {
      "cell_type": "code",
      "execution_count": 17,
      "metadata": {},
      "outputs": [
        {
          "data": {
            "text/plain": [
              "['manzana',\n",
              " 'fresa',\n",
              " 'banana',\n",
              " 'cereza',\n",
              " 'naranja',\n",
              " 'kiwi',\n",
              " 'mango',\n",
              " 'pera',\n",
              " 'uva']"
            ]
          },
          "execution_count": 17,
          "metadata": {},
          "output_type": "execute_result"
        }
      ],
      "source": [
        "lista.extend(lista2)\n",
        "lista"
      ]
    },
    {
      "cell_type": "markdown",
      "metadata": {
        "lang": "en"
      },
      "source": [
        "`pop` extrae el elemento de la lista en la posición indicada y lo devuelve. Si no se especifica ningún índice, a.pop() extrae y devuelve el último elemento de la lista."
      ]
    },
    {
      "cell_type": "code",
      "execution_count": 18,
      "metadata": {},
      "outputs": [
        {
          "data": {
            "text/plain": [
              "['fresa', 'banana', 'cereza', 'naranja', 'kiwi', 'mango', 'pera', 'uva']"
            ]
          },
          "execution_count": 18,
          "metadata": {},
          "output_type": "execute_result"
        }
      ],
      "source": [
        "lista.pop(0)\n",
        "lista"
      ]
    },
    {
      "cell_type": "markdown",
      "metadata": {
        "lang": "en"
      },
      "source": [
        "`clear` Elimina todos los elementos de la lista"
      ]
    },
    {
      "cell_type": "code",
      "execution_count": 20,
      "metadata": {},
      "outputs": [
        {
          "data": {
            "text/plain": [
              "[]"
            ]
          },
          "execution_count": 20,
          "metadata": {},
          "output_type": "execute_result"
        }
      ],
      "source": [
        "lista2.clear()\n",
        "lista2"
      ]
    },
    {
      "cell_type": "markdown",
      "metadata": {
        "lang": "en"
      },
      "source": [
        "`count` Devuelve el número de veces que x aparece en la lista."
      ]
    },
    {
      "cell_type": "code",
      "execution_count": 21,
      "metadata": {},
      "outputs": [
        {
          "data": {
            "text/plain": [
              "1"
            ]
          },
          "execution_count": 21,
          "metadata": {},
          "output_type": "execute_result"
        }
      ],
      "source": [
        "lista.count('banana')"
      ]
    },
    {
      "cell_type": "markdown",
      "metadata": {
        "lang": "en"
      },
      "source": [
        "`list.sort()` Véase también [sorted()](https://docs.python.org/3/howto/sorting.html)."
      ]
    },
    {
      "cell_type": "code",
      "execution_count": 27,
      "metadata": {},
      "outputs": [
        {
          "data": {
            "text/plain": [
              "['uva', 'pera', 'naranja', 'mango', 'kiwi', 'fresa', 'cereza', 'banana']"
            ]
          },
          "execution_count": 27,
          "metadata": {},
          "output_type": "execute_result"
        }
      ],
      "source": [
        "#Ordenar lista alfabéticamente inverso\n",
        "lista.sort(reverse=True)\n",
        "lista"
      ]
    },
    {
      "cell_type": "markdown",
      "metadata": {
        "lang": "en"
      },
      "source": [
        "`list.reverse()`\n",
        "Invierte los elementos de la lista en su lugar."
      ]
    },
    {
      "cell_type": "code",
      "execution_count": 28,
      "metadata": {},
      "outputs": [
        {
          "data": {
            "text/plain": [
              "['banana', 'cereza', 'fresa', 'kiwi', 'mango', 'naranja', 'pera', 'uva']"
            ]
          },
          "execution_count": 28,
          "metadata": {},
          "output_type": "execute_result"
        }
      ],
      "source": [
        "lista.reverse()\n",
        "lista"
      ]
    },
    {
      "cell_type": "markdown",
      "metadata": {
        "lang": "en"
      },
      "source": [
        "`slicing` no es un método como tal, pero podemos jugar con los elementos de las listas y sus posiciones"
      ]
    },
    {
      "cell_type": "code",
      "execution_count": 1,
      "metadata": {},
      "outputs": [],
      "source": [
        "lst_ = [1, 2, 3, 4, 5]\n",
        "lst_ = [\"Alberto-0\", \"Blanca-1\", \"Carlos-2\", \"Daniela-3\", \"Edgar-4\"]"
      ]
    },
    {
      "cell_type": "code",
      "execution_count": 2,
      "metadata": {},
      "outputs": [
        {
          "data": {
            "text/plain": [
              "'Edgar-4'"
            ]
          },
          "execution_count": 2,
          "metadata": {},
          "output_type": "execute_result"
        }
      ],
      "source": [
        "lst_[4]"
      ]
    },
    {
      "cell_type": "code",
      "execution_count": 3,
      "metadata": {},
      "outputs": [
        {
          "data": {
            "text/plain": [
              "5"
            ]
          },
          "execution_count": 3,
          "metadata": {},
          "output_type": "execute_result"
        }
      ],
      "source": [
        "len(lst_)"
      ]
    },
    {
      "cell_type": "code",
      "execution_count": 4,
      "metadata": {},
      "outputs": [
        {
          "data": {
            "text/plain": [
              "'Edgar-4'"
            ]
          },
          "execution_count": 4,
          "metadata": {},
          "output_type": "execute_result"
        }
      ],
      "source": [
        "lst_[-1]"
      ]
    },
    {
      "cell_type": "code",
      "execution_count": 5,
      "metadata": {},
      "outputs": [
        {
          "data": {
            "text/plain": [
              "['Edgar-4', 'Daniela-3', 'Carlos-2', 'Blanca-1', 'Alberto-0']"
            ]
          },
          "execution_count": 5,
          "metadata": {},
          "output_type": "execute_result"
        }
      ],
      "source": [
        "# [].reverse() -> invertir la lista tal y como está\n",
        "lst_[::-1]"
      ]
    },
    {
      "cell_type": "markdown",
      "metadata": {},
      "source": [
        "`start, step, stop`"
      ]
    },
    {
      "cell_type": "code",
      "execution_count": 6,
      "metadata": {},
      "outputs": [
        {
          "data": {
            "text/plain": [
              "['Alberto-0', 'Blanca-1', 'Carlos-2', 'Daniela-3', 'Edgar-4']"
            ]
          },
          "execution_count": 6,
          "metadata": {},
          "output_type": "execute_result"
        }
      ],
      "source": [
        "lst_[:] # índice: de principio a fin  "
      ]
    },
    {
      "cell_type": "code",
      "execution_count": 7,
      "metadata": {},
      "outputs": [
        {
          "data": {
            "text/plain": [
              "['Alberto-0', 'Blanca-1']"
            ]
          },
          "execution_count": 7,
          "metadata": {},
          "output_type": "execute_result"
        }
      ],
      "source": [
        "lst_[:2]\n",
        "# start: defecto (principio)\n",
        "# stop: el 2 -> que es en realidad el 0 y el 1"
      ]
    },
    {
      "cell_type": "code",
      "execution_count": 8,
      "metadata": {},
      "outputs": [
        {
          "data": {
            "text/plain": [
              "['Alberto-0', 'Blanca-1', 'Carlos-2', 'Daniela-3', 'Edgar-4']"
            ]
          },
          "execution_count": 8,
          "metadata": {},
          "output_type": "execute_result"
        }
      ],
      "source": [
        "lst_"
      ]
    },
    {
      "cell_type": "code",
      "execution_count": 9,
      "metadata": {},
      "outputs": [
        {
          "data": {
            "text/plain": [
              "['Carlos-2', 'Daniela-3']"
            ]
          },
          "execution_count": 9,
          "metadata": {},
          "output_type": "execute_result"
        }
      ],
      "source": [
        "lst_[2:4]"
      ]
    },
    {
      "cell_type": "code",
      "execution_count": 10,
      "metadata": {},
      "outputs": [
        {
          "data": {
            "text/plain": [
              "['Alberto-0', 'Blanca-1', 'Carlos-2', 'Daniela-3']"
            ]
          },
          "execution_count": 10,
          "metadata": {},
          "output_type": "execute_result"
        }
      ],
      "source": [
        "lst_[:4]"
      ]
    },
    {
      "cell_type": "code",
      "execution_count": 11,
      "metadata": {},
      "outputs": [
        {
          "data": {
            "text/plain": [
              "['Blanca-1', 'Carlos-2', 'Daniela-3', 'Edgar-4']"
            ]
          },
          "execution_count": 11,
          "metadata": {},
          "output_type": "execute_result"
        }
      ],
      "source": [
        "lst_[1:]"
      ]
    },
    {
      "cell_type": "code",
      "execution_count": 12,
      "metadata": {},
      "outputs": [
        {
          "data": {
            "text/plain": [
              "['Alberto-0', 'Blanca-1', 'Carlos-2', 'Daniela-3', 'Edgar-4']"
            ]
          },
          "execution_count": 12,
          "metadata": {},
          "output_type": "execute_result"
        }
      ],
      "source": [
        "lst_[::]"
      ]
    },
    {
      "cell_type": "code",
      "execution_count": 13,
      "metadata": {},
      "outputs": [
        {
          "data": {
            "text/plain": [
              "['Edgar-4', 'Daniela-3', 'Carlos-2', 'Blanca-1', 'Alberto-0']"
            ]
          },
          "execution_count": 13,
          "metadata": {},
          "output_type": "execute_result"
        }
      ],
      "source": [
        "lst_[::-1] # invierte"
      ]
    },
    {
      "cell_type": "code",
      "execution_count": 14,
      "metadata": {},
      "outputs": [
        {
          "data": {
            "text/plain": [
              "['Alberto-0', 'Carlos-2', 'Edgar-4']"
            ]
          },
          "execution_count": 14,
          "metadata": {},
          "output_type": "execute_result"
        }
      ],
      "source": [
        "lst_[::2] # step -> cada dos elementos"
      ]
    },
    {
      "cell_type": "code",
      "execution_count": 15,
      "metadata": {},
      "outputs": [
        {
          "data": {
            "text/plain": [
              "['Alberto-0', 'Daniela-3']"
            ]
          },
          "execution_count": 15,
          "metadata": {},
          "output_type": "execute_result"
        }
      ],
      "source": [
        "lst_[::3] # step -> cada tres elementos"
      ]
    },
    {
      "cell_type": "code",
      "execution_count": 16,
      "metadata": {},
      "outputs": [
        {
          "data": {
            "text/plain": [
              "['Alberto-0', 'Edgar-4']"
            ]
          },
          "execution_count": 16,
          "metadata": {},
          "output_type": "execute_result"
        }
      ],
      "source": [
        "lst_[::4] # step -> cada cuatro elementos"
      ]
    },
    {
      "cell_type": "code",
      "execution_count": 17,
      "metadata": {},
      "outputs": [
        {
          "data": {
            "text/plain": [
              "['Alberto-0']"
            ]
          },
          "execution_count": 17,
          "metadata": {},
          "output_type": "execute_result"
        }
      ],
      "source": [
        "lst_[::5] # step -> cada cinco elementos"
      ]
    },
    {
      "cell_type": "code",
      "execution_count": 18,
      "metadata": {},
      "outputs": [
        {
          "data": {
            "text/plain": [
              "['Blanca-1']"
            ]
          },
          "execution_count": 18,
          "metadata": {},
          "output_type": "execute_result"
        }
      ],
      "source": [
        "lst_[1:2]"
      ]
    },
    {
      "cell_type": "markdown",
      "metadata": {},
      "source": [
        "### Tuplas"
      ]
    },
    {
      "cell_type": "code",
      "execution_count": null,
      "metadata": {},
      "outputs": [],
      "source": [
        "# Data structures\n",
        "\n",
        "# listas: []\n",
        "# tuplas: ()\n",
        "# sets: {}\n",
        "# diccionarios: {:}"
      ]
    },
    {
      "cell_type": "code",
      "execution_count": null,
      "metadata": {},
      "outputs": [
        {
          "data": {
            "text/plain": [
              "('a', 'b')"
            ]
          },
          "metadata": {},
          "output_type": "display_data"
        }
      ],
      "source": [
        "(\"a\", \"b\")\n",
        "\n",
        "# Iterable\n",
        "# Está ordenado (los elementos se pueden identificar por posición/índice)\n",
        "# Puede contener cualquier tipo de dato/estructura\n",
        "# Pueden tener cosas repetidas (igual que las listas o las strs)"
      ]
    },
    {
      "cell_type": "markdown",
      "metadata": {
        "lang": "en"
      },
      "source": [
        "Las tuplas en Python son un tipo de datos o estructura que permite almacenar datos de forma muy similar a las listas, excepto que son inmutables. Por lo tanto, no podremos:\n",
        "- cambiar los elementos\n",
        "- agregar nuevos valores"
      ]
    },
    {
      "cell_type": "markdown",
      "metadata": {},
      "source": [
        "- Listas: []\n",
        "- Tuplas: (), contienen diferentes tipos de datos. Tienen menos métodos porque están pensadas para ser un poco más inmutables. Python las utiliza mucho a nivel interno. "
      ]
    },
    {
      "cell_type": "markdown",
      "metadata": {
        "lang": "en"
      },
      "source": [
        "Ventajas de las tuplas\n",
        "* Más rápidas\n",
        "* Los datos no se pueden modificar\n",
        "\n",
        "También es posible que utilicemos tuplas cuando queramos devolver múltiples valores en el `return` de una función"
      ]
    },
    {
      "cell_type": "code",
      "execution_count": null,
      "metadata": {},
      "outputs": [
        {
          "data": {
            "text/plain": [
              "['append',\n",
              " 'clear',\n",
              " 'copy',\n",
              " 'count',\n",
              " 'extend',\n",
              " 'index',\n",
              " 'insert',\n",
              " 'pop',\n",
              " 'remove',\n",
              " 'reverse',\n",
              " 'sort']"
            ]
          },
          "execution_count": 19,
          "metadata": {},
          "output_type": "execute_result"
        }
      ],
      "source": [
        "# Métodos de las listas sin los \"mágicos\"\n",
        "[i for i in dir([]) if \"_\" not in i]"
      ]
    },
    {
      "cell_type": "code",
      "execution_count": null,
      "metadata": {},
      "outputs": [],
      "source": [
        "# lista: para ser trabajada/transformda\n",
        "# tupla: información que no se planea que cambie tanto\n",
        "    # tupla: es más difícil de transformar"
      ]
    },
    {
      "cell_type": "code",
      "execution_count": null,
      "metadata": {},
      "outputs": [],
      "source": [
        "# python de forma interna utiliza / empaqueta las cosas en tuplas\n",
        "    # performance, python prefiere tuplas"
      ]
    },
    {
      "cell_type": "code",
      "execution_count": null,
      "metadata": {},
      "outputs": [
        {
          "data": {
            "text/plain": [
              "('Laura', 'Carlos', 'Carlos')"
            ]
          },
          "metadata": {},
          "output_type": "display_data"
        }
      ],
      "source": [
        "(\"Laura\", \"Carlos\", \"Carlos\")"
      ]
    },
    {
      "cell_type": "code",
      "execution_count": null,
      "metadata": {},
      "outputs": [
        {
          "data": {
            "text/plain": [
              "tuple"
            ]
          },
          "metadata": {},
          "output_type": "display_data"
        }
      ],
      "source": [
        "type((\"Laura\", \"Carlos\", \"Carlos\"))"
      ]
    },
    {
      "cell_type": "code",
      "execution_count": null,
      "metadata": {},
      "outputs": [
        {
          "name": "stdout",
          "output_type": "stream",
          "text": [
            "Laura\n",
            "Carlos\n",
            "Carlos\n"
          ]
        }
      ],
      "source": [
        "for i in (\"Laura\", \"Carlos\", \"Carlos\"):\n",
        "    print(i)"
      ]
    },
    {
      "cell_type": "code",
      "execution_count": null,
      "metadata": {},
      "outputs": [
        {
          "name": "stdout",
          "output_type": "stream",
          "text": [
            "Laura\n",
            "Carlos\n",
            "Carlos\n"
          ]
        }
      ],
      "source": [
        "for i in [\"Laura\", \"Carlos\", \"Carlos\"]:\n",
        "    print(i)"
      ]
    },
    {
      "cell_type": "code",
      "execution_count": null,
      "metadata": {},
      "outputs": [
        {
          "data": {
            "text/plain": [
              "('Laura',)"
            ]
          },
          "metadata": {},
          "output_type": "display_data"
        }
      ],
      "source": [
        "(\"Laura\", \"Carlos\", \"Carlos\")[0:1]"
      ]
    },
    {
      "cell_type": "code",
      "execution_count": null,
      "metadata": {},
      "outputs": [
        {
          "data": {
            "text/plain": [
              "['Laura']"
            ]
          },
          "metadata": {},
          "output_type": "display_data"
        }
      ],
      "source": [
        "[\"Laura\", \"Carlos\", \"Carlos\"][0:1]"
      ]
    },
    {
      "cell_type": "code",
      "execution_count": null,
      "metadata": {},
      "outputs": [
        {
          "data": {
            "text/plain": [
              "(1, 2, 3, '4', ['el cinco'])"
            ]
          },
          "execution_count": 22,
          "metadata": {},
          "output_type": "execute_result"
        }
      ],
      "source": [
        "tup_ = (1, 2, 3, \"4\", [\"el cinco\"])\n",
        "tup_\n",
        "# Si yo hago asi la tupla, todo bien porque admite cualquier tipo de dato"
      ]
    },
    {
      "cell_type": "code",
      "execution_count": null,
      "metadata": {},
      "outputs": [
        {
          "ename": "AttributeError",
          "evalue": "'tuple' object has no attribute 'append'",
          "output_type": "error",
          "traceback": [
            "\u001b[31m---------------------------------------------------------------------------\u001b[39m",
            "\u001b[31mAttributeError\u001b[39m                            Traceback (most recent call last)",
            "\u001b[36mCell\u001b[39m\u001b[36m \u001b[39m\u001b[32mIn[25]\u001b[39m\u001b[32m, line 1\u001b[39m\n\u001b[32m----> \u001b[39m\u001b[32m1\u001b[39m \u001b[43mtup_\u001b[49m\u001b[43m.\u001b[49m\u001b[43mappend\u001b[49m([\u001b[33m\"\u001b[39m\u001b[33mel cinco\u001b[39m\u001b[33m\"\u001b[39m])\n\u001b[32m      2\u001b[39m tup_\n",
            "\u001b[31mAttributeError\u001b[39m: 'tuple' object has no attribute 'append'"
          ]
        }
      ],
      "source": [
        "tup_.append([\"el cinco\"])\n",
        "tup_\n",
        "#Así no se puede porque las tuplas son inmutables"
      ]
    },
    {
      "cell_type": "code",
      "execution_count": 27,
      "metadata": {},
      "outputs": [
        {
          "data": {
            "text/plain": [
              "[1, 2, 3, '4', ['el cinco']]"
            ]
          },
          "execution_count": 27,
          "metadata": {},
          "output_type": "execute_result"
        }
      ],
      "source": [
        "tup_ = (1, 2, 3, \"4\")\n",
        "list_ = list(tup_)\n",
        "list_.append([\"el cinco\"])\n",
        "list_\n",
        "# Tengo que convertir la tupla en lista para poder modificarla"
      ]
    },
    {
      "cell_type": "markdown",
      "metadata": {},
      "source": [
        "-----------------------------"
      ]
    },
    {
      "cell_type": "markdown",
      "metadata": {},
      "source": [
        "##### Challenge 1: Tuplas\n",
        "\n",
        "¿Sabías que puedes crear tuplas con un solo elemento?\n",
        "\n",
        "**En la celda a continuación, define una variable `tup` con un solo elemento `\"p\"`.**<br>"
      ]
    },
    {
      "cell_type": "code",
      "execution_count": 28,
      "metadata": {},
      "outputs": [],
      "source": [
        "tup = ('p')"
      ]
    },
    {
      "cell_type": "markdown",
      "metadata": {},
      "source": [
        "#### Ahora intenta agregar los siguientes elementos a `tup`. \n",
        "\n",
        "¿Puedes hacerlo? Explícalo.\n",
        "\n",
        "```\n",
        "\"y\", \"t\", \"h\", \"o\", \"n\"\n",
        "```"
      ]
    },
    {
      "cell_type": "code",
      "execution_count": 31,
      "metadata": {},
      "outputs": [
        {
          "ename": "AttributeError",
          "evalue": "'str' object has no attribute 'insert'",
          "output_type": "error",
          "traceback": [
            "\u001b[31m---------------------------------------------------------------------------\u001b[39m",
            "\u001b[31mAttributeError\u001b[39m                            Traceback (most recent call last)",
            "\u001b[36mCell\u001b[39m\u001b[36m \u001b[39m\u001b[32mIn[31]\u001b[39m\u001b[32m, line 1\u001b[39m\n\u001b[32m----> \u001b[39m\u001b[32m1\u001b[39m \u001b[43mtup\u001b[49m\u001b[43m.\u001b[49m\u001b[43minsert\u001b[49m(\u001b[32m1\u001b[39m, \u001b[33m'\u001b[39m\u001b[33mq\u001b[39m\u001b[33m'\u001b[39m)\n\u001b[32m      2\u001b[39m tup\n\u001b[32m      3\u001b[39m \u001b[38;5;66;03m# No se puede porque las tuplas no tienen el método insert, append ni extend\u001b[39;00m\n",
            "\u001b[31mAttributeError\u001b[39m: 'str' object has no attribute 'insert'"
          ]
        }
      ],
      "source": [
        "tup.insert(1, 'q')\n",
        "tup\n",
        "# No se puede porque las tuplas no tienen el método insert, append ni extend"
      ]
    },
    {
      "cell_type": "markdown",
      "metadata": {},
      "source": [
        "#### Divida `tup` en `tup1` y `tup2` con 3 elementos en cada uno. \n",
        "\n",
        "`tup1` debería ser `(\"p\", \"y\", \"t)` y `tup2` debería ser `(\"h\", \"o\", \"n\")`.\n",
        "\n",
        "*Sugerencia: use números de índice positivos para la asignación de `tup1` y use números de índice negativos para la asignación de `tup2`. Los números de índice positivos cuentan desde el principio, mientras que los números de índice negativos cuentan desde el final de la secuencia.*\n",
        "\n",
        "También imprima `tup1` y `tup2`."
      ]
    },
    {
      "cell_type": "code",
      "execution_count": 32,
      "metadata": {},
      "outputs": [
        {
          "data": {
            "text/plain": [
              "('p', 'y', 't', 'h', 'o', 'n')"
            ]
          },
          "execution_count": 32,
          "metadata": {},
          "output_type": "execute_result"
        }
      ],
      "source": [
        "tup = (\"p\",\"y\", \"t\", \"h\", \"o\", \"n\")\n",
        "tup"
      ]
    },
    {
      "cell_type": "code",
      "execution_count": 37,
      "metadata": {},
      "outputs": [
        {
          "name": "stdout",
          "output_type": "stream",
          "text": [
            "('p', 'y', 't')\n",
            "('h', 'o', 'n')\n"
          ]
        }
      ],
      "source": [
        "tup1 = tup[:3]\n",
        "tup2 = tup[3:]\n",
        "print(tup1)\n",
        "print(tup2)"
      ]
    },
    {
      "cell_type": "markdown",
      "metadata": {},
      "source": [
        "#### Agregue `tup1` y `tup2` en `tup3` usando el operador `+`.\n",
        "\n",
        "Luego imprima `tup3` y verifique si `tup3` es igual a `tup`."
      ]
    },
    {
      "cell_type": "code",
      "execution_count": 39,
      "metadata": {},
      "outputs": [
        {
          "data": {
            "text/plain": [
              "('p', 'y', 't', 'h', 'o', 'n')"
            ]
          },
          "execution_count": 39,
          "metadata": {},
          "output_type": "execute_result"
        }
      ],
      "source": [
        "tup3 = tup1+ tup2\n",
        "tup3"
      ]
    },
    {
      "cell_type": "code",
      "execution_count": 41,
      "metadata": {},
      "outputs": [
        {
          "data": {
            "text/plain": [
              "True"
            ]
          },
          "execution_count": 41,
          "metadata": {},
          "output_type": "execute_result"
        }
      ],
      "source": [
        "#Verificar que tup3 es igual a tup\n",
        "tup3 == tup"
      ]
    },
    {
      "cell_type": "markdown",
      "metadata": {},
      "source": [
        "#### ¿Cuál es el número de índice de `\"h\"` en `tup3`?"
      ]
    },
    {
      "cell_type": "code",
      "execution_count": 42,
      "metadata": {},
      "outputs": [
        {
          "data": {
            "text/plain": [
              "3"
            ]
          },
          "execution_count": 42,
          "metadata": {},
          "output_type": "execute_result"
        }
      ],
      "source": [
        "#Localizar elemento en tupla\n",
        "tup.index('h')"
      ]
    },
    {
      "cell_type": "markdown",
      "metadata": {},
      "source": [
        "#### Ahora, usa un bucle FOR para verificar si cada letra de la siguiente lista está presente en `tup3`:\n",
        "\n",
        "```\n",
        "letters = [\"a\", \"b\", \"c\", \"d\", \"e\"]\n",
        "```\n",
        "\n",
        "Para cada letra que verifiques, imprime `True` si está presente en `tup3`, de lo contrario imprime `False`.\n",
        "\n",
        "*Sugerencia: solo necesitas hacer un bucle en `letters`. No necesitas hacer un bucle en `tup3` porque hay un operador de Python `in` que puedes usar. Consulta la [referencia](https://stackoverflow.com/questions/17920147/how-to-check-if-a-tuple-contains-an-element-in-python).*"
      ]
    },
    {
      "cell_type": "code",
      "execution_count": 58,
      "metadata": {},
      "outputs": [
        {
          "name": "stdout",
          "output_type": "stream",
          "text": [
            "letters: ['a', 'b', 'c', 'd', 'e']\n",
            "tup3: ('p', 'y', 't', 'h', 'o', 'n')\n",
            "a: NO\n",
            "b: NO\n",
            "c: NO\n",
            "d: NO\n",
            "e: NO\n"
          ]
        }
      ],
      "source": [
        "letters = [\"a\", \"b\", \"c\", \"d\", \"e\"]\n",
        "# Verificar si cada letra de letters está en la tupla tup3\n",
        "print('letters:',letters)\n",
        "print('tup3:',tup3)\n",
        "for letter in letters:\n",
        "    if letter in tup3:\n",
        "        print(f\"{letter}: Si\")\n",
        "    else:\n",
        "        print(f\"{letter}: NO\")\n"
      ]
    },
    {
      "cell_type": "markdown",
      "metadata": {},
      "source": [
        "#### ¿Cuántas veces aparece cada letra de `letters` en `tup3`?\n",
        "\n",
        "Imprime la cantidad de veces que aparece cada letra."
      ]
    },
    {
      "cell_type": "code",
      "execution_count": 60,
      "metadata": {},
      "outputs": [
        {
          "name": "stdout",
          "output_type": "stream",
          "text": [
            "0\n"
          ]
        }
      ],
      "source": [
        "counter=0\n",
        "for letter in tup3:\n",
        "    if letter in letters:\n",
        "        counter += 1\n",
        "print(counter)"
      ]
    },
    {
      "cell_type": "code",
      "execution_count": 70,
      "metadata": {},
      "outputs": [
        {
          "name": "stdout",
          "output_type": "stream",
          "text": [
            "letters: ['a', 'b', 'c', 'd', 'e']\n",
            "a: NO\n",
            "Contador actual: 0\n",
            "b: Si\n",
            "Contador actual: 1\n",
            "c: NO\n",
            "Contador actual: 1\n",
            "d: Si\n",
            "Contador actual: 2\n",
            "e: NO\n",
            "Contador actual: 2\n"
          ]
        }
      ],
      "source": [
        "tup4 = ('p','b', 't', 'd', 'o', 'n')\n",
        "print('letters:',letters)\n",
        "counter=0\n",
        "for letter in letters:\n",
        "    if letter in tup4:\n",
        "        print(f\"{letter}: Si\") \n",
        "        print('Contador actual:', counter)\n",
        "    else:\n",
        "        print(f\"{letter}: NO\")\n",
        "        print('Contador actual:', counter)\n",
        "        counter += 1"
      ]
    },
    {
      "cell_type": "markdown",
      "metadata": {},
      "source": [
        "-----------------------------"
      ]
    },
    {
      "cell_type": "markdown",
      "metadata": {
        "slideshow": {
          "slide_type": "notes"
        }
      },
      "source": [
        "### Sets (conjuntos)\n",
        "Los sets (conjuntos) se utilizan para almacenar varios elementos en una única variable. A diferencia de las listas, contienen elementos individuales y no tienen un orden."
      ]
    },
    {
      "attachments": {
        "image.png": {
          "image/png": "[encoded data removed]"
        }
      },
      "cell_type": "markdown",
      "metadata": {},
      "source": [
        "![image.png](attachment:image.png)"
      ]
    },
    {
      "cell_type": "code",
      "execution_count": null,
      "metadata": {},
      "outputs": [],
      "source": [
        "# []\n",
        "# ()\n",
        "# {} :sets\n",
        "# {:}"
      ]
    },
    {
      "cell_type": "code",
      "execution_count": null,
      "metadata": {},
      "outputs": [
        {
          "data": {
            "text/plain": [
              "set()"
            ]
          },
          "metadata": {},
          "output_type": "display_data"
        }
      ],
      "source": [
        "ej = set()\n",
        "ej"
      ]
    },
    {
      "cell_type": "code",
      "execution_count": null,
      "metadata": {},
      "outputs": [
        {
          "data": {
            "text/plain": [
              "{1, 2, 3}"
            ]
          },
          "metadata": {},
          "output_type": "display_data"
        }
      ],
      "source": [
        "set([1, 2, 3])"
      ]
    },
    {
      "cell_type": "code",
      "execution_count": null,
      "metadata": {},
      "outputs": [
        {
          "data": {
            "text/plain": [
              "{1, 2, 3}"
            ]
          },
          "metadata": {},
          "output_type": "display_data"
        }
      ],
      "source": [
        "set([1, 2, 2, 2, 3])"
      ]
    },
    {
      "cell_type": "code",
      "execution_count": null,
      "metadata": {},
      "outputs": [],
      "source": [
        "# un set no tiene valores repetidos\n",
        "# para ver los valores únicos de estructuras de datos\n",
        "# tabla: queramos ver valores únicos de fechas"
      ]
    },
    {
      "cell_type": "markdown",
      "metadata": {},
      "source": [
        "`add` Agrega un elemento al conjunto"
      ]
    },
    {
      "cell_type": "code",
      "execution_count": null,
      "metadata": {},
      "outputs": [],
      "source": [
        "set_a = {1, 2, 3, 4, 5}"
      ]
    },
    {
      "cell_type": "code",
      "execution_count": null,
      "metadata": {},
      "outputs": [],
      "source": [
        "set_b = {6, 7, 8, 9, 10}"
      ]
    },
    {
      "cell_type": "code",
      "execution_count": null,
      "metadata": {},
      "outputs": [],
      "source": [
        "set_a.add(6)"
      ]
    },
    {
      "cell_type": "code",
      "execution_count": null,
      "metadata": {},
      "outputs": [
        {
          "data": {
            "text/plain": [
              "{1, 2, 3, 4, 5, 6}"
            ]
          },
          "metadata": {},
          "output_type": "display_data"
        }
      ],
      "source": [
        "set_a"
      ]
    },
    {
      "cell_type": "markdown",
      "metadata": {
        "lang": "en"
      },
      "source": [
        "`clear` Borra todos los elementos del conjunto"
      ]
    },
    {
      "cell_type": "code",
      "execution_count": null,
      "metadata": {},
      "outputs": [],
      "source": []
    },
    {
      "cell_type": "markdown",
      "metadata": {
        "lang": "en"
      },
      "source": [
        "`copy` Devuelve una copia del conjunto"
      ]
    },
    {
      "cell_type": "code",
      "execution_count": null,
      "metadata": {},
      "outputs": [],
      "source": []
    },
    {
      "cell_type": "markdown",
      "metadata": {
        "lang": "en"
      },
      "source": [
        "`difference()` Devuelve un conjunto que contiene la diferencia entre dos o más conjuntos. Lo que realmente devuelve son los elementos que están SÓLO en el primer conjunto."
      ]
    },
    {
      "cell_type": "code",
      "execution_count": null,
      "metadata": {},
      "outputs": [
        {
          "data": {
            "text/plain": [
              "{1, 2, 3, 4, 5, 6}"
            ]
          },
          "metadata": {},
          "output_type": "display_data"
        }
      ],
      "source": [
        "set_a"
      ]
    },
    {
      "cell_type": "code",
      "execution_count": null,
      "metadata": {},
      "outputs": [
        {
          "data": {
            "text/plain": [
              "{6, 7, 8, 9, 10}"
            ]
          },
          "metadata": {},
          "output_type": "display_data"
        }
      ],
      "source": [
        "set_b"
      ]
    },
    {
      "cell_type": "code",
      "execution_count": null,
      "metadata": {},
      "outputs": [
        {
          "data": {
            "text/plain": [
              "{1, 2, 3, 4, 5}"
            ]
          },
          "metadata": {},
          "output_type": "display_data"
        }
      ],
      "source": [
        "set_a.difference(set_b)"
      ]
    },
    {
      "cell_type": "code",
      "execution_count": null,
      "metadata": {},
      "outputs": [],
      "source": []
    },
    {
      "cell_type": "markdown",
      "metadata": {},
      "source": [
        "`discard` y `remove`: el método incorporado discard() en Python elimina el elemento del conjunto solo si el elemento está presente en el conjunto. Si el elemento no está presente en el conjunto, no se genera ningún error ni excepción y se imprime el conjunto original."
      ]
    },
    {
      "cell_type": "markdown",
      "metadata": {
        "lang": "en"
      },
      "source": [
        "`discard` Elimina el elemento especificado"
      ]
    },
    {
      "cell_type": "code",
      "execution_count": null,
      "metadata": {},
      "outputs": [],
      "source": []
    },
    {
      "cell_type": "markdown",
      "metadata": {
        "lang": "en"
      },
      "source": [
        "`remove` Elimina el elemento especificado"
      ]
    },
    {
      "cell_type": "code",
      "execution_count": null,
      "metadata": {},
      "outputs": [],
      "source": []
    },
    {
      "cell_type": "markdown",
      "metadata": {
        "lang": "en"
      },
      "source": [
        "`intersection()` Devuelve un conjunto que es la intersección de dos o más conjuntos"
      ]
    },
    {
      "cell_type": "code",
      "execution_count": null,
      "metadata": {},
      "outputs": [
        {
          "data": {
            "text/plain": [
              "{6}"
            ]
          },
          "metadata": {},
          "output_type": "display_data"
        }
      ],
      "source": [
        "set_a.intersection(set_b)"
      ]
    },
    {
      "cell_type": "markdown",
      "metadata": {},
      "source": [
        "`issubset` Devuelve si otro conjunto contiene o no este conjunto"
      ]
    },
    {
      "cell_type": "code",
      "execution_count": null,
      "metadata": {},
      "outputs": [
        {
          "data": {
            "text/plain": [
              "True"
            ]
          },
          "metadata": {},
          "output_type": "display_data"
        }
      ],
      "source": [
        "set_c = {1, 2, 3, 4, 5}\n",
        "set_d =  {1, 2, 3, 4, 5, 6, 7, 8, 9, 10, 11}\n",
        "\n",
        "set_c.issubset(set_d) # boolean (is...)"
      ]
    },
    {
      "cell_type": "code",
      "execution_count": null,
      "metadata": {},
      "outputs": [
        {
          "data": {
            "text/plain": [
              "False"
            ]
          },
          "metadata": {},
          "output_type": "display_data"
        }
      ],
      "source": [
        "set_c = {1, 2, 3, 4, 5, 11}\n",
        "set_d =  {1, 2, 3, 4, 6, 7, 8, 9, 11}\n",
        "\n",
        "set_c.issubset(set_d) # boolean (is...)"
      ]
    },
    {
      "cell_type": "code",
      "execution_count": null,
      "metadata": {},
      "outputs": [],
      "source": [
        "# grupos / id_cliente / transacciones\n",
        "\n",
        "# entender relaciones\n",
        "# evaluar pertenencia\n",
        "# valores únicpos\n",
        "\n",
        "# SATISFACCIÓN: muy satisfecho, regular, regular, regular, no muy bien, muy satisfecho, estupendo, maravilloso...."
      ]
    },
    {
      "cell_type": "markdown",
      "metadata": {},
      "source": [
        "`issuperset` Devuelve si este conjunto contiene otro conjunto o no"
      ]
    },
    {
      "cell_type": "code",
      "execution_count": null,
      "metadata": {},
      "outputs": [
        {
          "data": {
            "text/plain": [
              "False"
            ]
          },
          "metadata": {},
          "output_type": "display_data"
        }
      ],
      "source": [
        "set_c = {1, 2, 3, 4, 5}\n",
        "set_d =  {1, 2, 3, 4, 5, 6, 7, 8, 9, 10, 11}\n",
        "\n",
        "set_c.issuperset(set_d) # boolean (is...)"
      ]
    },
    {
      "cell_type": "markdown",
      "metadata": {},
      "source": [
        "## Código"
      ]
    },
    {
      "cell_type": "markdown",
      "metadata": {
        "lang": "en"
      },
      "source": [
        "`pop` Elimina un elemento del conjunto. Elimina el primer elemento de un conjunto y, además, nos lo devuelve. Se diferencia de las listas que no tienen parámetros a los que pasar un índice."
      ]
    },
    {
      "cell_type": "code",
      "execution_count": null,
      "metadata": {},
      "outputs": [],
      "source": []
    },
    {
      "cell_type": "markdown",
      "metadata": {
        "lang": "en"
      },
      "source": [
        "`union` Devuelve un conjunto que contiene la unión de conjuntos"
      ]
    },
    {
      "cell_type": "code",
      "execution_count": null,
      "metadata": {},
      "outputs": [
        {
          "data": {
            "text/plain": [
              "{1, 2, 3, 4, 5, 6}"
            ]
          },
          "metadata": {},
          "output_type": "display_data"
        }
      ],
      "source": [
        "set_a"
      ]
    },
    {
      "cell_type": "code",
      "execution_count": null,
      "metadata": {},
      "outputs": [
        {
          "data": {
            "text/plain": [
              "{6, 7, 8, 9, 10}"
            ]
          },
          "metadata": {},
          "output_type": "display_data"
        }
      ],
      "source": [
        "set_b"
      ]
    },
    {
      "cell_type": "code",
      "execution_count": null,
      "metadata": {},
      "outputs": [
        {
          "data": {
            "text/plain": [
              "{1, 2, 3, 4, 5, 6, 7, 8, 9, 10}"
            ]
          },
          "metadata": {},
          "output_type": "display_data"
        }
      ],
      "source": [
        "set_a.union(set_b)"
      ]
    },
    {
      "cell_type": "markdown",
      "metadata": {
        "lang": "en"
      },
      "source": [
        "`update` Actualiza el conjunto con otro conjunto o cualquier otro iterable. No devuelve uno nuevo, solo actualiza el anterior."
      ]
    },
    {
      "cell_type": "code",
      "execution_count": null,
      "metadata": {},
      "outputs": [],
      "source": []
    },
    {
      "cell_type": "markdown",
      "metadata": {},
      "source": [
        "### 💪 Hands-on "
      ]
    },
    {
      "cell_type": "code",
      "execution_count": 71,
      "metadata": {},
      "outputs": [],
      "source": [
        "import random"
      ]
    },
    {
      "cell_type": "markdown",
      "metadata": {},
      "source": [
        "⚠️ ¿Te salió el mensaje: módulo no encontrado? Prueba en una celda: <br>\n",
        "`!pip install random`<br>\n",
        "`import random`"
      ]
    },
    {
      "cell_type": "markdown",
      "metadata": {},
      "source": [
        "#### En la celda siguiente, crea una lista llamada `sample_list_1` con 80 valores aleatorios. \n",
        "\n",
        "Requisitos:\n",
        "\n",
        "* Cada valor es un número entero comprendido entre 0 y 100.\n",
        "* Cada valor de la lista es único.\n",
        "\n",
        "Imprime `sample_list_1` para revisar sus valores\n",
        "\n",
        "*Sugerencia: usa `random.sample` ([referencia](https://docs.python.org/3/library/random.html#random.sample)).*"
      ]
    },
    {
      "cell_type": "code",
      "execution_count": 75,
      "metadata": {},
      "outputs": [
        {
          "data": {
            "text/plain": [
              "[80,\n",
              " 14,\n",
              " 92,\n",
              " 44,\n",
              " 85,\n",
              " 65,\n",
              " 27,\n",
              " 52,\n",
              " 54,\n",
              " 35,\n",
              " 22,\n",
              " 20,\n",
              " 1,\n",
              " 94,\n",
              " 63,\n",
              " 75,\n",
              " 16,\n",
              " 11,\n",
              " 49,\n",
              " 69,\n",
              " 87,\n",
              " 90,\n",
              " 56,\n",
              " 96,\n",
              " 4,\n",
              " 10,\n",
              " 76,\n",
              " 57,\n",
              " 60,\n",
              " 18,\n",
              " 13,\n",
              " 26,\n",
              " 72,\n",
              " 86,\n",
              " 81,\n",
              " 95,\n",
              " 29,\n",
              " 7,\n",
              " 68,\n",
              " 5,\n",
              " 42,\n",
              " 23,\n",
              " 3,\n",
              " 6,\n",
              " 36,\n",
              " 98,\n",
              " 45,\n",
              " 74,\n",
              " 53,\n",
              " 78,\n",
              " 39,\n",
              " 91,\n",
              " 73,\n",
              " 93,\n",
              " 32,\n",
              " 12,\n",
              " 34,\n",
              " 2,\n",
              " 61,\n",
              " 58,\n",
              " 48,\n",
              " 0,\n",
              " 83,\n",
              " 47,\n",
              " 77,\n",
              " 37,\n",
              " 38,\n",
              " 79,\n",
              " 67,\n",
              " 88,\n",
              " 46,\n",
              " 30,\n",
              " 55,\n",
              " 8,\n",
              " 64,\n",
              " 71,\n",
              " 89,\n",
              " 50,\n",
              " 9,\n",
              " 84]"
            ]
          },
          "execution_count": 75,
          "metadata": {},
          "output_type": "execute_result"
        }
      ],
      "source": [
        "sample_list_1 = random.sample(range(0, 100), k=80)\n",
        "sample_list_1"
      ]
    },
    {
      "cell_type": "markdown",
      "metadata": {},
      "source": [
        "#### Convierte `sample_list_1` en un conjunto llamado `set1`. Imprime la longitud del conjunto. ¿Su longitud sigue siendo 80?"
      ]
    },
    {
      "cell_type": "code",
      "execution_count": 96,
      "metadata": {},
      "outputs": [
        {
          "data": {
            "text/plain": [
              "{0,\n",
              " 1,\n",
              " 2,\n",
              " 3,\n",
              " 4,\n",
              " 5,\n",
              " 6,\n",
              " 7,\n",
              " 8,\n",
              " 9,\n",
              " 10,\n",
              " 11,\n",
              " 12,\n",
              " 13,\n",
              " 14,\n",
              " 16,\n",
              " 18,\n",
              " 20,\n",
              " 22,\n",
              " 23,\n",
              " 26,\n",
              " 27,\n",
              " 29,\n",
              " 30,\n",
              " 32,\n",
              " 34,\n",
              " 35,\n",
              " 36,\n",
              " 37,\n",
              " 38,\n",
              " 39,\n",
              " 42,\n",
              " 44,\n",
              " 45,\n",
              " 46,\n",
              " 47,\n",
              " 48,\n",
              " 49,\n",
              " 50,\n",
              " 52,\n",
              " 53,\n",
              " 54,\n",
              " 55,\n",
              " 56,\n",
              " 57,\n",
              " 58,\n",
              " 60,\n",
              " 61,\n",
              " 63,\n",
              " 64,\n",
              " 65,\n",
              " 67,\n",
              " 68,\n",
              " 69,\n",
              " 71,\n",
              " 72,\n",
              " 73,\n",
              " 74,\n",
              " 75,\n",
              " 76,\n",
              " 77,\n",
              " 78,\n",
              " 79,\n",
              " 80,\n",
              " 81,\n",
              " 83,\n",
              " 84,\n",
              " 85,\n",
              " 86,\n",
              " 87,\n",
              " 88,\n",
              " 89,\n",
              " 90,\n",
              " 91,\n",
              " 92,\n",
              " 93,\n",
              " 94,\n",
              " 95,\n",
              " 96,\n",
              " 98}"
            ]
          },
          "execution_count": 96,
          "metadata": {},
          "output_type": "execute_result"
        }
      ],
      "source": [
        "# Convertir sample_list_1 a conjunto\n",
        "set1 = set(sample_list_1)\n",
        "set1"
      ]
    },
    {
      "cell_type": "markdown",
      "metadata": {},
      "source": [
        "#### Crea otra lista llamada `sample_list_2` con 80 valores aleatorios.\n",
        "\n",
        "Requisitos:\n",
        "\n",
        "* Cada valor es un número entero comprendido entre 0 y 100.\n",
        "* Los valores de la lista no tienen que ser únicos.\n",
        "\n",
        "*Sugerencia: usa un bucle FOR.*"
      ]
    },
    {
      "cell_type": "code",
      "execution_count": 97,
      "metadata": {},
      "outputs": [],
      "source": [
        "sample_list_2 = random.sample(range(0, 100), k=80)\n"
      ]
    },
    {
      "cell_type": "code",
      "execution_count": 98,
      "metadata": {},
      "outputs": [
        {
          "data": {
            "text/plain": [
              "[82,\n",
              " 77,\n",
              " 18,\n",
              " 40,\n",
              " 85,\n",
              " 45,\n",
              " 100,\n",
              " 96,\n",
              " 43,\n",
              " 46,\n",
              " 19,\n",
              " 14,\n",
              " 98,\n",
              " 52,\n",
              " 13,\n",
              " 76,\n",
              " 8,\n",
              " 64,\n",
              " 63,\n",
              " 78,\n",
              " 6,\n",
              " 29,\n",
              " 51,\n",
              " 53,\n",
              " 14,\n",
              " 43,\n",
              " 51,\n",
              " 39,\n",
              " 62,\n",
              " 57,\n",
              " 38,\n",
              " 88,\n",
              " 10,\n",
              " 29,\n",
              " 39,\n",
              " 54,\n",
              " 32,\n",
              " 8,\n",
              " 99,\n",
              " 56,\n",
              " 90,\n",
              " 80,\n",
              " 41,\n",
              " 34,\n",
              " 10,\n",
              " 16,\n",
              " 31,\n",
              " 65,\n",
              " 86,\n",
              " 46,\n",
              " 21,\n",
              " 10,\n",
              " 51,\n",
              " 30,\n",
              " 75,\n",
              " 39,\n",
              " 69,\n",
              " 45,\n",
              " 82,\n",
              " 7,\n",
              " 48,\n",
              " 85,\n",
              " 53,\n",
              " 53,\n",
              " 6,\n",
              " 24,\n",
              " 47,\n",
              " 80,\n",
              " 6,\n",
              " 67,\n",
              " 52,\n",
              " 20,\n",
              " 34,\n",
              " 33,\n",
              " 36,\n",
              " 83,\n",
              " 10,\n",
              " 91,\n",
              " 2,\n",
              " 35]"
            ]
          },
          "execution_count": 98,
          "metadata": {},
          "output_type": "execute_result"
        }
      ],
      "source": [
        "#Crear sample_list_2 con un for\n",
        "sample_list_2 = []\n",
        "for _ in range(80):\n",
        "    sample_list_2.append(random.randint(0, 100))\n",
        "sample_list_2"
      ]
    },
    {
      "cell_type": "markdown",
      "metadata": {},
      "source": [
        "#### Convierte `sample_list_2` en un conjunto llamado `set2`. Imprime la longitud del conjunto. ¿Su longitud sigue siendo 80?"
      ]
    },
    {
      "cell_type": "code",
      "execution_count": 99,
      "metadata": {},
      "outputs": [],
      "source": [
        "set2 = set(sample_list_2)"
      ]
    },
    {
      "cell_type": "code",
      "execution_count": 102,
      "metadata": {},
      "outputs": [
        {
          "name": "stdout",
          "output_type": "stream",
          "text": [
            "sample_list_1:  80\n",
            "set1:  80\n",
            "sample_list_2:  80\n",
            "set2:  58\n"
          ]
        }
      ],
      "source": [
        "#Contar elementos en samples\n",
        "print('sample_list_1: ',len(sample_list_1)),\n",
        "print('set1: ',len(set1))\n",
        "print('sample_list_2: ',len(sample_list_2))\n",
        "print('set2: ',len(set2))"
      ]
    },
    {
      "cell_type": "markdown",
      "metadata": {},
      "source": [
        "#### Identifica los elementos presentes en `set1` pero no en `set2`. Asigna los elementos a un nuevo conjunto llamado `set3`."
      ]
    },
    {
      "cell_type": "code",
      "execution_count": 103,
      "metadata": {},
      "outputs": [],
      "source": [
        "# Encontrar elementos comunes entre dos sets\n",
        "set3 = set1.intersection(set2)"
      ]
    },
    {
      "cell_type": "markdown",
      "metadata": {},
      "source": [
        "#### Identifica los elementos presentes en `set2` pero no en `set1`. Asigna los elementos a un nuevo conjunto llamado `set4`."
      ]
    },
    {
      "cell_type": "code",
      "execution_count": 108,
      "metadata": {},
      "outputs": [
        {
          "data": {
            "text/plain": [
              "{19, 21, 24, 31, 33, 40, 41, 43, 51, 62, 82, 99, 100}"
            ]
          },
          "execution_count": 108,
          "metadata": {},
          "output_type": "execute_result"
        }
      ],
      "source": [
        "# Encontrar los elementos que solamente estan en set2\n",
        "set4 = set2.difference(set1)\n",
        "set4"
      ]
    },
    {
      "cell_type": "markdown",
      "metadata": {},
      "source": [
        "#### Ahora, identifica los elementos compartidos entre `set1` y `set2`. Asigna los elementos a un nuevo conjunto llamado `set5`."
      ]
    },
    {
      "cell_type": "code",
      "execution_count": 107,
      "metadata": {},
      "outputs": [
        {
          "data": {
            "text/plain": [
              "{0,\n",
              " 1,\n",
              " 2,\n",
              " 3,\n",
              " 4,\n",
              " 5,\n",
              " 6,\n",
              " 7,\n",
              " 8,\n",
              " 9,\n",
              " 10,\n",
              " 11,\n",
              " 12,\n",
              " 13,\n",
              " 14,\n",
              " 16,\n",
              " 18,\n",
              " 19,\n",
              " 20,\n",
              " 21,\n",
              " 22,\n",
              " 23,\n",
              " 24,\n",
              " 26,\n",
              " 27,\n",
              " 29,\n",
              " 30,\n",
              " 31,\n",
              " 32,\n",
              " 33,\n",
              " 34,\n",
              " 35,\n",
              " 36,\n",
              " 37,\n",
              " 38,\n",
              " 39,\n",
              " 40,\n",
              " 41,\n",
              " 42,\n",
              " 43,\n",
              " 44,\n",
              " 45,\n",
              " 46,\n",
              " 47,\n",
              " 48,\n",
              " 49,\n",
              " 50,\n",
              " 51,\n",
              " 52,\n",
              " 53,\n",
              " 54,\n",
              " 55,\n",
              " 56,\n",
              " 57,\n",
              " 58,\n",
              " 60,\n",
              " 61,\n",
              " 62,\n",
              " 63,\n",
              " 64,\n",
              " 65,\n",
              " 67,\n",
              " 68,\n",
              " 69,\n",
              " 71,\n",
              " 72,\n",
              " 73,\n",
              " 74,\n",
              " 75,\n",
              " 76,\n",
              " 77,\n",
              " 78,\n",
              " 79,\n",
              " 80,\n",
              " 81,\n",
              " 82,\n",
              " 83,\n",
              " 84,\n",
              " 85,\n",
              " 86,\n",
              " 87,\n",
              " 88,\n",
              " 89,\n",
              " 90,\n",
              " 91,\n",
              " 92,\n",
              " 93,\n",
              " 94,\n",
              " 95,\n",
              " 96,\n",
              " 98,\n",
              " 99,\n",
              " 100}"
            ]
          },
          "execution_count": 107,
          "metadata": {},
          "output_type": "execute_result"
        }
      ],
      "source": [
        "# Encontrar los elementos compartidos entre set1 y set2\n",
        "set5 = set1.union(set2)\n",
        "set5"
      ]
    },
    {
      "cell_type": "code",
      "execution_count": 109,
      "metadata": {},
      "outputs": [
        {
          "data": {
            "text/plain": [
              "{15, 17, 25, 28, 59, 66, 70, 97}"
            ]
          },
          "execution_count": 109,
          "metadata": {},
          "output_type": "execute_result"
        }
      ],
      "source": [
        "#Encontrar los elementos del 0 al 100 que no están en set1 ni en set2\n",
        "set_all = set(range(0,101))\n",
        "set_all.difference(set5)"
      ]
    },
    {
      "cell_type": "markdown",
      "metadata": {},
      "source": [
        "#### ¿Cuál es la relación entre los siguientes valores:\n",
        "\n",
        "* len(set1)\n",
        "* len(set2)\n",
        "* len(set3)\n",
        "* len(set4)\n",
        "* len(set5)\n",
        "\n",
        "Use una fórmula matemática para representar esa relación. Pruebe su fórmula con código Python. "
      ]
    },
    {
      "cell_type": "markdown",
      "metadata": {},
      "source": [
        "#### Elimina todos los elementos de la siguiente lista de `set1` si están presentes en el conjunto. Imprime los elementos restantes.\n",
        "\n",
        "```\n",
        "list_to_remove = [1, 9, 11, 19, 21, 29, 31, 39, 41, 49, 51, 59, 61, 69, 71, 79, 81, 89, 91, 99]\n",
        "```"
      ]
    },
    {
      "cell_type": "markdown",
      "metadata": {
        "lang": "en"
      },
      "source": [
        "### Diccionarios"
      ]
    },
    {
      "cell_type": "code",
      "execution_count": null,
      "metadata": {},
      "outputs": [],
      "source": []
    },
    {
      "cell_type": "markdown",
      "metadata": {
        "lang": "en"
      },
      "source": [
        "`clear` Elimina todos los elementos del diccionario"
      ]
    },
    {
      "cell_type": "code",
      "execution_count": null,
      "metadata": {},
      "outputs": [],
      "source": []
    },
    {
      "cell_type": "markdown",
      "metadata": {
        "lang": "en"
      },
      "source": [
        "`items()` Devuelve una lista que contiene una tupla para cada par clave-valor"
      ]
    },
    {
      "cell_type": "code",
      "execution_count": null,
      "metadata": {},
      "outputs": [],
      "source": []
    },
    {
      "cell_type": "markdown",
      "metadata": {
        "lang": "en"
      },
      "source": [
        "`keys` Devuelve una lista de las claves en el diccionario"
      ]
    },
    {
      "cell_type": "code",
      "execution_count": null,
      "metadata": {},
      "outputs": [],
      "source": []
    },
    {
      "cell_type": "markdown",
      "metadata": {
        "lang": "en"
      },
      "source": [
        "`values` Devuelve una lista de todos los valores del diccionario"
      ]
    },
    {
      "cell_type": "code",
      "execution_count": null,
      "metadata": {},
      "outputs": [],
      "source": []
    },
    {
      "cell_type": "markdown",
      "metadata": {
        "lang": "en"
      },
      "source": [
        "`pop()` Elimina el elemento con la clave especificada. Me devuelve el valor."
      ]
    },
    {
      "cell_type": "code",
      "execution_count": null,
      "metadata": {},
      "outputs": [],
      "source": []
    },
    {
      "cell_type": "markdown",
      "metadata": {
        "lang": "en"
      },
      "source": [
        "`popitem` Elimina el último par clave-valor insertado"
      ]
    },
    {
      "cell_type": "code",
      "execution_count": null,
      "metadata": {},
      "outputs": [],
      "source": []
    },
    {
      "cell_type": "markdown",
      "metadata": {
        "lang": "en"
      },
      "source": [
        "`update` Actualiza el diccionario con los pares clave-valor especificados"
      ]
    },
    {
      "cell_type": "code",
      "execution_count": null,
      "metadata": {},
      "outputs": [],
      "source": []
    },
    {
      "cell_type": "markdown",
      "metadata": {},
      "source": [
        "### 💪 Hands-on "
      ]
    },
    {
      "cell_type": "code",
      "execution_count": 128,
      "metadata": {},
      "outputs": [],
      "source": [
        "# Crear un diccionario de 3 estudiantes (María, Carlos y José) con su nombre y notas en Matemáticas, Biología, Física e Inglés\n",
        "estudiantes_dict = {\n",
        "    \"María\": {\"Matemáticas\": 8, \"Biología\": 7, \"Física\": 5, \"Inglés\": 5},\n",
        "    \"Carlos\": {\"Matemáticas\": 9, \"Biología\": 5, \"Física\": 6, \"Inglés\": 5},\n",
        "    \"José\": {\"Matemáticas\": 5, \"Biología\": 5, \"Física\": 5, \"Inglés\": 3}\n",
        "}\n"
      ]
    },
    {
      "cell_type": "code",
      "execution_count": 129,
      "metadata": {},
      "outputs": [],
      "source": [
        "# Agregar un estudiante con sus calificaciones: María tiene ha sacado un 8 en Matemáticas y un 7 en Biología, Carlos tiene un 6 en Física y un 9 en Matemáticas, José un 3 en Inglés"
      ]
    },
    {
      "cell_type": "code",
      "execution_count": 130,
      "metadata": {},
      "outputs": [
        {
          "name": "stdout",
          "output_type": "stream",
          "text": [
            "Estudiante: María\n",
            "  Matemáticas: 8\n",
            "  Biología: 7\n",
            "  Física: 5\n",
            "  Inglés: 5\n",
            "Estudiante: Carlos\n",
            "  Matemáticas: 9\n",
            "  Biología: 5\n",
            "  Física: 6\n",
            "  Inglés: 5\n",
            "Estudiante: José\n",
            "  Matemáticas: 5\n",
            "  Biología: 5\n",
            "  Física: 5\n",
            "  Inglés: 3\n"
          ]
        }
      ],
      "source": [
        "# Muestra todos los estudiantes y sus calificaciones: usando print & format\n",
        "for estudiante, notas in estudiantes_dict.items():\n",
        "    print(f\"Estudiante: {estudiante}\")\n",
        "    for asignatura, nota in notas.items():\n",
        "        print(f\"  {asignatura}: {nota}\")"
      ]
    },
    {
      "cell_type": "code",
      "execution_count": 131,
      "metadata": {},
      "outputs": [
        {
          "name": "stdout",
          "output_type": "stream",
          "text": [
            "El promedio de María es: 6.25\n"
          ]
        }
      ],
      "source": [
        "# Calcular el promedio de un estudiante\n",
        "nombre = \"María\"\n",
        "if nombre in estudiantes_dict:\n",
        "    notas = estudiantes_dict[nombre]\n",
        "    promedio = sum(notas.values()) / len(notas)\n",
        "    print(f\"El promedio de {nombre} es: {promedio:.2f}\")"
      ]
    },
    {
      "cell_type": "code",
      "execution_count": 132,
      "metadata": {},
      "outputs": [],
      "source": [
        "# Actualizar la calificación de un estudiante: Carlos va a revisión y le bajan la nota de Física a un 5\n",
        "estudiantes_dict[\"Carlos\"][\"Física\"] = 5\n"
      ]
    },
    {
      "cell_type": "code",
      "execution_count": 133,
      "metadata": {},
      "outputs": [
        {
          "data": {
            "text/plain": [
              "6.0"
            ]
          },
          "execution_count": 133,
          "metadata": {},
          "output_type": "execute_result"
        }
      ],
      "source": [
        "# Calcula la media de Carlos\n",
        "carlos_notas = estudiantes_dict[\"Carlos\"]\n",
        "carlos_promedio = sum(carlos_notas.values()) / len(carlos_notas)\n",
        "carlos_promedio"
      ]
    },
    {
      "cell_type": "code",
      "execution_count": 134,
      "metadata": {},
      "outputs": [
        {
          "data": {
            "text/plain": [
              "5.58"
            ]
          },
          "execution_count": 134,
          "metadata": {},
          "output_type": "execute_result"
        }
      ],
      "source": [
        "# Calcula la media la clase\n",
        "total_promedio = 0\n",
        "for notas in estudiantes_dict.values():\n",
        "    total_promedio += sum(notas.values()) / len(notas)\n",
        "total_promedio /= len(estudiantes_dict)\n",
        "round(total_promedio, 2)"
      ]
    },
    {
      "cell_type": "code",
      "execution_count": 135,
      "metadata": {},
      "outputs": [
        {
          "data": {
            "text/plain": [
              "['María', 'Carlos']"
            ]
          },
          "execution_count": 135,
          "metadata": {},
          "output_type": "execute_result"
        }
      ],
      "source": [
        "# ¿Qué alumnos han aprobado?\n",
        "estudiantes_aprobados = []\n",
        "for estudiante, notas in estudiantes_dict.items():\n",
        "    if all(nota >= 5 for nota in notas.values()):\n",
        "        estudiantes_aprobados.append(estudiante) \n",
        "estudiantes_aprobados"
      ]
    },
    {
      "cell_type": "markdown",
      "metadata": {
        "lang": "en"
      },
      "source": [
        "## Resumen\n",
        "Ahora te toca a ti, ¿qué hemos aprendido hoy?"
      ]
    },
    {
      "cell_type": "code",
      "execution_count": null,
      "metadata": {},
      "outputs": [],
      "source": []
    }
  ],
  "metadata": {
    "author": "https://github.com/breogann",
    "created": "2021",
    "kernelspec": {
      "display_name": ".venv2",
      "language": "python",
      "name": "python3"
    },
    "language_info": {
      "codemirror_mode": {
        "name": "ipython",
        "version": 3
      },
      "file_extension": ".py",
      "mimetype": "text/x-python",
      "name": "python",
      "nbconvert_exporter": "python",
      "pygments_lexer": "ipython3",
      "version": "3.14.0"
    },
    "nbTranslate": {
      "displayLangs": [
        "en",
        "es"
      ],
      "hotkey": "alt-a",
      "langInMainMenu": true,
      "sourceLang": "es",
      "targetLang": "en",
      "useGoogleTranslate": true
    },
    "toc": {
      "base_numbering": 1,
      "nav_menu": {},
      "number_sections": true,
      "sideBar": true,
      "skip_h1_title": true,
      "title_cell": "Table of Contents",
      "title_sidebar": "Contents",
      "toc_cell": true,
      "toc_position": {
        "height": "calc(100% - 180px)",
        "left": "10px",
        "top": "150px",
        "width": "222.891px"
      },
      "toc_section_display": true,
      "toc_window_display": false
    },
    "varInspector": {
      "cols": {
        "lenName": 16,
        "lenType": 16,
        "lenVar": 40
      },
      "kernels_config": {
        "python": {
          "delete_cmd_postfix": "",
          "delete_cmd_prefix": "del ",
          "library": "var_list.py",
          "varRefreshCmd": "print(var_dic_list())"
        },
        "r": {
          "delete_cmd_postfix": ") ",
          "delete_cmd_prefix": "rm(",
          "library": "var_list.r",
          "varRefreshCmd": "cat(var_dic_list()) "
        }
      },
      "types_to_exclude": [
        "module",
        "function",
        "builtin_function_or_method",
        "instance",
        "_Feature"
      ],
      "window_display": false
    }
  },
  "nbformat": 4,
  "nbformat_minor": 4
}
