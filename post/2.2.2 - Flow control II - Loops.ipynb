{
 "cells": [
  {
   "cell_type": "markdown",
   "id": "classical-passenger",
   "metadata": {},
   "source": [
    "## For"
   ]
  },
  {
   "cell_type": "code",
   "execution_count": 3,
   "id": "ff8e171e",
   "metadata": {},
   "outputs": [],
   "source": [
    "# Flow control \n",
    "    # if, elif, else\n",
    "    # truthies / falsies"
   ]
  },
  {
   "cell_type": "code",
   "execution_count": null,
   "id": "0433ea95",
   "metadata": {},
   "outputs": [],
   "source": [
    "# for \n",
    "# while\n",
    "\n",
    "\n",
    "# for -> iterar un iterable hasta que acabe: recorre todos los elementos que tenga\n",
    "# while -> recorrer HASTA que se cumpla una condición\n",
    "    # while -> ahsta el infinito\n"
   ]
  },
  {
   "cell_type": "markdown",
   "id": "fdb36275",
   "metadata": {
    "lang": "en"
   },
   "source": [
    "Es muy habitual escribir un código con bucles dentro de estas dos posibles situaciones:\n",
    "- 1: Cuando utilizamos un contador dentro de una repetición. El contador es una variable que aumenta o disminuye de forma constante en cada iteración del bucle hasta llegar a un valor límite que marca el final de las repeticiones.\n",
    "- 2: Cuando iteramos sobre los elementos de un contenedor, por ejemplo, una lista, para operar sobre cada uno de ellos. Además en este caso sabemos de antemano el número de repeticiones que se van a producir."
   ]
  },
  {
   "cell_type": "markdown",
   "id": "753d6746",
   "metadata": {
    "lang": "en"
   },
   "source": [
    "La sentencia For, en Python, permite iterar sobre secuencias de valores (listas o cadenas) según un orden establecido. A diferencia de otros lenguajes, con el for de Python no se definen contadores o expresiones que cambien en cada iteración, sino una secuencia sobre la que la variable contador tomará sus valores. En cualquier caso, es la opción más adecuada para resolver los dos casos anteriores...pongamos un ejemplo:"
   ]
  },
  {
   "cell_type": "code",
   "execution_count": null,
   "id": "1d32385e",
   "metadata": {},
   "outputs": [],
   "source": []
  },
  {
   "cell_type": "markdown",
   "id": "a968f25d",
   "metadata": {
    "lang": "en"
   },
   "source": [
    "La sentencia for, en Python, itera sobre colecciones. Por lo tanto, si necesitamos un contador que se incremente en cada iteración, Python proporciona la función range(), que genera listas de números enteros. Esta función permite generar secuencias y es bastante versátil, ya que podemos invocarla de diferentes maneras:"
   ]
  },
  {
   "cell_type": "code",
   "execution_count": null,
   "id": "65764289-d6b6-4ba7-938e-c370b5586ff6",
   "metadata": {},
   "outputs": [],
   "source": []
  },
  {
   "cell_type": "markdown",
   "id": "5109ef4d",
   "metadata": {
    "lang": "en"
   },
   "source": [
    "- Con un único argumento: genera números enteros que van desde 0 hasta el anterior indicado como parámetro:\n",
    "\n",
    "`range(int)`"
   ]
  },
  {
   "cell_type": "code",
   "execution_count": 7,
   "id": "5f916bd1",
   "metadata": {},
   "outputs": [
    {
     "data": {
      "text/plain": [
       "range(0, 0)"
      ]
     },
     "execution_count": 7,
     "metadata": {},
     "output_type": "execute_result"
    }
   ],
   "source": [
    "range(0) # Falsie -> False"
   ]
  },
  {
   "cell_type": "code",
   "execution_count": 10,
   "id": "56fa39be",
   "metadata": {},
   "outputs": [
    {
     "data": {
      "text/plain": [
       "range(0, 10)"
      ]
     },
     "execution_count": 10,
     "metadata": {},
     "output_type": "execute_result"
    }
   ],
   "source": [
    "range(10)"
   ]
  },
  {
   "cell_type": "code",
   "execution_count": 9,
   "id": "5e109ff0",
   "metadata": {},
   "outputs": [
    {
     "name": "stdout",
     "output_type": "stream",
     "text": [
      "0\n",
      "1\n",
      "2\n",
      "3\n",
      "4\n",
      "5\n",
      "6\n",
      "7\n",
      "8\n",
      "9\n"
     ]
    }
   ],
   "source": [
    "for i in range(10):\n",
    "    print(i)"
   ]
  },
  {
   "cell_type": "code",
   "execution_count": 13,
   "id": "5ed1b61f",
   "metadata": {},
   "outputs": [
    {
     "name": "stdout",
     "output_type": "stream",
     "text": [
      "5\n",
      "6\n",
      "7\n",
      "8\n",
      "9\n",
      "10\n",
      "11\n",
      "12\n",
      "13\n",
      "14\n",
      "15\n",
      "16\n",
      "17\n",
      "18\n",
      "19\n",
      "20\n"
     ]
    }
   ],
   "source": [
    "range(10) # 0-9\n",
    "for i in range(5, 21):\n",
    "    print(i)"
   ]
  },
  {
   "cell_type": "markdown",
   "id": "88f9f5a9",
   "metadata": {
    "lang": "en"
   },
   "source": [
    "- Con dos argumentos. El primer parámetro es el valor inicial y el segundo el valor por debajo del cual deben estar los elementos de la lista:\n",
    "\n",
    "`range(int, int)`"
   ]
  },
  {
   "cell_type": "code",
   "execution_count": null,
   "id": "57ccc729",
   "metadata": {},
   "outputs": [],
   "source": []
  },
  {
   "cell_type": "markdown",
   "id": "81739599",
   "metadata": {
    "lang": "en"
   },
   "source": [
    "- Con tres argumentos. Igual que el anterior, pero el tercer parámetro indica el incremento que se produce de un elemento al siguiente: `range(int, int, increment)`"
   ]
  },
  {
   "cell_type": "code",
   "execution_count": 17,
   "id": "f96e2fb5",
   "metadata": {},
   "outputs": [
    {
     "name": "stdout",
     "output_type": "stream",
     "text": [
      "5\n",
      "8\n",
      "11\n",
      "14\n",
      "17\n",
      "20\n"
     ]
    }
   ],
   "source": [
    "for i in range(5, 21, 3): # start, stop, step\n",
    "    print(i)"
   ]
  },
  {
   "cell_type": "code",
   "execution_count": 20,
   "id": "de19f941",
   "metadata": {},
   "outputs": [
    {
     "data": {
      "text/plain": [
       "range(0, 101, 2)"
      ]
     },
     "execution_count": 20,
     "metadata": {},
     "output_type": "execute_result"
    }
   ],
   "source": [
    "# los números de 1-100 pares\n",
    "range(0, 101, 2)"
   ]
  },
  {
   "cell_type": "markdown",
   "id": "closing-pound",
   "metadata": {
    "lang": "es"
   },
   "source": [
    "### Iterar a través de strings"
   ]
  },
  {
   "cell_type": "code",
   "execution_count": 21,
   "id": "04f52fd3",
   "metadata": {},
   "outputs": [
    {
     "name": "stdout",
     "output_type": "stream",
     "text": [
      "P\n",
      "a\n",
      "r\n",
      "a\n",
      " \n",
      "h\n",
      "a\n",
      "c\n",
      "e\n",
      "r\n",
      " \n",
      "u\n",
      "n\n",
      "a\n",
      " \n",
      "i\n",
      "t\n",
      "e\n",
      "r\n",
      "a\n",
      "c\n",
      "i\n",
      "ó\n",
      "n\n",
      " \n",
      "p\n",
      "o\n",
      "r\n",
      " \n",
      "u\n",
      "n\n",
      "a\n",
      " \n",
      "s\n",
      "t\n",
      "r\n",
      "_\n"
     ]
    }
   ],
   "source": [
    "str_ = \"Para hacer una iteración por una str_\"\n",
    "for i in str_:\n",
    "    print(i)"
   ]
  },
  {
   "cell_type": "code",
   "execution_count": null,
   "id": "ec47dbb8",
   "metadata": {},
   "outputs": [],
   "source": [
    "# Refactorizar\n",
    "    # Cambiar la forma sin cambiar la función, haciendo el código más limpio/eficiente/corto/simple"
   ]
  },
  {
   "cell_type": "code",
   "execution_count": null,
   "id": "97836f6e",
   "metadata": {},
   "outputs": [],
   "source": [
    "# comprehension lists\n",
    "# if / elif / else -> buclees"
   ]
  },
  {
   "cell_type": "code",
   "execution_count": 30,
   "id": "a63c8aab",
   "metadata": {},
   "outputs": [
    {
     "data": {
      "text/plain": [
       "'PR HCR N TRCÓN PR N STR_'"
      ]
     },
     "execution_count": 30,
     "metadata": {},
     "output_type": "execute_result"
    }
   ],
   "source": [
    "# Transformar una string en mayúsculas: cambiando sólo las consonantes y resto de caracteres\n",
    "    # aplicar el .upper()\n",
    "    # filrtar por vocales\n",
    "\n",
    "str_ = \"Para hacer una iteración por una str_\"\n",
    "str_upper_no_vowels = \"\"\n",
    "\n",
    "for i in str_:\n",
    "    if i not in \"aeiou\":\n",
    "        str_upper_no_vowels += i.upper()\n",
    "str_upper_no_vowels"
   ]
  },
  {
   "cell_type": "markdown",
   "id": "fef0c8a5",
   "metadata": {
    "lang": "en"
   },
   "source": [
    "### Iterar a través de una lista"
   ]
  },
  {
   "cell_type": "code",
   "execution_count": null,
   "id": "c41ae9aa",
   "metadata": {},
   "outputs": [],
   "source": [
    "# str.append()\n",
    "# [].append()"
   ]
  },
  {
   "cell_type": "code",
   "execution_count": 33,
   "id": "ef71cee6",
   "metadata": {},
   "outputs": [
    {
     "data": {
      "text/plain": [
       "['PLAY', 'BAR', 'DATE', 'THAT', 'STORY']"
      ]
     },
     "execution_count": 33,
     "metadata": {},
     "output_type": "execute_result"
    }
   ],
   "source": [
    "words = [\"play\", \"bar\", \"date\", \"that\", \"story\"]\n",
    "\n",
    "new_list = []\n",
    "\n",
    "for each_word in words:\n",
    "    # transforma\n",
    "    each_word = each_word.upper()\n",
    "    # se apendea a la new_list\n",
    "    new_list.append(each_word)\n",
    "new_list"
   ]
  },
  {
   "cell_type": "markdown",
   "id": "cd740c33",
   "metadata": {
    "lang": "en"
   },
   "source": [
    "### Iterar sobre los elementos de un diccionario"
   ]
  },
  {
   "cell_type": "code",
   "execution_count": 34,
   "id": "7386c5c4-6270-4a62-a430-c52cede9c36e",
   "metadata": {},
   "outputs": [
    {
     "data": {
      "text/plain": [
       "['append',\n",
       " 'clear',\n",
       " 'copy',\n",
       " 'count',\n",
       " 'extend',\n",
       " 'index',\n",
       " 'insert',\n",
       " 'pop',\n",
       " 'remove',\n",
       " 'reverse',\n",
       " 'sort']"
      ]
     },
     "execution_count": 34,
     "metadata": {},
     "output_type": "execute_result"
    }
   ],
   "source": [
    "# accecer a índice y elemento (enumerate)\n",
    "# teniendo el índice\n",
    "    # insert\n",
    "    # remove\n",
    "[i for i in dir([]) if \"_\" not in i]"
   ]
  },
  {
   "cell_type": "code",
   "execution_count": 38,
   "id": "f574c07b",
   "metadata": {},
   "outputs": [
    {
     "data": {
      "text/plain": [
       "['PLAY', 'bar', 'date', 'that', 'story']"
      ]
     },
     "execution_count": 38,
     "metadata": {},
     "output_type": "execute_result"
    }
   ],
   "source": [
    "\n",
    "words[0]  =\"PLAY\"\n",
    "words"
   ]
  },
  {
   "cell_type": "code",
   "execution_count": null,
   "id": "62f05d34",
   "metadata": {},
   "outputs": [],
   "source": []
  },
  {
   "cell_type": "markdown",
   "id": "6c57c1c6-b4bf-4dd0-b605-b1d6114cfaa9",
   "metadata": {},
   "source": [
    "### 💪 Hands-on\n",
    "\n",
    "```python\n",
    "import time\n",
    "\n",
    "def countdown(minutes, task=None):\n",
    "    counter = f\"Counting down: {minutes} minute{'s' if minutes > 1 else ''}... 🕰️.\"\n",
    "    if task != None: \n",
    "        counter += f\" Task: {task}\"\n",
    "    while minutes > 0:\n",
    "        print(counter)\n",
    "        time.sleep(60)\n",
    "        minutes -= 1\n",
    "    print(\"Time's up! 🎉\")\n",
    "````"
   ]
  },
  {
   "cell_type": "markdown",
   "id": "4d3529e8-0553-4915-8ed3-9d86ad3bea48",
   "metadata": {},
   "source": [
    "#### Palabras"
   ]
  },
  {
   "cell_type": "code",
   "execution_count": null,
   "id": "479c2425",
   "metadata": {},
   "outputs": [],
   "source": []
  },
  {
   "cell_type": "markdown",
   "id": "b62ebb5d-5cc9-4c0e-8fdf-f2d9fd8bb19f",
   "metadata": {},
   "source": [
    "**Imprime cada palabra en mayúsculas**"
   ]
  },
  {
   "cell_type": "code",
   "execution_count": null,
   "id": "92c0c7a9-8c6e-4469-8903-a31712cb97b1",
   "metadata": {},
   "outputs": [],
   "source": []
  },
  {
   "cell_type": "markdown",
   "id": "2a05e2f8-7ae1-4aa1-9ff0-9ea0f97c8eef",
   "metadata": {},
   "source": [
    "**Crea una nueva lista que contenga sólo palabras con 5 o más letras**"
   ]
  },
  {
   "cell_type": "code",
   "execution_count": null,
   "id": "7010913c-f5b6-4ef6-87e0-8720bb9438be",
   "metadata": {},
   "outputs": [],
   "source": []
  },
  {
   "cell_type": "markdown",
   "id": "783ddb0c-607c-4c0b-b36f-3269271197b0",
   "metadata": {},
   "source": [
    "**Imprime la primera palabra que empieza con \"t\"**"
   ]
  },
  {
   "cell_type": "code",
   "execution_count": null,
   "id": "0ab4408a-d0b4-4155-80e0-2a1238433864",
   "metadata": {},
   "outputs": [],
   "source": []
  },
  {
   "cell_type": "markdown",
   "id": "17832115",
   "metadata": {
    "lang": "en"
   },
   "source": [
    "## La sentencia \"while\"\n",
    "\n",
    "A veces queremos ejecutar un programa hasta que se cumpla una condición. Podemos lograrlo con la cláusula \"while\".\n",
    "\n",
    "**Nota:** ¡Cuidado con las recursiones infinitas!"
   ]
  },
  {
   "cell_type": "code",
   "execution_count": 5,
   "id": "2ea0675e",
   "metadata": {},
   "outputs": [
    {
     "name": "stdout",
     "output_type": "stream",
     "text": [
      "El saldo antes de sacar es 17\n",
      "BALANCE: 12\n",
      "\n",
      "El saldo antes de sacar es 12\n",
      "BALANCE: 7\n",
      "\n",
      "El saldo antes de sacar es 7\n",
      "BALANCE: 2\n",
      "\n"
     ]
    }
   ],
   "source": [
    "# for: iterar hasta que acabe: ciclos/ieraciones como elementos\n",
    "# while: HASTA CONDICIÓN\n",
    "import time\n",
    "\n",
    "dinero_cuenta = 17\n",
    "\n",
    "while dinero_cuenta >= 5:\n",
    "    #time.sleep(2)\n",
    "    print(f\"El saldo antes de sacar es {dinero_cuenta}\")\n",
    "    dinero_cuenta -=  5\n",
    "    print(f\"BALANCE: {dinero_cuenta}\\n\")"
   ]
  },
  {
   "cell_type": "markdown",
   "id": "ba1c5adf",
   "metadata": {
    "lang": "en"
   },
   "source": [
    "En el caso de while True, la expresión siempre se evaluará como verdadera por definición.\n",
    "Sería equivalente a:\n",
    "\n",
    "```python\n",
    "mientras true sea verdadero:\n",
    "hacer algo\n",
    "````"
   ]
  },
  {
   "cell_type": "code",
   "execution_count": null,
   "id": "ddf766df-8d54-45f3-8a15-521f9ecc4fe7",
   "metadata": {},
   "outputs": [],
   "source": []
  },
  {
   "cell_type": "markdown",
   "id": "587399ed",
   "metadata": {
    "lang": "en"
   },
   "source": [
    "🐒 - Escribimos un programa que le pide al usuario una letra entre a y d eternamente hasta que ingrese una correctamente."
   ]
  },
  {
   "cell_type": "code",
   "execution_count": 22,
   "id": "fe8559f5",
   "metadata": {},
   "outputs": [
    {
     "data": {
      "text/plain": [
       "'dCba'"
      ]
     },
     "execution_count": 22,
     "metadata": {},
     "output_type": "execute_result"
    }
   ],
   "source": [
    "letras = {\"a\", \"b\", \"C\", \"d\"}\n",
    "\"\".join(letras)"
   ]
  },
  {
   "cell_type": "code",
   "execution_count": null,
   "id": "c93f4a53",
   "metadata": {},
   "outputs": [],
   "source": [
    "# pide al usuario: input() - OK\n",
    "# a - d\n",
    "# cuando una correcta -> para. | while\n",
    "\n",
    "input_usuario = input(\"Introduce una letra de la A a la D: \")\n",
    "letras = {\"a\", \"b\", \"C\", \"d\"} # set: valores únicos sin orden\n",
    "\n",
    "while input_usuario not in letras:\n",
    "    print(f\"Esta letra {input_usuario} no está en las opciones disponibles, pon otra\")\n",
    "    input_usuario = input(\"Introduce una letra de la A a la D: \")\n",
    "print(f\"OK! Letra {input_usuario} es correcta ✅\")"
   ]
  },
  {
   "cell_type": "code",
   "execution_count": null,
   "id": "ec9159e9",
   "metadata": {},
   "outputs": [
    {
     "name": "stdout",
     "output_type": "stream",
     "text": [
      "PRIMER INTENTO: hhh\n",
      "Esta letra hhh no está en las opciones disponibles, pon otra\n",
      "Esta letra h no está en las opciones disponibles, pon otra\n",
      "Esta letra rirmf no está en las opciones disponibles, pon otra\n",
      "Esta letra df no está en las opciones disponibles, pon otra\n",
      "Esta letra dfa no está en las opciones disponibles, pon otra\n",
      "OK! Letra a es correcta ✅\n"
     ]
    }
   ],
   "source": [
    "# pide al usuario: input() - OK\n",
    "# a - d\n",
    "# cuando una correcta -> para. | while\n",
    "\n",
    "input_usuario = input(\"Fuera del bucle: \")\n",
    "print(f\"PRIMER INTENTO: {input_usuario}\")\n",
    "letras = {\"a\", \"b\", \"C\", \"d\"} # set: valores únicos sin orden\n",
    "\n",
    "while input_usuario.lower() not in \"\".join(letras).lower(): # False\n",
    "    print(f\"Esta letra {input_usuario} no está en las opciones disponibles, pon otra\")\n",
    "    input_usuario = input(\"Siguiente intento: \") # a\n",
    "    \n",
    "print(f\"OK! Letra {input_usuario} es correcta ✅\")"
   ]
  },
  {
   "cell_type": "code",
   "execution_count": 39,
   "id": "a15489da",
   "metadata": {},
   "outputs": [
    {
     "name": "stdout",
     "output_type": "stream",
     "text": [
      "PRIMER INTENTO: l\n",
      "Número de intentos acabados\n"
     ]
    }
   ],
   "source": [
    "n_tries = 1\n",
    "input_usuario = input(\"Fuera del bucle: \")\n",
    "print(f\"PRIMER INTENTO: {input_usuario}\")\n",
    "letras = {\"a\", \"b\", \"C\", \"d\"}\n",
    "\n",
    "while input_usuario.lower() not in \"\".join(letras).lower():\n",
    "    if n_tries < 3:\n",
    "        break\n",
    "    n_tries += 1\n",
    "    print(f\"Intento n: {n_tries} con letra {input_usuario}. Sigue intentando\")\n",
    "    input_usuario = input(\"Siguiente intento: \")\n",
    "\n",
    "print(f\"Número de intentos acabados\")"
   ]
  },
  {
   "cell_type": "code",
   "execution_count": 41,
   "id": "c48ac4fe",
   "metadata": {},
   "outputs": [
    {
     "data": {
      "text/plain": [
       "'\\ninput_usuario = input(\"introduce una letra de a a d\")\\n\\nletras = {\"a\", \"b\",\"c\", \"d\"}\\n\\n\"a\" is {\"a\", \"b\",\"c\", \"d\"} \\n\\nwhile input_usuario not in letras:\\n    print(f\"la letra {input_usuario}, no esta en las opciones\")\\n    input_usuario = input(\"introduce una letra de A a D\")\\n\\nprint(f\"la letra{input_usuario} esta bien\")\\n'"
      ]
     },
     "execution_count": 41,
     "metadata": {},
     "output_type": "execute_result"
    }
   ],
   "source": [
    "# Nicola\n",
    "\"\"\"\n",
    "input_usuario = input(\"introduce una letra de a a d\")\n",
    "\n",
    "letras = {\"a\", \"b\",\"c\", \"d\"}\n",
    "\n",
    "\"a\" is {\"a\", \"b\",\"c\", \"d\"} \n",
    "\n",
    "while input_usuario not in letras:\n",
    "    print(f\"la letra {input_usuario}, no esta en las opciones\")\n",
    "    input_usuario = input(\"introduce una letra de A a D\")\n",
    "\n",
    "print(f\"la letra{input_usuario} esta bien\")\n",
    "\"\"\""
   ]
  },
  {
   "cell_type": "code",
   "execution_count": 14,
   "id": "3e9a8f0b",
   "metadata": {},
   "outputs": [
    {
     "data": {
      "text/plain": [
       "{1, 5, 70}"
      ]
     },
     "execution_count": 14,
     "metadata": {},
     "output_type": "execute_result"
    }
   ],
   "source": [
    "letras = [\"a\", \"b\", \"C\", \"d\"]\n",
    "letras = \"abCd\"\n",
    "letras = {\"abCd\"} # no tiene orden, y por tanto no tiene posición\n",
    "letras = {1, 70, 5}\n",
    "letras"
   ]
  },
  {
   "cell_type": "markdown",
   "id": "6e351acd-2c06-4298-b6fb-001e3b60a01b",
   "metadata": {},
   "source": [
    "### 💪 Hands-on\n",
    "\n",
    "```python\n",
    "import time\n",
    "\n",
    "def countdown(minutes, task=None):\n",
    "    counter = f\"Counting down: {minutes} minute{'s' if minutes > 1 else ''}... 🕰️.\"\n",
    "    if task != None: \n",
    "        counter += f\" Task: {task}\"\n",
    "    while minutes > 0:\n",
    "        print(counter)\n",
    "        time.sleep(60)\n",
    "        minutes -= 1\n",
    "    print(\"Time's up! 🎉\")\n",
    "````"
   ]
  },
  {
   "cell_type": "markdown",
   "id": "41c89894-6eb8-4753-8cb9-632407e2b13b",
   "metadata": {},
   "source": [
    "#### Números"
   ]
  },
  {
   "cell_type": "markdown",
   "id": "363ed496-c625-4c4d-8e8e-2ecb095d92b8",
   "metadata": {},
   "source": [
    "**Crea una lista que contenga el cuadrado de cada número del 1 al 10**"
   ]
  },
  {
   "cell_type": "code",
   "execution_count": 69,
   "id": "46813719",
   "metadata": {},
   "outputs": [
    {
     "data": {
      "text/plain": [
       "[1, 4, 9, 16, 25, 36, 49, 64, 81, 100]"
      ]
     },
     "execution_count": 69,
     "metadata": {},
     "output_type": "execute_result"
    }
   ],
   "source": [
    "# Albert\n",
    "list_ = []\n",
    "\n",
    "for i in range(1, 11):\n",
    "    list_.append(i**2) #El +1 es porque el i va de 0 a 9 y pide enunciado de 1 a 10.\n",
    "list_"
   ]
  },
  {
   "cell_type": "code",
   "execution_count": null,
   "id": "fed464ef",
   "metadata": {},
   "outputs": [],
   "source": [
    "[i**2 for i in range(1, 11)] # Luis -> comprehension list\n",
    "\n",
    "\n",
    "# comprehension list: \n",
    "    # 1. Crea una lista\n",
    "    # 2. Hace un bucle\n",
    "    # Nos permite ahorrarnos el crear una lista vacía y luego apendear\n",
    "    # más eficientes y más cómodas/de escribir\n",
    "    # quizá no tan facil de leer -> se pueden hacer más complejas\n"
   ]
  },
  {
   "cell_type": "code",
   "execution_count": 70,
   "id": "0f00f56c",
   "metadata": {},
   "outputs": [
    {
     "data": {
      "text/plain": [
       "[1, 4, 9, 16, 25, 36, 49, 64, 81, 100]"
      ]
     },
     "execution_count": 70,
     "metadata": {},
     "output_type": "execute_result"
    }
   ],
   "source": [
    "[i**2 for i in range(1,11)] # Enric"
   ]
  },
  {
   "cell_type": "markdown",
   "id": "f5c112c8-5c0a-493c-9e31-e45558778135",
   "metadata": {},
   "source": [
    "**Crea una lista con los cuadrados de todos los múltiplos de 8 menores que 1000**"
   ]
  },
  {
   "cell_type": "code",
   "execution_count": 71,
   "id": "47603a19",
   "metadata": {},
   "outputs": [
    {
     "data": {
      "text/plain": [
       "125"
      ]
     },
     "execution_count": 71,
     "metadata": {},
     "output_type": "execute_result"
    }
   ],
   "source": [
    "# Óscar\n",
    "multiples_of_8 = []\n",
    "\n",
    "for i in range(1, 1001):\n",
    "\n",
    "    if i % 8 == 0: # si el resto es cero (si el resultado del módulo es cero) -> es divisible \n",
    "        multiples_of_8.append(i)\n",
    "len(multiples_of_8)"
   ]
  },
  {
   "cell_type": "code",
   "execution_count": null,
   "id": "2740af03-e926-4af0-be4b-89a51459df1a",
   "metadata": {},
   "outputs": [],
   "source": [
    "# Alexis\n",
    "[i for i in range(1, 1001) if i % 8 == 0]"
   ]
  },
  {
   "cell_type": "code",
   "execution_count": 73,
   "id": "ab5170ac",
   "metadata": {},
   "outputs": [
    {
     "data": {
      "text/plain": [
       "[0, 1, 4, 9, 16]"
      ]
     },
     "execution_count": 73,
     "metadata": {},
     "output_type": "execute_result"
    }
   ],
   "source": [
    "new_list = []\n",
    "for i in range(5):\n",
    "    if type(i) == int:\n",
    "        new_list.append(i**2)\n",
    "\n",
    "[i**2 for i in range(5) if type(i) == int]"
   ]
  },
  {
   "cell_type": "code",
   "execution_count": 83,
   "id": "e42d99b8",
   "metadata": {},
   "outputs": [
    {
     "data": {
      "text/plain": [
       "[1, 1.5, 2, 2.5, 3, 3.5, 4, 4.5]"
      ]
     },
     "execution_count": 83,
     "metadata": {},
     "output_type": "execute_result"
    }
   ],
   "source": [
    "list_of_lists = [[[1, 1.5], [2, 2.5]], [[3, 3.5], [4, 4.5]]]\n",
    "flattened_list = [] # [1, 1.5, 2, 2.5...]\n",
    "\n",
    "for primer_nivel in list_of_lists:\n",
    "    for segundo_nivel in primer_nivel:\n",
    "        for tercer_nivel in segundo_nivel:\n",
    "            flattened_list.append(tercer_nivel)\n",
    "flattened_list\n",
    "\n"
   ]
  },
  {
   "cell_type": "code",
   "execution_count": 115,
   "id": "ef2e150b",
   "metadata": {},
   "outputs": [],
   "source": [
    "lst_ = [[[[1, 1.5], [2, 2.5]], [[3, 3.5], [4, 4.5]]], [[[1, 1.5], [2, 2.5]], [[3, 3.5], [4, 4.5]]]]"
   ]
  },
  {
   "cell_type": "code",
   "execution_count": 116,
   "id": "353ef2a9",
   "metadata": {},
   "outputs": [
    {
     "name": "stdout",
     "output_type": "stream",
     "text": [
      "CPU times: user 10 µs, sys: 0 ns, total: 10 µs\n",
      "Wall time: 11 µs\n"
     ]
    }
   ],
   "source": [
    "%%time\n",
    "\n",
    "flattened_list = [] # [1, 1.5, 2, 2.5...]\n",
    "\n",
    "for j in lst_:\n",
    "    for k in j:\n",
    "        for l in k:\n",
    "            for s in l:\n",
    "                flattened_list.append(s**100)"
   ]
  },
  {
   "cell_type": "code",
   "execution_count": 117,
   "id": "adc9873f",
   "metadata": {},
   "outputs": [
    {
     "name": "stdout",
     "output_type": "stream",
     "text": [
      "CPU times: user 8 µs, sys: 0 ns, total: 8 µs\n",
      "Wall time: 9.06 µs\n"
     ]
    }
   ],
   "source": [
    "%%time\n",
    "flattened_list = [s**100 for j in lst_ for k in j for l in k for s in l]"
   ]
  },
  {
   "cell_type": "code",
   "execution_count": null,
   "id": "f7b63ce7",
   "metadata": {},
   "outputs": [],
   "source": [
    "# operadores mágicos"
   ]
  },
  {
   "cell_type": "code",
   "execution_count": null,
   "id": "5f88107f",
   "metadata": {},
   "outputs": [],
   "source": [
    "cuadrados_impares = [i**2 for i in range(1,11,2)]\n",
    "\n",
    "cuadrados_impares = [(i+1)**2 for i in range(10) if (i+1)%2 != 0]"
   ]
  },
  {
   "cell_type": "markdown",
   "id": "c25dce61",
   "metadata": {},
   "source": [
    "#### Crea una nueva lista que contenga sólo palabras con 5 o más letras"
   ]
  },
  {
   "cell_type": "code",
   "execution_count": 61,
   "id": "4e51db6f",
   "metadata": {},
   "outputs": [],
   "source": [
    "ciudades = [\"Córdoba\", \"Vitoria\", \"León\", \"Alicante\", \"Burgos\", \"Vigo\"]"
   ]
  },
  {
   "cell_type": "code",
   "execution_count": null,
   "id": "f6b39b59",
   "metadata": {},
   "outputs": [],
   "source": [
    "[w for w in ciudades if len(w) >= 5] # Alexis"
   ]
  },
  {
   "cell_type": "code",
   "execution_count": 68,
   "id": "e670e23f",
   "metadata": {},
   "outputs": [
    {
     "data": {
      "text/plain": [
       "{'rentable': ['Córdoba', 'Vitoria', 'Alicante', 'Burgos'],\n",
       " 'no_rentable': ['León', 'Vigo']}"
      ]
     },
     "execution_count": 68,
     "metadata": {},
     "output_type": "execute_result"
    }
   ],
   "source": [
    "size_cities = {\"rentable\": [],\n",
    "                \"no_rentable\": []}\n",
    "\n",
    "for ciudad in ciudades:\n",
    "    if len(ciudad) >= 5:\n",
    "        size_cities[\"rentable\"].append(ciudad)\n",
    "    else:\n",
    "        size_cities[\"no_rentable\"].append(ciudad)\n",
    "\n",
    "size_cities"
   ]
  },
  {
   "cell_type": "markdown",
   "id": "9af78e68",
   "metadata": {
    "lang": "en"
   },
   "source": [
    "## Pass, continue & break\n",
    "La sentencia pass no hace nada. Se puede utilizar cuando se requiere una sentencia de sintaxis pero el programa no requiere ninguna acción (de la [documentación](https://docs.python.org/3/tutorial/controlflow.html))\n",
    "\n",
    "Aunque nos sorprenda, es útil en varias situaciones. En Python no podemos tener un bloque de código indefinido (por ejemplo, el cuerpo de una función, el cuerpo de una condición o el cuerpo de un bucle). Por eso es común utilizar pass cuando estamos escribiendo la estructura de nuestro programa pero aún no hemos abordado la implementación de ciertos bloques de código."
   ]
  },
  {
   "cell_type": "code",
   "execution_count": null,
   "id": "77616664-a2e3-40da-8dcb-caebf7fb4d28",
   "metadata": {},
   "outputs": [],
   "source": [
    "n_tries = 1\n",
    "input_usuario = input(\"Fuera del bucle: \")\n",
    "print(f\"PRIMER INTENTO: {input_usuario}\")\n",
    "letras = {\"a\", \"b\", \"C\", \"d\"}\n",
    "\n",
    "while input_usuario.lower() not in \"\".join(letras).lower():\n",
    "    if n_tries < 3:\n",
    "        break\n",
    "    n_tries += 1\n",
    "    print(f\"Intento n: {n_tries} con letra {input_usuario}. Sigue intentando\")\n",
    "    input_usuario = input(\"Siguiente intento: \")\n",
    "\n",
    "print(f\"Número de intentos acabados\")"
   ]
  },
  {
   "cell_type": "markdown",
   "id": "9a7bc1ee",
   "metadata": {},
   "source": [
    "`pass`: ignora, hace cosas y pasa a la siguiente iteración"
   ]
  },
  {
   "cell_type": "code",
   "execution_count": 45,
   "id": "56d4b16a",
   "metadata": {},
   "outputs": [],
   "source": [
    "for i in range(10):\n",
    "    pass\n",
    "\n",
    "lst_ = []"
   ]
  },
  {
   "cell_type": "code",
   "execution_count": 47,
   "id": "547d18ab",
   "metadata": {},
   "outputs": [],
   "source": [
    "num = 15\n",
    "\n",
    "if num == 15:\n",
    "    pass\n",
    "elif num == 0:\n",
    "    print(f\"{num}\")"
   ]
  },
  {
   "cell_type": "code",
   "execution_count": 48,
   "id": "b892a457",
   "metadata": {},
   "outputs": [],
   "source": [
    "num = 15\n",
    "\n",
    "if num != 15:\n",
    "    print(f\"{num}\")"
   ]
  },
  {
   "cell_type": "markdown",
   "id": "6630b66a",
   "metadata": {},
   "source": [
    "`continue`: se detiene y pasa a la siguiente iteración"
   ]
  },
  {
   "cell_type": "code",
   "execution_count": 62,
   "id": "efcc1182",
   "metadata": {},
   "outputs": [
    {
     "name": "stdout",
     "output_type": "stream",
     "text": [
      "MADRID\n",
      "Segunda parte: El counter es 1 en iteración 0\n",
      "BARCELONA\n",
      "BILBAO\n",
      "JAÉN\n",
      "Segunda parte: El counter es 2 en iteración 3\n",
      "LLEIDA\n",
      "Segunda parte: El counter es 3 en iteración 4\n"
     ]
    }
   ],
   "source": [
    "lst_ = [\"Madrid\", \"Barcelona\", \"Bilbao\", \"Jaén\", \"Lleida\"]\n",
    "\n",
    "import time\n",
    "\n",
    "counter = 0\n",
    "for pos, i in enumerate(lst_):\n",
    "    time.sleep(2)\n",
    "\n",
    "    # 1. Primera parte\n",
    "    if i.startswith(\"B\"):\n",
    "        print(i.upper())\n",
    "        continue\n",
    "    else:\n",
    "        print(i.upper())\n",
    "\n",
    "    # 2. Segunda parte\n",
    "    counter += 1\n",
    "    print(f\"Segunda parte: El counter es {counter} en iteración {pos}\")\n",
    "\n",
    "  # pass: para y sigue hacia abajo (counter & print de counter se ejecuta)\n",
    "  # continue: para y sigue hacia la derecha (siguiente iteración) (counter & print de counter NO se ejecuta)\n",
    "  # break: para las iteraciones"
   ]
  },
  {
   "cell_type": "markdown",
   "id": "e873ede0",
   "metadata": {
    "lang": "en"
   },
   "source": [
    "## Recorremos las listas en iteración sobre su índice: `enumerate`\n",
    "- Funciones integradas --> https://docs.python.org/3/library/functions.html\n",
    "- Documentación de enumeración --> https://book.pythontips.com/en/latest/enumerate.html"
   ]
  },
  {
   "cell_type": "code",
   "execution_count": 52,
   "id": "5210470b",
   "metadata": {},
   "outputs": [
    {
     "name": "stdout",
     "output_type": "stream",
     "text": [
      "0 PLAY\n",
      "1 BAR\n",
      "2 DATE\n",
      "3 THAT\n",
      "4 STORY\n"
     ]
    }
   ],
   "source": [
    "# enumerate\n",
    "# range\n",
    "\n",
    "# 1. Itrear lista de palabras por elementos\n",
    "#for i in ...\n",
    "\n",
    "# 2. Iterar con un rango\n",
    "for i in range(len(words)):\n",
    "    #print(words[i])\n",
    "    words[i] = words[i].upper() \n",
    "    pass\n",
    "\n",
    "# 3. Iteramos por rango y elemento: enumerate\n",
    "for pos, elem in enumerate(words):\n",
    "    #words[pos] = elem.upper()\n",
    "    pass\n",
    "\n",
    "# 4. Iterar por el rango y el elemento: \n",
    "\n",
    "for pos, elem in zip(range(len(words)), words):\n",
    "    print(pos, elem)"
   ]
  },
  {
   "cell_type": "code",
   "execution_count": 56,
   "id": "63c70523",
   "metadata": {},
   "outputs": [
    {
     "name": "stdout",
     "output_type": "stream",
     "text": [
      "Laura vive en León\n",
      "Emma vive en Tarragona\n",
      "Claudia vive en Sevilla\n"
     ]
    }
   ],
   "source": [
    "# zip (zipper)\n",
    "\n",
    "nombres = [\"Laura\", \"Emma\", \"Claudia\"]\n",
    "ciudades = [\"León\", \"Tarragona\", \"Sevilla\"]\n",
    "\n",
    "for persona, ciudad in zip(nombres, ciudades):\n",
    "    print(f\"{persona} vive en {ciudad}\")\n",
    "\n",
    "# zip: iterar por iterables de forma correlativa"
   ]
  },
  {
   "cell_type": "code",
   "execution_count": 57,
   "id": "e366d4a6",
   "metadata": {},
   "outputs": [
    {
     "data": {
      "text/plain": [
       "27034.9"
      ]
     },
     "execution_count": 57,
     "metadata": {},
     "output_type": "execute_result"
    }
   ],
   "source": [
    "# zip (zipper)\n",
    "# Quiero sumar el resultado de aplicar un peso a cada reusltado individual -> obtener una puntuación calcualda\n",
    "\n",
    "resultados = [783, 343, 232]\n",
    "pesos = [1.3, 63, 19]\n",
    "\n",
    "resultado_final = 0\n",
    "\n",
    "for r, p in zip(resultados, pesos):\n",
    "    mult = r * p\n",
    "    resultado_final += mult\n",
    "\n",
    "resultado_final"
   ]
  },
  {
   "cell_type": "code",
   "execution_count": 41,
   "id": "d518238c",
   "metadata": {},
   "outputs": [
    {
     "data": {
      "text/plain": [
       "5"
      ]
     },
     "execution_count": 41,
     "metadata": {},
     "output_type": "execute_result"
    }
   ],
   "source": [
    "len(words)"
   ]
  },
  {
   "cell_type": "code",
   "execution_count": 42,
   "id": "1ab80457",
   "metadata": {},
   "outputs": [
    {
     "data": {
      "text/plain": [
       "'PLAY'"
      ]
     },
     "execution_count": 42,
     "metadata": {},
     "output_type": "execute_result"
    }
   ],
   "source": [
    "words[0]"
   ]
  },
  {
   "cell_type": "code",
   "execution_count": 44,
   "id": "de1eb88e",
   "metadata": {},
   "outputs": [
    {
     "ename": "IndexError",
     "evalue": "list index out of range",
     "output_type": "error",
     "traceback": [
      "\u001b[0;31m---------------------------------------------------------------------------\u001b[0m",
      "\u001b[0;31mIndexError\u001b[0m                                Traceback (most recent call last)",
      "\u001b[1;32m/Users/denisjimenez/Desktop/DATA/post/2.2.2 - Flow control II - Loops.ipynb Cell 65\u001b[0m line \u001b[0;36m1\n\u001b[0;32m----> <a href='vscode-notebook-cell:/Users/denisjimenez/Desktop/DATA/post/2.2.2%20-%20Flow%20control%20II%20-%20Loops.ipynb#Y151sZmlsZQ%3D%3D?line=0'>1</a>\u001b[0m words[\u001b[39m5\u001b[39;49m]\n",
      "\u001b[0;31mIndexError\u001b[0m: list index out of range"
     ]
    }
   ],
   "source": [
    "words[5]"
   ]
  },
  {
   "cell_type": "markdown",
   "id": "73b7e30f",
   "metadata": {
    "lang": "en"
   },
   "source": [
    "## Recorrer dos listas al mismo tiempo: `zip`"
   ]
  },
  {
   "cell_type": "markdown",
   "id": "af465221",
   "metadata": {
    "lang": "en"
   },
   "source": [
    "Os dejo la documentación en zip, recordad que no dará error si las listas son de distintos tamaños pero la última iteración será la de la lista más corta\n",
    "[DOC](https://docs.python.org/3/library/functions.html)"
   ]
  },
  {
   "cell_type": "code",
   "execution_count": 58,
   "id": "5712925e",
   "metadata": {},
   "outputs": [
    {
     "name": "stdout",
     "output_type": "stream",
     "text": [
      "Laura vive en León\n",
      "Emma vive en Tarragona\n"
     ]
    }
   ],
   "source": [
    "# zip (zipper)\n",
    "import time\n",
    "time.sleep(3)\n",
    "\n",
    "nombres = [\"Laura\", \"Emma\"]\n",
    "ciudades = [\"León\", \"Tarragona\", \"Sevilla\"]\n",
    "\n",
    "for persona, ciudad in zip(nombres, ciudades):\n",
    "    print(f\"{persona} vive en {ciudad}\")\n",
    "\n",
    "# 1. Error\n",
    "# 2. Se quede en Emma, tarragona\n",
    "# 3. Sevilla: np.nan"
   ]
  },
  {
   "cell_type": "markdown",
   "id": "a7f5de97",
   "metadata": {},
   "source": [
    "`zip_longest`: ¿qué pasa si quiero conservar la lista más larga?"
   ]
  },
  {
   "cell_type": "code",
   "execution_count": 60,
   "id": "08219f2f",
   "metadata": {},
   "outputs": [
    {
     "name": "stdout",
     "output_type": "stream",
     "text": [
      "Laura vive en León\n",
      "Emma vive en Tarragona\n",
      "None vive en Sevilla\n"
     ]
    }
   ],
   "source": [
    "from itertools import zip_longest\n",
    "\n",
    "nombres = [\"Laura\", \"Emma\"]\n",
    "ciudades = [\"León\", \"Tarragona\", \"Sevilla\"]\n",
    "\n",
    "for persona, ciudad in zip_longest(nombres, ciudades):\n",
    "    print(f\"{persona} vive en {ciudad}\")\n",
    "\n"
   ]
  },
  {
   "cell_type": "code",
   "execution_count": null,
   "id": "13687851",
   "metadata": {},
   "outputs": [],
   "source": [
    "# iterar:\n",
    "    # for\n",
    "    # range\n",
    "    # enumerate:\n",
    "        # for index, elem in enumerate(iterable)\n",
    "    # zip\n",
    "        # for elem_iter_1, elem_iter_2 in zip(iterable1, iterable2)\n",
    "        # combinado el zip con el enumerate -> range \n",
    "    # comprehension lists"
   ]
  },
  {
   "cell_type": "markdown",
   "id": "e9e10e43-0a9b-4b07-afa0-f5d750faaffa",
   "metadata": {},
   "source": [
    "### 💪 Hands-on\n",
    "\n",
    "```python\n",
    "import time\n",
    "\n",
    "def countdown(minutes, task=None):\n",
    "    counter = f\"Counting down: {minutes} minute{'s' if minutes > 1 else ''}... 🕰️.\"\n",
    "    if task != None: \n",
    "        counter += f\" Task: {task}\"\n",
    "    while minutes > 0:\n",
    "        print(counter)\n",
    "        time.sleep(60)\n",
    "        minutes -= 1\n",
    "    print(\"Time's up! 🎉\")\n",
    "````"
   ]
  },
  {
   "cell_type": "code",
   "execution_count": 72,
   "id": "05296a18",
   "metadata": {},
   "outputs": [
    {
     "data": {
      "text/plain": [
       "46"
      ]
     },
     "execution_count": 72,
     "metadata": {},
     "output_type": "execute_result"
    }
   ],
   "source": [
    "datetime.datetime.now().second"
   ]
  },
  {
   "cell_type": "code",
   "execution_count": 76,
   "id": "e0ad0fbf",
   "metadata": {},
   "outputs": [
    {
     "name": "stdout",
     "output_type": "stream",
     "text": [
      "El dinero restante es 97\n",
      "El dinero restante es 94\n",
      "El dinero restante es 91\n",
      "El dinero restante es 88\n"
     ]
    }
   ],
   "source": [
    "import datetime\n",
    "ahora = datetime.datetime.now()\n",
    "\n",
    "dinero = 100\n",
    "while dinero >= 1:\n",
    "    time.sleep(1)\n",
    "    dinero -= 3\n",
    "    print(f\"El dinero restante es {dinero}\")\n",
    "    despues = datetime.datetime.now()\n",
    "    if (despues.second - ahora.second) > 3:\n",
    "        break"
   ]
  },
  {
   "cell_type": "code",
   "execution_count": 68,
   "id": "15974f87",
   "metadata": {},
   "outputs": [
    {
     "data": {
      "text/plain": [
       "datetime.timedelta(seconds=5, microseconds=5246)"
      ]
     },
     "execution_count": 68,
     "metadata": {},
     "output_type": "execute_result"
    }
   ],
   "source": [
    "despues - ahora"
   ]
  },
  {
   "cell_type": "markdown",
   "id": "f9bc5473-acbe-49a1-9fbe-5f26f047517e",
   "metadata": {},
   "source": [
    "#### Gente"
   ]
  },
  {
   "cell_type": "code",
   "execution_count": 2,
   "id": "9b4eadb1-459f-43f7-a3af-04a3c939fb6c",
   "metadata": {},
   "outputs": [],
   "source": [
    "people = [\n",
    "    {\n",
    "        \"name\": \"Juan\",\n",
    "        \"age\": 34,\n",
    "        \"n_kids\": 2\n",
    "    },\n",
    "    {\n",
    "        \"name\": \"Pepe\",\n",
    "        \"age\": 27,\n",
    "        \"n_kids\": 0\n",
    "    },\n",
    "    {\n",
    "        \"name\": \"Sonia\",\n",
    "        \"age\": 41,\n",
    "        \"n_kids\": 1\n",
    "    },\n",
    "    {\n",
    "        \"name\": \"Lucía\",\n",
    "        \"age\": 22,\n",
    "        \"n_kids\": 2\n",
    "    },\n",
    "    {\n",
    "        \"name\": \"Leo\",\n",
    "        \"age\": 55,\n",
    "        \"n_kids\": 5\n",
    "    }\n",
    "]"
   ]
  },
  {
   "cell_type": "markdown",
   "id": "cc656d93-c2a1-4bf9-aeff-c43072878f0b",
   "metadata": {},
   "source": [
    "**¿Cuántas personas hay?**"
   ]
  },
  {
   "cell_type": "code",
   "execution_count": null,
   "id": "1a64f34c-d479-4864-9802-5b061dd87a68",
   "metadata": {},
   "outputs": [],
   "source": []
  },
  {
   "cell_type": "markdown",
   "id": "4b548673-46b8-4bff-8f3f-9778175aa063",
   "metadata": {},
   "source": [
    "**¿Cuántas personas tienen hijos?**"
   ]
  },
  {
   "cell_type": "code",
   "execution_count": null,
   "id": "d453bbf4-d9aa-470c-9958-2331c37d1161",
   "metadata": {},
   "outputs": [],
   "source": []
  },
  {
   "cell_type": "markdown",
   "id": "70c8374e-5f69-4ab4-884d-ae66e25a2334",
   "metadata": {},
   "source": [
    "**¿Cuántos hijos tienen en total?**"
   ]
  },
  {
   "cell_type": "code",
   "execution_count": null,
   "id": "4fc95f31-1160-4da3-b2e4-986774790f62",
   "metadata": {},
   "outputs": [],
   "source": []
  },
  {
   "cell_type": "markdown",
   "id": "cfd0618f-8717-4afc-bba8-bd333a42fba2",
   "metadata": {},
   "source": [
    "**Dentro de un año, los nombres que terminan con \"a\" tendrán un hijo más. Crea una lista de diccionarios con información de las personas dentro de un año**"
   ]
  },
  {
   "cell_type": "code",
   "execution_count": null,
   "id": "008078e7-cdfe-44f1-a87b-e5b94a689873",
   "metadata": {},
   "outputs": [],
   "source": []
  },
  {
   "cell_type": "markdown",
   "id": "5f8559a8",
   "metadata": {
    "lang": "en"
   },
   "source": [
    "## Resumen\n",
    "Ahora te toca a ti, ¿qué hemos aprendido hoy?"
   ]
  },
  {
   "cell_type": "code",
   "execution_count": null,
   "id": "b0492655",
   "metadata": {},
   "outputs": [],
   "source": []
  }
 ],
 "metadata": {
  "author": "https://github.com/breogann",
  "created": "2021",
  "kernelspec": {
   "display_name": "data",
   "language": "python",
   "name": "python3"
  },
  "language_info": {
   "codemirror_mode": {
    "name": "ipython",
    "version": 3
   },
   "file_extension": ".py",
   "mimetype": "text/x-python",
   "name": "python",
   "nbconvert_exporter": "python",
   "pygments_lexer": "ipython3",
   "version": "3.9.24"
  },
  "nbTranslate": {
   "displayLangs": [
    "en",
    "es"
   ],
   "hotkey": "alt-a",
   "langInMainMenu": true,
   "sourceLang": "es",
   "targetLang": "en",
   "useGoogleTranslate": true
  },
  "toc": {
   "base_numbering": 1,
   "nav_menu": {},
   "number_sections": true,
   "sideBar": true,
   "skip_h1_title": true,
   "title_cell": "Table of Contents",
   "title_sidebar": "Contents",
   "toc_cell": true,
   "toc_position": {
    "height": "calc(100% - 180px)",
    "left": "10px",
    "top": "150px",
    "width": "253.097px"
   },
   "toc_section_display": true,
   "toc_window_display": false
  }
 },
 "nbformat": 4,
 "nbformat_minor": 5
}
